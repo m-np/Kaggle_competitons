{
 "cells": [
  {
   "cell_type": "markdown",
   "id": "054cc60a",
   "metadata": {
    "_cell_guid": "b1076dfc-b9ad-4769-8c92-a6c4dae69d19",
    "_uuid": "8f2839f25d086af736a60e9eeb907d3b93b6e0e5",
    "papermill": {
     "duration": 0.007352,
     "end_time": "2024-07-08T16:21:07.086585",
     "exception": false,
     "start_time": "2024-07-08T16:21:07.079233",
     "status": "completed"
    },
    "tags": []
   },
   "source": [
    "This code is following the inference notebook shared [here](https://www.kaggle.com/code/samu2505/rsna-lumbar-inference-lb-0-84-cv-0-54) \n",
    "\n",
    "Training code link in the following [NB](https://www.kaggle.com/code/zoro666/rsna-2024-lumbar-spine-1)"
   ]
  },
  {
   "cell_type": "code",
   "execution_count": 1,
   "id": "c40bcb60",
   "metadata": {
    "execution": {
     "iopub.execute_input": "2024-07-08T16:21:07.101256Z",
     "iopub.status.busy": "2024-07-08T16:21:07.100923Z",
     "iopub.status.idle": "2024-07-08T16:21:18.766272Z",
     "shell.execute_reply": "2024-07-08T16:21:18.765483Z"
    },
    "papermill": {
     "duration": 11.675262,
     "end_time": "2024-07-08T16:21:18.768588",
     "exception": false,
     "start_time": "2024-07-08T16:21:07.093326",
     "status": "completed"
    },
    "tags": []
   },
   "outputs": [],
   "source": [
    "import os, gc, sys, copy, pickle\n",
    "from pathlib import Path\n",
    "import glob\n",
    "from tqdm.auto import tqdm\n",
    "tqdm.pandas()\n",
    "\n",
    "import math\n",
    "import random\n",
    "import pandas as pd\n",
    "import numpy as np\n",
    "import matplotlib.pyplot as plt\n",
    "\n",
    "from joblib import Parallel, delayed\n",
    "import multiprocessing as mp\n",
    "\n",
    "import albumentations as A\n",
    "import torch\n",
    "import torch.nn as nn\n",
    "import torch.optim as optim\n",
    "import torch.cuda.amp as amp\n",
    "import torch.nn.functional as F\n",
    "from torch.utils.data import DataLoader, Dataset\n",
    "import torchvision.transforms as transforms\n",
    "\n",
    "import pytorch_lightning as pl\n",
    "from pytorch_lightning.loggers import WandbLogger\n",
    "from pytorch_lightning.callbacks import LearningRateMonitor, ModelCheckpoint\n",
    "from pytorch_lightning.callbacks.early_stopping import EarlyStopping\n",
    "\n",
    "from torch.utils.data import WeightedRandomSampler\n",
    "from sklearn.utils.class_weight import compute_class_weight\n",
    "\n",
    "import timm\n",
    "\n",
    "import cv2\n",
    "cv2.setNumThreads(0)\n",
    "import PIL\n",
    "import pydicom\n",
    "import warnings\n",
    "warnings.filterwarnings(\"ignore\")"
   ]
  },
  {
   "cell_type": "code",
   "execution_count": 2,
   "id": "85c8e4c6",
   "metadata": {
    "execution": {
     "iopub.execute_input": "2024-07-08T16:21:18.784537Z",
     "iopub.status.busy": "2024-07-08T16:21:18.784243Z",
     "iopub.status.idle": "2024-07-08T16:21:18.790763Z",
     "shell.execute_reply": "2024-07-08T16:21:18.789950Z"
    },
    "papermill": {
     "duration": 0.016121,
     "end_time": "2024-07-08T16:21:18.792681",
     "exception": false,
     "start_time": "2024-07-08T16:21:18.776560",
     "status": "completed"
    },
    "tags": []
   },
   "outputs": [],
   "source": [
    "def seeding(SEED):\n",
    "    np.random.seed(SEED)\n",
    "    random.seed(SEED)\n",
    "    os.environ['PYTHONHASHSEED'] = str(SEED)\n",
    "    torch.manual_seed(SEED)\n",
    "    if torch.cuda.is_available(): \n",
    "        torch.cuda.manual_seed(SEED)\n",
    "        torch.cuda.manual_seed_all(SEED)\n",
    "        torch.backends.cudnn.deterministic = True\n",
    "        torch.backends.cudnn.benchmark = False\n",
    "#     os.environ['TF_CUDNN_DETERMINISTIC'] = str(SEED)\n",
    "#     tf.random.set_seed(SEED)\n",
    "#     keras.utils.set_random_seed(seed=SEED)\n",
    "    print('seeding done!!!')\n",
    "\n",
    "def flush():\n",
    "    gc.collect()\n",
    "    if torch.cuda.is_available():\n",
    "        torch.cuda.empty_cache()\n",
    "        torch.cuda.reset_peak_memory_stats()"
   ]
  },
  {
   "cell_type": "markdown",
   "id": "956b662c",
   "metadata": {
    "papermill": {
     "duration": 0.006471,
     "end_time": "2024-07-08T16:21:18.805899",
     "exception": false,
     "start_time": "2024-07-08T16:21:18.799428",
     "status": "completed"
    },
    "tags": []
   },
   "source": [
    "# Configurations"
   ]
  },
  {
   "cell_type": "code",
   "execution_count": 3,
   "id": "4e829f4f",
   "metadata": {
    "execution": {
     "iopub.execute_input": "2024-07-08T16:21:18.820327Z",
     "iopub.status.busy": "2024-07-08T16:21:18.819994Z",
     "iopub.status.idle": "2024-07-08T16:21:18.850069Z",
     "shell.execute_reply": "2024-07-08T16:21:18.849093Z"
    },
    "papermill": {
     "duration": 0.039622,
     "end_time": "2024-07-08T16:21:18.852117",
     "exception": false,
     "start_time": "2024-07-08T16:21:18.812495",
     "status": "completed"
    },
    "tags": []
   },
   "outputs": [
    {
     "name": "stdout",
     "output_type": "stream",
     "text": [
      "seeding done!!!\n"
     ]
    }
   ],
   "source": [
    "CONFIG = dict(\n",
    "    project_name = \"RSNA-2024-Lumbar-Spine-Classification-Torch-RZoro\",\n",
    "    artifact_name = \"rsnaEffNetModel\",\n",
    "    load_kernel = None,\n",
    "    load_last = True,\n",
    "    n_folds = 5,\n",
    "    backbone = \"efficientnet_b0.ra_in1k\", # tf_efficientnetv2_s_in21ft1k\n",
    "    img_size = 384,\n",
    "    n_slice_per_c = 16,\n",
    "    in_chans = 3,\n",
    "\n",
    "    drop_rate = 0.,\n",
    "    drop_rate_last = 0.3,\n",
    "    drop_path_rate = 0.,\n",
    "    p_mixup = 0.5,\n",
    "    p_rand_order_v1 = 0.2,\n",
    "    lr = 4e-4, # 1e-3, 8e-4, 5e-4, 4e-4\n",
    "\n",
    "    out_dim = 3,\n",
    "    epochs = 50,\n",
    "    batch_size = 16,\n",
    "#     patience = 7,\n",
    "    device = torch.device(\"cuda:0\") if torch.cuda.is_available() else \"cpu\",\n",
    "    seed = 2024,\n",
    "    log_wandb = True,\n",
    "    with_clip = True,\n",
    ")\n",
    "\n",
    "CONFIG['patience'] = math.ceil(0.2 * CONFIG['epochs'])\n",
    "\n",
    "seeding(CONFIG['seed'])"
   ]
  },
  {
   "cell_type": "code",
   "execution_count": 4,
   "id": "f723a6ba",
   "metadata": {
    "execution": {
     "iopub.execute_input": "2024-07-08T16:21:18.867176Z",
     "iopub.status.busy": "2024-07-08T16:21:18.866857Z",
     "iopub.status.idle": "2024-07-08T16:21:18.875567Z",
     "shell.execute_reply": "2024-07-08T16:21:18.874715Z"
    },
    "papermill": {
     "duration": 0.018157,
     "end_time": "2024-07-08T16:21:18.877366",
     "exception": false,
     "start_time": "2024-07-08T16:21:18.859209",
     "status": "completed"
    },
    "tags": []
   },
   "outputs": [
    {
     "data": {
      "text/plain": [
       "['sample_submission.csv',\n",
       " 'train_images',\n",
       " 'train_series_descriptions.csv',\n",
       " 'train.csv',\n",
       " 'train_label_coordinates.csv',\n",
       " 'test_series_descriptions.csv',\n",
       " 'test_images']"
      ]
     },
     "execution_count": 4,
     "metadata": {},
     "output_type": "execute_result"
    }
   ],
   "source": [
    "DATA_PATH = Path(\"/kaggle/input/rsna-2024-lumbar-spine-degenerative-classification\")\n",
    "os.listdir(DATA_PATH)"
   ]
  },
  {
   "cell_type": "code",
   "execution_count": 5,
   "id": "1e0b798d",
   "metadata": {
    "execution": {
     "iopub.execute_input": "2024-07-08T16:21:18.892427Z",
     "iopub.status.busy": "2024-07-08T16:21:18.892158Z",
     "iopub.status.idle": "2024-07-08T16:21:18.940256Z",
     "shell.execute_reply": "2024-07-08T16:21:18.939468Z"
    },
    "papermill": {
     "duration": 0.058311,
     "end_time": "2024-07-08T16:21:18.942585",
     "exception": false,
     "start_time": "2024-07-08T16:21:18.884274",
     "status": "completed"
    },
    "tags": []
   },
   "outputs": [],
   "source": [
    "sample_df = pd.read_csv(DATA_PATH/\"sample_submission.csv\")\n",
    "test_desc = pd.read_csv(DATA_PATH/\"test_series_descriptions.csv\")\n",
    "train_desc = pd.read_csv(DATA_PATH/\"train_series_descriptions.csv\")\n",
    "train_main = pd.read_csv(DATA_PATH/\"train.csv\")"
   ]
  },
  {
   "cell_type": "markdown",
   "id": "2326d22d",
   "metadata": {
    "papermill": {
     "duration": 0.006619,
     "end_time": "2024-07-08T16:21:18.957029",
     "exception": false,
     "start_time": "2024-07-08T16:21:18.950410",
     "status": "completed"
    },
    "tags": []
   },
   "source": [
    "# Create dataset"
   ]
  },
  {
   "cell_type": "code",
   "execution_count": 6,
   "id": "81a8ebf2",
   "metadata": {
    "execution": {
     "iopub.execute_input": "2024-07-08T16:21:18.972161Z",
     "iopub.status.busy": "2024-07-08T16:21:18.971827Z",
     "iopub.status.idle": "2024-07-08T16:21:19.028472Z",
     "shell.execute_reply": "2024-07-08T16:21:19.027573Z"
    },
    "papermill": {
     "duration": 0.066491,
     "end_time": "2024-07-08T16:21:19.030491",
     "exception": false,
     "start_time": "2024-07-08T16:21:18.964000",
     "status": "completed"
    },
    "tags": []
   },
   "outputs": [
    {
     "data": {
      "text/html": [
       "<div>\n",
       "<style scoped>\n",
       "    .dataframe tbody tr th:only-of-type {\n",
       "        vertical-align: middle;\n",
       "    }\n",
       "\n",
       "    .dataframe tbody tr th {\n",
       "        vertical-align: top;\n",
       "    }\n",
       "\n",
       "    .dataframe thead th {\n",
       "        text-align: right;\n",
       "    }\n",
       "</style>\n",
       "<table border=\"1\" class=\"dataframe\">\n",
       "  <thead>\n",
       "    <tr style=\"text-align: right;\">\n",
       "      <th></th>\n",
       "      <th>study_id</th>\n",
       "      <th>series_id</th>\n",
       "      <th>series_description</th>\n",
       "      <th>image_path</th>\n",
       "      <th>condition</th>\n",
       "      <th>row_id</th>\n",
       "      <th>target</th>\n",
       "    </tr>\n",
       "  </thead>\n",
       "  <tbody>\n",
       "    <tr>\n",
       "      <th>0</th>\n",
       "      <td>44036939</td>\n",
       "      <td>2828203845</td>\n",
       "      <td>Sagittal T1</td>\n",
       "      <td>/kaggle/input/rsna-2024-lumbar-spine-degenerat...</td>\n",
       "      <td>left_neural_foraminal_narrowing</td>\n",
       "      <td>44036939_left_neural_foraminal_narrowing</td>\n",
       "      <td>0</td>\n",
       "    </tr>\n",
       "    <tr>\n",
       "      <th>1</th>\n",
       "      <td>44036939</td>\n",
       "      <td>2828203845</td>\n",
       "      <td>Sagittal T1</td>\n",
       "      <td>/kaggle/input/rsna-2024-lumbar-spine-degenerat...</td>\n",
       "      <td>left_neural_foraminal_narrowing</td>\n",
       "      <td>44036939_left_neural_foraminal_narrowing</td>\n",
       "      <td>0</td>\n",
       "    </tr>\n",
       "    <tr>\n",
       "      <th>2</th>\n",
       "      <td>44036939</td>\n",
       "      <td>2828203845</td>\n",
       "      <td>Sagittal T1</td>\n",
       "      <td>/kaggle/input/rsna-2024-lumbar-spine-degenerat...</td>\n",
       "      <td>left_neural_foraminal_narrowing</td>\n",
       "      <td>44036939_left_neural_foraminal_narrowing</td>\n",
       "      <td>0</td>\n",
       "    </tr>\n",
       "    <tr>\n",
       "      <th>3</th>\n",
       "      <td>44036939</td>\n",
       "      <td>2828203845</td>\n",
       "      <td>Sagittal T1</td>\n",
       "      <td>/kaggle/input/rsna-2024-lumbar-spine-degenerat...</td>\n",
       "      <td>left_neural_foraminal_narrowing</td>\n",
       "      <td>44036939_left_neural_foraminal_narrowing</td>\n",
       "      <td>0</td>\n",
       "    </tr>\n",
       "    <tr>\n",
       "      <th>4</th>\n",
       "      <td>44036939</td>\n",
       "      <td>2828203845</td>\n",
       "      <td>Sagittal T1</td>\n",
       "      <td>/kaggle/input/rsna-2024-lumbar-spine-degenerat...</td>\n",
       "      <td>left_neural_foraminal_narrowing</td>\n",
       "      <td>44036939_left_neural_foraminal_narrowing</td>\n",
       "      <td>0</td>\n",
       "    </tr>\n",
       "  </tbody>\n",
       "</table>\n",
       "</div>"
      ],
      "text/plain": [
       "   study_id   series_id series_description  \\\n",
       "0  44036939  2828203845        Sagittal T1   \n",
       "1  44036939  2828203845        Sagittal T1   \n",
       "2  44036939  2828203845        Sagittal T1   \n",
       "3  44036939  2828203845        Sagittal T1   \n",
       "4  44036939  2828203845        Sagittal T1   \n",
       "\n",
       "                                          image_path  \\\n",
       "0  /kaggle/input/rsna-2024-lumbar-spine-degenerat...   \n",
       "1  /kaggle/input/rsna-2024-lumbar-spine-degenerat...   \n",
       "2  /kaggle/input/rsna-2024-lumbar-spine-degenerat...   \n",
       "3  /kaggle/input/rsna-2024-lumbar-spine-degenerat...   \n",
       "4  /kaggle/input/rsna-2024-lumbar-spine-degenerat...   \n",
       "\n",
       "                         condition                                    row_id  \\\n",
       "0  left_neural_foraminal_narrowing  44036939_left_neural_foraminal_narrowing   \n",
       "1  left_neural_foraminal_narrowing  44036939_left_neural_foraminal_narrowing   \n",
       "2  left_neural_foraminal_narrowing  44036939_left_neural_foraminal_narrowing   \n",
       "3  left_neural_foraminal_narrowing  44036939_left_neural_foraminal_narrowing   \n",
       "4  left_neural_foraminal_narrowing  44036939_left_neural_foraminal_narrowing   \n",
       "\n",
       "   target  \n",
       "0       0  \n",
       "1       0  \n",
       "2       0  \n",
       "3       0  \n",
       "4       0  "
      ]
     },
     "execution_count": 6,
     "metadata": {},
     "output_type": "execute_result"
    }
   ],
   "source": [
    "# define the base path for test images\n",
    "base_path = f\"{str(DATA_PATH)}/test_images\"\n",
    "\n",
    "# function to get image paths for a series\n",
    "def get_image_paths(row):\n",
    "    series_path = os.path.join(base_path, str(row['study_id']), str(row['series_id']))\n",
    "    if os.path.exists(series_path):\n",
    "        return [\n",
    "            os.path.join(series_path, f) for f in os.listdir(series_path) if os.path.isfile(os.path.join(series_path, f))\n",
    "        ]\n",
    "    return []\n",
    "\n",
    "# Mapping of series_description to conditions\n",
    "condition_mapping = {\n",
    "    'Sagittal T1': {'left': 'left_neural_foraminal_narrowing', 'right': 'right_neural_foraminal_narrowing'},\n",
    "    'Axial T2': {'left': 'left_subarticular_stenosis', 'right': 'right_subarticular_stenosis'},\n",
    "    'Sagittal T2/STIR': 'spinal_canal_stenosis'\n",
    "}\n",
    "\n",
    "# Create a list to store the expanded rows\n",
    "expanded_rows = []\n",
    "\n",
    "# Expand the dataframe by adding new rows for each file path\n",
    "for index, row in test_desc.iterrows():\n",
    "    image_paths = get_image_paths(row)\n",
    "    conditions = condition_mapping.get(row['series_description'], {})\n",
    "    if isinstance(conditions, str):  # Single condition\n",
    "        conditions = {'left': conditions, 'right': conditions}\n",
    "    for side, condition in conditions.items():\n",
    "        for image_path in image_paths:\n",
    "            expanded_rows.append({\n",
    "                'study_id': row['study_id'],\n",
    "                'series_id': row['series_id'],\n",
    "                'series_description': row['series_description'],\n",
    "                'image_path': image_path,\n",
    "                'condition': condition,\n",
    "                'row_id': f\"{row['study_id']}_{condition}\"\n",
    "            })\n",
    "\n",
    "# Create a new dataframe from the expanded rows\n",
    "expanded_test_desc = pd.DataFrame(expanded_rows)\n",
    "\n",
    "test_data = expanded_test_desc.copy()\n",
    "test_data['target'] = 0\n",
    "test_data.head()"
   ]
  },
  {
   "cell_type": "code",
   "execution_count": 7,
   "id": "8aa3ab4b",
   "metadata": {
    "execution": {
     "iopub.execute_input": "2024-07-08T16:21:19.047289Z",
     "iopub.status.busy": "2024-07-08T16:21:19.046972Z",
     "iopub.status.idle": "2024-07-08T16:21:19.051321Z",
     "shell.execute_reply": "2024-07-08T16:21:19.050562Z"
    },
    "papermill": {
     "duration": 0.015262,
     "end_time": "2024-07-08T16:21:19.053231",
     "exception": false,
     "start_time": "2024-07-08T16:21:19.037969",
     "status": "completed"
    },
    "tags": []
   },
   "outputs": [],
   "source": [
    "label2id = {\"Normal/Mild\": 0, \"Moderate\": 1, \"Severe\": 2}\n",
    "id2label = {v:k for k,v in label2id.items()}"
   ]
  },
  {
   "cell_type": "code",
   "execution_count": 8,
   "id": "bdb619ae",
   "metadata": {
    "execution": {
     "iopub.execute_input": "2024-07-08T16:21:19.068478Z",
     "iopub.status.busy": "2024-07-08T16:21:19.068207Z",
     "iopub.status.idle": "2024-07-08T16:21:19.073077Z",
     "shell.execute_reply": "2024-07-08T16:21:19.072319Z"
    },
    "papermill": {
     "duration": 0.014605,
     "end_time": "2024-07-08T16:21:19.074879",
     "exception": false,
     "start_time": "2024-07-08T16:21:19.060274",
     "status": "completed"
    },
    "tags": []
   },
   "outputs": [],
   "source": [
    "def load_dicom(path):\n",
    "    dicom = pydicom.read_file(path)\n",
    "    data = dicom.pixel_array\n",
    "    data = data - np.min(data)\n",
    "    if np.max(data) != 0:\n",
    "        data = data / np.max(data)\n",
    "    data = (data * 255).astype(np.uint8)\n",
    "    return data"
   ]
  },
  {
   "cell_type": "code",
   "execution_count": 9,
   "id": "913f69cd",
   "metadata": {
    "execution": {
     "iopub.execute_input": "2024-07-08T16:21:19.090716Z",
     "iopub.status.busy": "2024-07-08T16:21:19.090445Z",
     "iopub.status.idle": "2024-07-08T16:21:19.097841Z",
     "shell.execute_reply": "2024-07-08T16:21:19.097010Z"
    },
    "papermill": {
     "duration": 0.017566,
     "end_time": "2024-07-08T16:21:19.099657",
     "exception": false,
     "start_time": "2024-07-08T16:21:19.082091",
     "status": "completed"
    },
    "tags": []
   },
   "outputs": [],
   "source": [
    "class CustomDataset(Dataset):\n",
    "    def __init__(self, dataframe, transform=None, label_name='target'):\n",
    "        self.dataframe = dataframe\n",
    "        self.transform = transform\n",
    "        self.label = dataframe.loc[:, label_name]\n",
    "\n",
    "    def __len__(self):\n",
    "        return len(self.dataframe)\n",
    "\n",
    "    def __getitem__(self, index):\n",
    "        image_path = self.dataframe['image_path'][index]\n",
    "        image = load_dicom(image_path)  # Define this function to load your DICOM images\n",
    "        target = self.dataframe['target'][index]\n",
    "        \n",
    "        if self.transform:\n",
    "            image = cv2.cvtColor(image, cv2.COLOR_GRAY2BGR)\n",
    "            image = self.transform(image=image)['image']\n",
    "            image = image.transpose(2, 0, 1).astype(np.float32) / 255.\n",
    "\n",
    "        return image, torch.tensor(target).float()\n",
    "    \n",
    "    def get_labels(self):\n",
    "        return self.label"
   ]
  },
  {
   "cell_type": "code",
   "execution_count": 10,
   "id": "2025cd81",
   "metadata": {
    "execution": {
     "iopub.execute_input": "2024-07-08T16:21:19.115016Z",
     "iopub.status.busy": "2024-07-08T16:21:19.114753Z",
     "iopub.status.idle": "2024-07-08T16:21:19.120876Z",
     "shell.execute_reply": "2024-07-08T16:21:19.120190Z"
    },
    "papermill": {
     "duration": 0.015897,
     "end_time": "2024-07-08T16:21:19.122700",
     "exception": false,
     "start_time": "2024-07-08T16:21:19.106803",
     "status": "completed"
    },
    "tags": []
   },
   "outputs": [],
   "source": [
    "def get_transforms(height, width):\n",
    "    train_tsfm = A.Compose([\n",
    "        A.Resize(height=height, width=width, interpolation=cv2.INTER_CUBIC, p=1.0), # also INTER_LANCZOS4\n",
    "        # Geometric augmentations\n",
    "        A.Perspective(p=0.5),\n",
    "        A.HorizontalFlip(p=0.5),\n",
    "        A.VerticalFlip(p=0.5),\n",
    "        A.Rotate(limit=(-30, 30), p=0.5), \n",
    "        \n",
    "        A.CenterCrop(height=height, width=width, p=1.0),\n",
    "    ])\n",
    "    \n",
    "    valid_tsfm = A.Compose([\n",
    "        A.Resize(height=height, width=width),\n",
    "    ])\n",
    "    return {\"train\": train_tsfm, \"eval\": valid_tsfm}"
   ]
  },
  {
   "cell_type": "code",
   "execution_count": 11,
   "id": "e070cd55",
   "metadata": {
    "execution": {
     "iopub.execute_input": "2024-07-08T16:21:19.138511Z",
     "iopub.status.busy": "2024-07-08T16:21:19.138196Z",
     "iopub.status.idle": "2024-07-08T16:21:19.148237Z",
     "shell.execute_reply": "2024-07-08T16:21:19.147354Z"
    },
    "papermill": {
     "duration": 0.02004,
     "end_time": "2024-07-08T16:21:19.150141",
     "exception": false,
     "start_time": "2024-07-08T16:21:19.130101",
     "status": "completed"
    },
    "tags": []
   },
   "outputs": [],
   "source": [
    "# def get_dataloaders(data, cfg, split=\"train\"):\n",
    "#     img_size = cfg['img_size']\n",
    "#     height, width = img_size, img_size\n",
    "#     tsfm = get_transforms(height=height, width=width)\n",
    "#     if split == 'train':\n",
    "#         tr_tsfm = tsfm['train']\n",
    "#         ds = CustomDataset(data, transform=tr_tsfm)\n",
    "#         labels = ds.get_labels()\n",
    "# #         class_weights = torch.tensor(compute_class_weight(class_weight=\"balanced\", classes=np.unique(labels), y=labels))\n",
    "#         class_weights = torch.tensor([1, 2, 4])\n",
    "#         samples_weights = class_weights[labels]\n",
    "# #         print(class_weights)\n",
    "#         sampler = WeightedRandomSampler(weights=samples_weights, \n",
    "#                                         num_samples=len(samples_weights), \n",
    "#                                         replacement=True)\n",
    "\n",
    "#         dls = DataLoader(ds, \n",
    "#                          batch_size=cfg['batch_size'], \n",
    "#                          sampler=sampler, \n",
    "#                          num_workers=os.cpu_count(), \n",
    "#                          pin_memory=True, \n",
    "#                          drop_last=True)\n",
    "        \n",
    "#     elif split == 'valid' or split == 'test':\n",
    "#         eval_tsfm = tsfm['eval']\n",
    "#         ds = CustomDataset(data, transform=eval_tsfm)\n",
    "#         dls = DataLoader(ds, \n",
    "#                          batch_size=2*cfg['batch_size'], \n",
    "#                          sampler=SequentialSampler(ds),\n",
    "#                          num_workers=os.cpu_count(), \n",
    "#                          pin_memory=True,\n",
    "#                          drop_last=False)\n",
    "#     else:\n",
    "#         raise Exception(\"Split should be 'train' or 'valid' or 'test'!!!\")\n",
    "#     return dls\n",
    "\n",
    "def get_dataloaders(data, cfg, split=\"train\"):\n",
    "    img_size = cfg['img_size']\n",
    "    height, width = img_size, img_size\n",
    "    tsfm = get_transforms(height=height, width=width)\n",
    "    if split == 'train':\n",
    "        tr_tsfm = tsfm['train']\n",
    "        ds = CustomDataset(data, transform=tr_tsfm)\n",
    "        labels = ds.get_labels()\n",
    "#         class_weights = torch.tensor(compute_class_weight(class_weight=\"balanced\", classes=np.unique(labels), y=labels))\n",
    "        class_weights = torch.tensor([1, 2, 4])\n",
    "        samples_weights = class_weights[labels]\n",
    "#         print(class_weights)\n",
    "        sampler = WeightedRandomSampler(weights=samples_weights, \n",
    "                                        num_samples=len(samples_weights), \n",
    "                                        replacement=True)\n",
    "\n",
    "        dls = DataLoader(ds, \n",
    "                         batch_size=cfg['batch_size'], \n",
    "                         sampler=sampler, \n",
    "                         num_workers=os.cpu_count(), \n",
    "                         drop_last=True, \n",
    "                         pin_memory=True)\n",
    "        \n",
    "    elif split == 'valid' or split == 'test':\n",
    "        eval_tsfm = tsfm['eval']\n",
    "        ds = CustomDataset(data, transform=eval_tsfm)\n",
    "        dls = DataLoader(ds, \n",
    "                         batch_size=2*cfg['batch_size'], \n",
    "                         shuffle=False, \n",
    "                         num_workers=os.cpu_count(), \n",
    "                         drop_last=False, \n",
    "                         pin_memory=True)\n",
    "    else:\n",
    "        raise Exception(\"Split should be 'train' or 'valid' or 'test'!!!\")\n",
    "    return dls"
   ]
  },
  {
   "cell_type": "markdown",
   "id": "31aba46f",
   "metadata": {
    "papermill": {
     "duration": 0.007014,
     "end_time": "2024-07-08T16:21:19.164271",
     "exception": false,
     "start_time": "2024-07-08T16:21:19.157257",
     "status": "completed"
    },
    "tags": []
   },
   "source": [
    "# Load Model"
   ]
  },
  {
   "cell_type": "code",
   "execution_count": 12,
   "id": "daa1eecb",
   "metadata": {
    "execution": {
     "iopub.execute_input": "2024-07-08T16:21:19.179746Z",
     "iopub.status.busy": "2024-07-08T16:21:19.179456Z",
     "iopub.status.idle": "2024-07-08T16:21:19.188695Z",
     "shell.execute_reply": "2024-07-08T16:21:19.187850Z"
    },
    "papermill": {
     "duration": 0.019207,
     "end_time": "2024-07-08T16:21:19.190580",
     "exception": false,
     "start_time": "2024-07-08T16:21:19.171373",
     "status": "completed"
    },
    "tags": []
   },
   "outputs": [],
   "source": [
    "class TimmModel(nn.Module):\n",
    "    def __init__(self, backbone, pretrained=False):\n",
    "        super(TimmModel, self).__init__()\n",
    "\n",
    "        self.encoder = timm.create_model(\n",
    "            backbone,\n",
    "            num_classes=CONFIG[\"out_dim\"],\n",
    "            features_only=False,\n",
    "            drop_rate=CONFIG[\"drop_rate\"],\n",
    "            drop_path_rate=CONFIG[\"drop_path_rate\"],\n",
    "            pretrained=pretrained\n",
    "        )\n",
    "\n",
    "        if 'efficient' in backbone:\n",
    "            hdim = self.encoder.conv_head.out_channels\n",
    "            self.encoder.classifier = nn.Identity()\n",
    "        elif 'convnext' in backbone:\n",
    "            hdim = self.encoder.head.fc.in_features\n",
    "            self.encoder.head.fc = nn.Identity()\n",
    "\n",
    "\n",
    "        self.lstm = nn.LSTM(hdim, 256, num_layers=2, dropout=CONFIG[\"drop_rate\"], bidirectional=True, batch_first=True)\n",
    "        self.head = nn.Sequential(\n",
    "            nn.Linear(512, 256),\n",
    "            nn.BatchNorm1d(256),\n",
    "            nn.Dropout(CONFIG[\"drop_rate_last\"]),\n",
    "            nn.LeakyReLU(0.1),\n",
    "            nn.Linear(256, CONFIG[\"out_dim\"]),\n",
    "        )\n",
    "\n",
    "    def forward(self, x):\n",
    "        feat = self.encoder(x)\n",
    "        feat, _ = self.lstm(feat)\n",
    "        feat = self.head(feat)\n",
    "        return feat"
   ]
  },
  {
   "cell_type": "markdown",
   "id": "e27307fc",
   "metadata": {
    "papermill": {
     "duration": 0.006835,
     "end_time": "2024-07-08T16:21:19.204450",
     "exception": false,
     "start_time": "2024-07-08T16:21:19.197615",
     "status": "completed"
    },
    "tags": []
   },
   "source": [
    "# Predictions\n",
    "Here we have code for prediction with and without test time augmentation\n",
    "\n",
    "Test time augmentation (TTA) is useful for test images that the model is pretty unsure. It takes approximately 2 hours as compared to the normal prediction which takes roughly 30 minutes"
   ]
  },
  {
   "cell_type": "code",
   "execution_count": 13,
   "id": "4258a759",
   "metadata": {
    "execution": {
     "iopub.execute_input": "2024-07-08T16:21:19.219932Z",
     "iopub.status.busy": "2024-07-08T16:21:19.219645Z",
     "iopub.status.idle": "2024-07-08T16:21:19.230578Z",
     "shell.execute_reply": "2024-07-08T16:21:19.229658Z"
    },
    "papermill": {
     "duration": 0.020786,
     "end_time": "2024-07-08T16:21:19.232532",
     "exception": false,
     "start_time": "2024-07-08T16:21:19.211746",
     "status": "completed"
    },
    "tags": []
   },
   "outputs": [],
   "source": [
    "FLIPS = [None, [-1], [-2], [-2, -1]]\n",
    "\n",
    "def inference_loop(model, loader):\n",
    "    model.to(CONFIG[\"device\"])\n",
    "    model.eval()\n",
    "    preds = np.empty((0, 3))\n",
    "    with torch.no_grad():\n",
    "        for batch in tqdm(loader):\n",
    "            images, labels = batch\n",
    "            images = images.to(CONFIG[\"device\"], non_blocking=True)\n",
    "            with torch.autocast(device_type=\"cuda\", dtype=torch.float16):\n",
    "#                 logits = model(images.to(torch.float32))\n",
    "                logits = model(images)\n",
    "#                 logits = logits.mean(axis=1).softmax(dim=-1)\n",
    "                logits = logits.softmax(dim=-1)\n",
    "                preds = np.concatenate([preds, logits.detach().cpu().numpy()])\n",
    "    np.save('preds.npy', preds)\n",
    "    \n",
    "    \n",
    "def tta_inference_loop(model, loader):\n",
    "    model.to(CONFIG[\"device\"])\n",
    "    model.eval()\n",
    "    preds = np.empty((0, 3))\n",
    "    with torch.no_grad():\n",
    "        for batch in tqdm(loader):\n",
    "            images, labels = batch\n",
    "            images = images.to(CONFIG[\"device\"], non_blocking=True)\n",
    "            pred_tta = []\n",
    "            with torch.autocast(device_type=\"cuda\", dtype=torch.float16):\n",
    "                for f in FLIPS:\n",
    "                    logits = model(torch.flip(images, f) if f is not None else images)\n",
    "                    logits = logits.softmax(dim=-1)\n",
    "                    pred_tta.append(logits.detach().cpu().numpy())\n",
    "#                 preds = np.concatenate([preds, logits.detach().cpu().numpy()])\n",
    "                preds = np.concatenate([preds, np.mean(pred_tta, 0)])\n",
    "    np.save('preds.npy', preds)\n",
    "#     return preds"
   ]
  },
  {
   "cell_type": "markdown",
   "id": "a9c5c91b",
   "metadata": {
    "papermill": {
     "duration": 0.006824,
     "end_time": "2024-07-08T16:21:19.246379",
     "exception": false,
     "start_time": "2024-07-08T16:21:19.239555",
     "status": "completed"
    },
    "tags": []
   },
   "source": [
    "# Load model weights\n",
    "The model is trained for 1 fold using pytorch lightning rsna-pytorchlightning and the model weights are stored using Weights and Biases artifacts and you can find them [here](https://www.kaggle.com/code/zoro666/rsna-2024-load-weights/notebook)"
   ]
  },
  {
   "cell_type": "code",
   "execution_count": 14,
   "id": "f62e5ad0",
   "metadata": {
    "execution": {
     "iopub.execute_input": "2024-07-08T16:21:19.261697Z",
     "iopub.status.busy": "2024-07-08T16:21:19.261403Z",
     "iopub.status.idle": "2024-07-08T16:21:19.951343Z",
     "shell.execute_reply": "2024-07-08T16:21:19.950300Z"
    },
    "papermill": {
     "duration": 0.700095,
     "end_time": "2024-07-08T16:21:19.953418",
     "exception": false,
     "start_time": "2024-07-08T16:21:19.253323",
     "status": "completed"
    },
    "tags": []
   },
   "outputs": [
    {
     "data": {
      "text/plain": [
       "<All keys matched successfully>"
      ]
     },
     "execution_count": 14,
     "metadata": {},
     "output_type": "execute_result"
    }
   ],
   "source": [
    "weights_path = \"/kaggle/input/rsna-2024-load-weights/model_weights.pth\"\n",
    "weights = torch.load(weights_path, map_location=torch.device(\"cpu\"))\n",
    "model = TimmModel(backbone=CONFIG[\"backbone\"], pretrained=False)\n",
    "model.load_state_dict(weights)"
   ]
  },
  {
   "cell_type": "code",
   "execution_count": 15,
   "id": "31bdb3d0",
   "metadata": {
    "execution": {
     "iopub.execute_input": "2024-07-08T16:21:19.969606Z",
     "iopub.status.busy": "2024-07-08T16:21:19.969316Z",
     "iopub.status.idle": "2024-07-08T16:21:25.502553Z",
     "shell.execute_reply": "2024-07-08T16:21:25.501508Z"
    },
    "papermill": {
     "duration": 5.543765,
     "end_time": "2024-07-08T16:21:25.504830",
     "exception": false,
     "start_time": "2024-07-08T16:21:19.961065",
     "status": "completed"
    },
    "tags": []
   },
   "outputs": [
    {
     "data": {
      "application/vnd.jupyter.widget-view+json": {
       "model_id": "924253f3c3a44ba695214568c749d7ad",
       "version_major": 2,
       "version_minor": 0
      },
      "text/plain": [
       "  0%|          | 0/7 [00:00<?, ?it/s]"
      ]
     },
     "metadata": {},
     "output_type": "display_data"
    }
   ],
   "source": [
    "dls = get_dataloaders(test_data, CONFIG, split=\"test\")\n",
    "# inference_loop(model, dls)\n",
    "tta_inference_loop(model, dls)\n",
    "# _ = Parallel(n_jobs=mp.cpu_count())(\n",
    "#     delayed(inference_loop(model, dls))\n",
    "# )\n",
    "\n",
    "preds = np.load('preds.npy')"
   ]
  },
  {
   "cell_type": "code",
   "execution_count": 16,
   "id": "13efaa59",
   "metadata": {
    "execution": {
     "iopub.execute_input": "2024-07-08T16:21:25.521978Z",
     "iopub.status.busy": "2024-07-08T16:21:25.521632Z",
     "iopub.status.idle": "2024-07-08T16:21:25.533869Z",
     "shell.execute_reply": "2024-07-08T16:21:25.533095Z"
    },
    "papermill": {
     "duration": 0.023178,
     "end_time": "2024-07-08T16:21:25.535723",
     "exception": false,
     "start_time": "2024-07-08T16:21:25.512545",
     "status": "completed"
    },
    "tags": []
   },
   "outputs": [],
   "source": [
    "levels = ['l1_l2', 'l2_l3', 'l3_l4', 'l4_l5', 'l5_s1']\n",
    "\n",
    "# Function to update row_id with levels\n",
    "def update_row_id(row, levels):\n",
    "    level = levels[row.name % len(levels)]\n",
    "    return f\"{row['study_id']}_{row['condition']}_{level}\"\n",
    "\n",
    "# Update row_id in expanded_test_desc to include levels\n",
    "expanded_test_desc['row_id'] = expanded_test_desc.apply(lambda row: update_row_id(row, levels), axis=1)"
   ]
  },
  {
   "cell_type": "code",
   "execution_count": 17,
   "id": "5a562eb3",
   "metadata": {
    "execution": {
     "iopub.execute_input": "2024-07-08T16:21:25.552655Z",
     "iopub.status.busy": "2024-07-08T16:21:25.552371Z",
     "iopub.status.idle": "2024-07-08T16:21:25.584232Z",
     "shell.execute_reply": "2024-07-08T16:21:25.583463Z"
    },
    "papermill": {
     "duration": 0.043113,
     "end_time": "2024-07-08T16:21:25.586200",
     "exception": false,
     "start_time": "2024-07-08T16:21:25.543087",
     "status": "completed"
    },
    "tags": []
   },
   "outputs": [],
   "source": [
    "expanded_test_desc[[\"normal_mild\",\"moderate\",\"severe\"]] = preds\n",
    "\n",
    "final_df = expanded_test_desc[[\"row_id\",\"normal_mild\",\"moderate\",\"severe\"]]\n",
    "\n",
    "target_cols = sample_df.columns.tolist()\n",
    "final_df = final_df.groupby('row_id').sum().reset_index()\n",
    "# normalize the columns\n",
    "final_df[target_cols[1:]] = final_df[target_cols[1:]].div(final_df[target_cols[1:]].sum(axis=1), axis=0)\n",
    "final_df[target_cols].to_csv('submission.csv', index=False)"
   ]
  },
  {
   "cell_type": "code",
   "execution_count": 18,
   "id": "43879002",
   "metadata": {
    "execution": {
     "iopub.execute_input": "2024-07-08T16:21:25.602335Z",
     "iopub.status.busy": "2024-07-08T16:21:25.602024Z",
     "iopub.status.idle": "2024-07-08T16:21:25.620267Z",
     "shell.execute_reply": "2024-07-08T16:21:25.619458Z"
    },
    "papermill": {
     "duration": 0.028385,
     "end_time": "2024-07-08T16:21:25.622202",
     "exception": false,
     "start_time": "2024-07-08T16:21:25.593817",
     "status": "completed"
    },
    "tags": []
   },
   "outputs": [
    {
     "data": {
      "text/html": [
       "<div>\n",
       "<style scoped>\n",
       "    .dataframe tbody tr th:only-of-type {\n",
       "        vertical-align: middle;\n",
       "    }\n",
       "\n",
       "    .dataframe tbody tr th {\n",
       "        vertical-align: top;\n",
       "    }\n",
       "\n",
       "    .dataframe thead th {\n",
       "        text-align: right;\n",
       "    }\n",
       "</style>\n",
       "<table border=\"1\" class=\"dataframe\">\n",
       "  <thead>\n",
       "    <tr style=\"text-align: right;\">\n",
       "      <th></th>\n",
       "      <th>row_id</th>\n",
       "      <th>normal_mild</th>\n",
       "      <th>moderate</th>\n",
       "      <th>severe</th>\n",
       "    </tr>\n",
       "  </thead>\n",
       "  <tbody>\n",
       "    <tr>\n",
       "      <th>0</th>\n",
       "      <td>44036939_left_neural_foraminal_narrowing_l1_l2</td>\n",
       "      <td>0.107809</td>\n",
       "      <td>0.393831</td>\n",
       "      <td>0.498360</td>\n",
       "    </tr>\n",
       "    <tr>\n",
       "      <th>1</th>\n",
       "      <td>44036939_left_neural_foraminal_narrowing_l2_l3</td>\n",
       "      <td>0.122722</td>\n",
       "      <td>0.383706</td>\n",
       "      <td>0.493572</td>\n",
       "    </tr>\n",
       "    <tr>\n",
       "      <th>2</th>\n",
       "      <td>44036939_left_neural_foraminal_narrowing_l3_l4</td>\n",
       "      <td>0.125576</td>\n",
       "      <td>0.395199</td>\n",
       "      <td>0.479225</td>\n",
       "    </tr>\n",
       "    <tr>\n",
       "      <th>3</th>\n",
       "      <td>44036939_left_neural_foraminal_narrowing_l4_l5</td>\n",
       "      <td>0.177136</td>\n",
       "      <td>0.417439</td>\n",
       "      <td>0.405425</td>\n",
       "    </tr>\n",
       "    <tr>\n",
       "      <th>4</th>\n",
       "      <td>44036939_left_neural_foraminal_narrowing_l5_s1</td>\n",
       "      <td>0.149221</td>\n",
       "      <td>0.388085</td>\n",
       "      <td>0.462694</td>\n",
       "    </tr>\n",
       "    <tr>\n",
       "      <th>5</th>\n",
       "      <td>44036939_left_subarticular_stenosis_l1_l2</td>\n",
       "      <td>0.274207</td>\n",
       "      <td>0.385639</td>\n",
       "      <td>0.340154</td>\n",
       "    </tr>\n",
       "    <tr>\n",
       "      <th>6</th>\n",
       "      <td>44036939_left_subarticular_stenosis_l2_l3</td>\n",
       "      <td>0.336809</td>\n",
       "      <td>0.410153</td>\n",
       "      <td>0.253038</td>\n",
       "    </tr>\n",
       "    <tr>\n",
       "      <th>7</th>\n",
       "      <td>44036939_left_subarticular_stenosis_l3_l4</td>\n",
       "      <td>0.318086</td>\n",
       "      <td>0.389447</td>\n",
       "      <td>0.292467</td>\n",
       "    </tr>\n",
       "    <tr>\n",
       "      <th>8</th>\n",
       "      <td>44036939_left_subarticular_stenosis_l4_l5</td>\n",
       "      <td>0.304285</td>\n",
       "      <td>0.357232</td>\n",
       "      <td>0.338484</td>\n",
       "    </tr>\n",
       "    <tr>\n",
       "      <th>9</th>\n",
       "      <td>44036939_left_subarticular_stenosis_l5_s1</td>\n",
       "      <td>0.413540</td>\n",
       "      <td>0.354488</td>\n",
       "      <td>0.231972</td>\n",
       "    </tr>\n",
       "    <tr>\n",
       "      <th>10</th>\n",
       "      <td>44036939_right_neural_foraminal_narrowing_l1_l2</td>\n",
       "      <td>0.104038</td>\n",
       "      <td>0.378107</td>\n",
       "      <td>0.517855</td>\n",
       "    </tr>\n",
       "    <tr>\n",
       "      <th>11</th>\n",
       "      <td>44036939_right_neural_foraminal_narrowing_l2_l3</td>\n",
       "      <td>0.122856</td>\n",
       "      <td>0.372973</td>\n",
       "      <td>0.504171</td>\n",
       "    </tr>\n",
       "    <tr>\n",
       "      <th>12</th>\n",
       "      <td>44036939_right_neural_foraminal_narrowing_l3_l4</td>\n",
       "      <td>0.132136</td>\n",
       "      <td>0.377501</td>\n",
       "      <td>0.490363</td>\n",
       "    </tr>\n",
       "    <tr>\n",
       "      <th>13</th>\n",
       "      <td>44036939_right_neural_foraminal_narrowing_l4_l5</td>\n",
       "      <td>0.180871</td>\n",
       "      <td>0.403817</td>\n",
       "      <td>0.415312</td>\n",
       "    </tr>\n",
       "    <tr>\n",
       "      <th>14</th>\n",
       "      <td>44036939_right_neural_foraminal_narrowing_l5_s1</td>\n",
       "      <td>0.147551</td>\n",
       "      <td>0.373596</td>\n",
       "      <td>0.478852</td>\n",
       "    </tr>\n",
       "    <tr>\n",
       "      <th>15</th>\n",
       "      <td>44036939_right_subarticular_stenosis_l1_l2</td>\n",
       "      <td>0.294517</td>\n",
       "      <td>0.363351</td>\n",
       "      <td>0.342132</td>\n",
       "    </tr>\n",
       "    <tr>\n",
       "      <th>16</th>\n",
       "      <td>44036939_right_subarticular_stenosis_l2_l3</td>\n",
       "      <td>0.398071</td>\n",
       "      <td>0.359600</td>\n",
       "      <td>0.242329</td>\n",
       "    </tr>\n",
       "    <tr>\n",
       "      <th>17</th>\n",
       "      <td>44036939_right_subarticular_stenosis_l3_l4</td>\n",
       "      <td>0.264254</td>\n",
       "      <td>0.385244</td>\n",
       "      <td>0.350502</td>\n",
       "    </tr>\n",
       "    <tr>\n",
       "      <th>18</th>\n",
       "      <td>44036939_right_subarticular_stenosis_l4_l5</td>\n",
       "      <td>0.332663</td>\n",
       "      <td>0.414268</td>\n",
       "      <td>0.253069</td>\n",
       "    </tr>\n",
       "    <tr>\n",
       "      <th>19</th>\n",
       "      <td>44036939_right_subarticular_stenosis_l5_s1</td>\n",
       "      <td>0.312254</td>\n",
       "      <td>0.387226</td>\n",
       "      <td>0.300520</td>\n",
       "    </tr>\n",
       "    <tr>\n",
       "      <th>20</th>\n",
       "      <td>44036939_spinal_canal_stenosis_l1_l2</td>\n",
       "      <td>0.091230</td>\n",
       "      <td>0.305566</td>\n",
       "      <td>0.603204</td>\n",
       "    </tr>\n",
       "    <tr>\n",
       "      <th>21</th>\n",
       "      <td>44036939_spinal_canal_stenosis_l2_l3</td>\n",
       "      <td>0.131736</td>\n",
       "      <td>0.389745</td>\n",
       "      <td>0.478519</td>\n",
       "    </tr>\n",
       "    <tr>\n",
       "      <th>22</th>\n",
       "      <td>44036939_spinal_canal_stenosis_l3_l4</td>\n",
       "      <td>0.194147</td>\n",
       "      <td>0.382620</td>\n",
       "      <td>0.423233</td>\n",
       "    </tr>\n",
       "    <tr>\n",
       "      <th>23</th>\n",
       "      <td>44036939_spinal_canal_stenosis_l4_l5</td>\n",
       "      <td>0.083184</td>\n",
       "      <td>0.320586</td>\n",
       "      <td>0.596229</td>\n",
       "    </tr>\n",
       "    <tr>\n",
       "      <th>24</th>\n",
       "      <td>44036939_spinal_canal_stenosis_l5_s1</td>\n",
       "      <td>0.132785</td>\n",
       "      <td>0.309868</td>\n",
       "      <td>0.557347</td>\n",
       "    </tr>\n",
       "  </tbody>\n",
       "</table>\n",
       "</div>"
      ],
      "text/plain": [
       "                                             row_id  normal_mild  moderate  \\\n",
       "0    44036939_left_neural_foraminal_narrowing_l1_l2     0.107809  0.393831   \n",
       "1    44036939_left_neural_foraminal_narrowing_l2_l3     0.122722  0.383706   \n",
       "2    44036939_left_neural_foraminal_narrowing_l3_l4     0.125576  0.395199   \n",
       "3    44036939_left_neural_foraminal_narrowing_l4_l5     0.177136  0.417439   \n",
       "4    44036939_left_neural_foraminal_narrowing_l5_s1     0.149221  0.388085   \n",
       "5         44036939_left_subarticular_stenosis_l1_l2     0.274207  0.385639   \n",
       "6         44036939_left_subarticular_stenosis_l2_l3     0.336809  0.410153   \n",
       "7         44036939_left_subarticular_stenosis_l3_l4     0.318086  0.389447   \n",
       "8         44036939_left_subarticular_stenosis_l4_l5     0.304285  0.357232   \n",
       "9         44036939_left_subarticular_stenosis_l5_s1     0.413540  0.354488   \n",
       "10  44036939_right_neural_foraminal_narrowing_l1_l2     0.104038  0.378107   \n",
       "11  44036939_right_neural_foraminal_narrowing_l2_l3     0.122856  0.372973   \n",
       "12  44036939_right_neural_foraminal_narrowing_l3_l4     0.132136  0.377501   \n",
       "13  44036939_right_neural_foraminal_narrowing_l4_l5     0.180871  0.403817   \n",
       "14  44036939_right_neural_foraminal_narrowing_l5_s1     0.147551  0.373596   \n",
       "15       44036939_right_subarticular_stenosis_l1_l2     0.294517  0.363351   \n",
       "16       44036939_right_subarticular_stenosis_l2_l3     0.398071  0.359600   \n",
       "17       44036939_right_subarticular_stenosis_l3_l4     0.264254  0.385244   \n",
       "18       44036939_right_subarticular_stenosis_l4_l5     0.332663  0.414268   \n",
       "19       44036939_right_subarticular_stenosis_l5_s1     0.312254  0.387226   \n",
       "20             44036939_spinal_canal_stenosis_l1_l2     0.091230  0.305566   \n",
       "21             44036939_spinal_canal_stenosis_l2_l3     0.131736  0.389745   \n",
       "22             44036939_spinal_canal_stenosis_l3_l4     0.194147  0.382620   \n",
       "23             44036939_spinal_canal_stenosis_l4_l5     0.083184  0.320586   \n",
       "24             44036939_spinal_canal_stenosis_l5_s1     0.132785  0.309868   \n",
       "\n",
       "      severe  \n",
       "0   0.498360  \n",
       "1   0.493572  \n",
       "2   0.479225  \n",
       "3   0.405425  \n",
       "4   0.462694  \n",
       "5   0.340154  \n",
       "6   0.253038  \n",
       "7   0.292467  \n",
       "8   0.338484  \n",
       "9   0.231972  \n",
       "10  0.517855  \n",
       "11  0.504171  \n",
       "12  0.490363  \n",
       "13  0.415312  \n",
       "14  0.478852  \n",
       "15  0.342132  \n",
       "16  0.242329  \n",
       "17  0.350502  \n",
       "18  0.253069  \n",
       "19  0.300520  \n",
       "20  0.603204  \n",
       "21  0.478519  \n",
       "22  0.423233  \n",
       "23  0.596229  \n",
       "24  0.557347  "
      ]
     },
     "execution_count": 18,
     "metadata": {},
     "output_type": "execute_result"
    }
   ],
   "source": [
    "pd.read_csv('submission.csv')"
   ]
  },
  {
   "cell_type": "code",
   "execution_count": null,
   "id": "e1549435",
   "metadata": {
    "papermill": {
     "duration": 0.007511,
     "end_time": "2024-07-08T16:21:25.637427",
     "exception": false,
     "start_time": "2024-07-08T16:21:25.629916",
     "status": "completed"
    },
    "tags": []
   },
   "outputs": [],
   "source": []
  }
 ],
 "metadata": {
  "kaggle": {
   "accelerator": "gpu",
   "dataSources": [
    {
     "databundleVersionId": 8561470,
     "sourceId": 71549,
     "sourceType": "competition"
    },
    {
     "sourceId": 187278429,
     "sourceType": "kernelVersion"
    }
   ],
   "dockerImageVersionId": 30732,
   "isGpuEnabled": true,
   "isInternetEnabled": false,
   "language": "python",
   "sourceType": "notebook"
  },
  "kernelspec": {
   "display_name": "Python 3",
   "language": "python",
   "name": "python3"
  },
  "language_info": {
   "codemirror_mode": {
    "name": "ipython",
    "version": 3
   },
   "file_extension": ".py",
   "mimetype": "text/x-python",
   "name": "python",
   "nbconvert_exporter": "python",
   "pygments_lexer": "ipython3",
   "version": "3.10.13"
  },
  "papermill": {
   "default_parameters": {},
   "duration": 24.080691,
   "end_time": "2024-07-08T16:21:28.363987",
   "environment_variables": {},
   "exception": null,
   "input_path": "__notebook__.ipynb",
   "output_path": "__notebook__.ipynb",
   "parameters": {},
   "start_time": "2024-07-08T16:21:04.283296",
   "version": "2.5.0"
  },
  "widgets": {
   "application/vnd.jupyter.widget-state+json": {
    "state": {
     "1c0bcdd6ecdb48bea66a16f576c273ce": {
      "model_module": "@jupyter-widgets/controls",
      "model_module_version": "1.5.0",
      "model_name": "DescriptionStyleModel",
      "state": {
       "_model_module": "@jupyter-widgets/controls",
       "_model_module_version": "1.5.0",
       "_model_name": "DescriptionStyleModel",
       "_view_count": null,
       "_view_module": "@jupyter-widgets/base",
       "_view_module_version": "1.2.0",
       "_view_name": "StyleView",
       "description_width": ""
      }
     },
     "2fe555dc02df4c628376086d38cb9eb3": {
      "model_module": "@jupyter-widgets/controls",
      "model_module_version": "1.5.0",
      "model_name": "DescriptionStyleModel",
      "state": {
       "_model_module": "@jupyter-widgets/controls",
       "_model_module_version": "1.5.0",
       "_model_name": "DescriptionStyleModel",
       "_view_count": null,
       "_view_module": "@jupyter-widgets/base",
       "_view_module_version": "1.2.0",
       "_view_name": "StyleView",
       "description_width": ""
      }
     },
     "5e5756d251454f6c8ea3ede41cef448a": {
      "model_module": "@jupyter-widgets/base",
      "model_module_version": "1.2.0",
      "model_name": "LayoutModel",
      "state": {
       "_model_module": "@jupyter-widgets/base",
       "_model_module_version": "1.2.0",
       "_model_name": "LayoutModel",
       "_view_count": null,
       "_view_module": "@jupyter-widgets/base",
       "_view_module_version": "1.2.0",
       "_view_name": "LayoutView",
       "align_content": null,
       "align_items": null,
       "align_self": null,
       "border": null,
       "bottom": null,
       "display": null,
       "flex": null,
       "flex_flow": null,
       "grid_area": null,
       "grid_auto_columns": null,
       "grid_auto_flow": null,
       "grid_auto_rows": null,
       "grid_column": null,
       "grid_gap": null,
       "grid_row": null,
       "grid_template_areas": null,
       "grid_template_columns": null,
       "grid_template_rows": null,
       "height": null,
       "justify_content": null,
       "justify_items": null,
       "left": null,
       "margin": null,
       "max_height": null,
       "max_width": null,
       "min_height": null,
       "min_width": null,
       "object_fit": null,
       "object_position": null,
       "order": null,
       "overflow": null,
       "overflow_x": null,
       "overflow_y": null,
       "padding": null,
       "right": null,
       "top": null,
       "visibility": null,
       "width": null
      }
     },
     "67c188f95b0c4d6ea21d8812bec38245": {
      "model_module": "@jupyter-widgets/base",
      "model_module_version": "1.2.0",
      "model_name": "LayoutModel",
      "state": {
       "_model_module": "@jupyter-widgets/base",
       "_model_module_version": "1.2.0",
       "_model_name": "LayoutModel",
       "_view_count": null,
       "_view_module": "@jupyter-widgets/base",
       "_view_module_version": "1.2.0",
       "_view_name": "LayoutView",
       "align_content": null,
       "align_items": null,
       "align_self": null,
       "border": null,
       "bottom": null,
       "display": null,
       "flex": null,
       "flex_flow": null,
       "grid_area": null,
       "grid_auto_columns": null,
       "grid_auto_flow": null,
       "grid_auto_rows": null,
       "grid_column": null,
       "grid_gap": null,
       "grid_row": null,
       "grid_template_areas": null,
       "grid_template_columns": null,
       "grid_template_rows": null,
       "height": null,
       "justify_content": null,
       "justify_items": null,
       "left": null,
       "margin": null,
       "max_height": null,
       "max_width": null,
       "min_height": null,
       "min_width": null,
       "object_fit": null,
       "object_position": null,
       "order": null,
       "overflow": null,
       "overflow_x": null,
       "overflow_y": null,
       "padding": null,
       "right": null,
       "top": null,
       "visibility": null,
       "width": null
      }
     },
     "924253f3c3a44ba695214568c749d7ad": {
      "model_module": "@jupyter-widgets/controls",
      "model_module_version": "1.5.0",
      "model_name": "HBoxModel",
      "state": {
       "_dom_classes": [],
       "_model_module": "@jupyter-widgets/controls",
       "_model_module_version": "1.5.0",
       "_model_name": "HBoxModel",
       "_view_count": null,
       "_view_module": "@jupyter-widgets/controls",
       "_view_module_version": "1.5.0",
       "_view_name": "HBoxView",
       "box_style": "",
       "children": [
        "IPY_MODEL_e73af4847b5142bba8b2cfe02934d5ee",
        "IPY_MODEL_99152aed4dfe4d24a522bc9038809495",
        "IPY_MODEL_b98cd8aae0034771a169b1a8f2a0b5d0"
       ],
       "layout": "IPY_MODEL_5e5756d251454f6c8ea3ede41cef448a"
      }
     },
     "99152aed4dfe4d24a522bc9038809495": {
      "model_module": "@jupyter-widgets/controls",
      "model_module_version": "1.5.0",
      "model_name": "FloatProgressModel",
      "state": {
       "_dom_classes": [],
       "_model_module": "@jupyter-widgets/controls",
       "_model_module_version": "1.5.0",
       "_model_name": "FloatProgressModel",
       "_view_count": null,
       "_view_module": "@jupyter-widgets/controls",
       "_view_module_version": "1.5.0",
       "_view_name": "ProgressView",
       "bar_style": "success",
       "description": "",
       "description_tooltip": null,
       "layout": "IPY_MODEL_c72a971db1dd490da52486fcded243be",
       "max": 7.0,
       "min": 0.0,
       "orientation": "horizontal",
       "style": "IPY_MODEL_f903f6d1a3b94baa97c167bcdb9ab7e8",
       "value": 7.0
      }
     },
     "b98cd8aae0034771a169b1a8f2a0b5d0": {
      "model_module": "@jupyter-widgets/controls",
      "model_module_version": "1.5.0",
      "model_name": "HTMLModel",
      "state": {
       "_dom_classes": [],
       "_model_module": "@jupyter-widgets/controls",
       "_model_module_version": "1.5.0",
       "_model_name": "HTMLModel",
       "_view_count": null,
       "_view_module": "@jupyter-widgets/controls",
       "_view_module_version": "1.5.0",
       "_view_name": "HTMLView",
       "description": "",
       "description_tooltip": null,
       "layout": "IPY_MODEL_e775df264934496bba986fb2965a6ec1",
       "placeholder": "​",
       "style": "IPY_MODEL_2fe555dc02df4c628376086d38cb9eb3",
       "value": " 7/7 [00:05&lt;00:00,  2.92it/s]"
      }
     },
     "c72a971db1dd490da52486fcded243be": {
      "model_module": "@jupyter-widgets/base",
      "model_module_version": "1.2.0",
      "model_name": "LayoutModel",
      "state": {
       "_model_module": "@jupyter-widgets/base",
       "_model_module_version": "1.2.0",
       "_model_name": "LayoutModel",
       "_view_count": null,
       "_view_module": "@jupyter-widgets/base",
       "_view_module_version": "1.2.0",
       "_view_name": "LayoutView",
       "align_content": null,
       "align_items": null,
       "align_self": null,
       "border": null,
       "bottom": null,
       "display": null,
       "flex": null,
       "flex_flow": null,
       "grid_area": null,
       "grid_auto_columns": null,
       "grid_auto_flow": null,
       "grid_auto_rows": null,
       "grid_column": null,
       "grid_gap": null,
       "grid_row": null,
       "grid_template_areas": null,
       "grid_template_columns": null,
       "grid_template_rows": null,
       "height": null,
       "justify_content": null,
       "justify_items": null,
       "left": null,
       "margin": null,
       "max_height": null,
       "max_width": null,
       "min_height": null,
       "min_width": null,
       "object_fit": null,
       "object_position": null,
       "order": null,
       "overflow": null,
       "overflow_x": null,
       "overflow_y": null,
       "padding": null,
       "right": null,
       "top": null,
       "visibility": null,
       "width": null
      }
     },
     "e73af4847b5142bba8b2cfe02934d5ee": {
      "model_module": "@jupyter-widgets/controls",
      "model_module_version": "1.5.0",
      "model_name": "HTMLModel",
      "state": {
       "_dom_classes": [],
       "_model_module": "@jupyter-widgets/controls",
       "_model_module_version": "1.5.0",
       "_model_name": "HTMLModel",
       "_view_count": null,
       "_view_module": "@jupyter-widgets/controls",
       "_view_module_version": "1.5.0",
       "_view_name": "HTMLView",
       "description": "",
       "description_tooltip": null,
       "layout": "IPY_MODEL_67c188f95b0c4d6ea21d8812bec38245",
       "placeholder": "​",
       "style": "IPY_MODEL_1c0bcdd6ecdb48bea66a16f576c273ce",
       "value": "100%"
      }
     },
     "e775df264934496bba986fb2965a6ec1": {
      "model_module": "@jupyter-widgets/base",
      "model_module_version": "1.2.0",
      "model_name": "LayoutModel",
      "state": {
       "_model_module": "@jupyter-widgets/base",
       "_model_module_version": "1.2.0",
       "_model_name": "LayoutModel",
       "_view_count": null,
       "_view_module": "@jupyter-widgets/base",
       "_view_module_version": "1.2.0",
       "_view_name": "LayoutView",
       "align_content": null,
       "align_items": null,
       "align_self": null,
       "border": null,
       "bottom": null,
       "display": null,
       "flex": null,
       "flex_flow": null,
       "grid_area": null,
       "grid_auto_columns": null,
       "grid_auto_flow": null,
       "grid_auto_rows": null,
       "grid_column": null,
       "grid_gap": null,
       "grid_row": null,
       "grid_template_areas": null,
       "grid_template_columns": null,
       "grid_template_rows": null,
       "height": null,
       "justify_content": null,
       "justify_items": null,
       "left": null,
       "margin": null,
       "max_height": null,
       "max_width": null,
       "min_height": null,
       "min_width": null,
       "object_fit": null,
       "object_position": null,
       "order": null,
       "overflow": null,
       "overflow_x": null,
       "overflow_y": null,
       "padding": null,
       "right": null,
       "top": null,
       "visibility": null,
       "width": null
      }
     },
     "f903f6d1a3b94baa97c167bcdb9ab7e8": {
      "model_module": "@jupyter-widgets/controls",
      "model_module_version": "1.5.0",
      "model_name": "ProgressStyleModel",
      "state": {
       "_model_module": "@jupyter-widgets/controls",
       "_model_module_version": "1.5.0",
       "_model_name": "ProgressStyleModel",
       "_view_count": null,
       "_view_module": "@jupyter-widgets/base",
       "_view_module_version": "1.2.0",
       "_view_name": "StyleView",
       "bar_color": null,
       "description_width": ""
      }
     }
    },
    "version_major": 2,
    "version_minor": 0
   }
  }
 },
 "nbformat": 4,
 "nbformat_minor": 5
}
