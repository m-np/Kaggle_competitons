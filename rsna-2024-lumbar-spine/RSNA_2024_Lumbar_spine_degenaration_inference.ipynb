{
 "cells": [
  {
   "cell_type": "markdown",
   "id": "93dab11a",
   "metadata": {
    "_cell_guid": "b1076dfc-b9ad-4769-8c92-a6c4dae69d19",
    "_uuid": "8f2839f25d086af736a60e9eeb907d3b93b6e0e5",
    "papermill": {
     "duration": 0.007308,
     "end_time": "2024-07-09T07:00:04.413760",
     "exception": false,
     "start_time": "2024-07-09T07:00:04.406452",
     "status": "completed"
    },
    "tags": []
   },
   "source": [
    "This code is following the inference notebook shared [here](https://www.kaggle.com/code/samu2505/rsna-lumbar-inference-lb-0-84-cv-0-54) \n",
    "\n",
    "Training code link in the following [NB](https://www.kaggle.com/code/zoro666/rsna-2024-lumbar-spine-1)"
   ]
  },
  {
   "cell_type": "code",
   "execution_count": 1,
   "id": "33a5808c",
   "metadata": {
    "execution": {
     "iopub.execute_input": "2024-07-09T07:00:04.429110Z",
     "iopub.status.busy": "2024-07-09T07:00:04.428757Z",
     "iopub.status.idle": "2024-07-09T07:00:16.069762Z",
     "shell.execute_reply": "2024-07-09T07:00:16.069008Z"
    },
    "papermill": {
     "duration": 11.651509,
     "end_time": "2024-07-09T07:00:16.072133",
     "exception": false,
     "start_time": "2024-07-09T07:00:04.420624",
     "status": "completed"
    },
    "tags": []
   },
   "outputs": [],
   "source": [
    "import os, gc, sys, copy, pickle\n",
    "from pathlib import Path\n",
    "import glob\n",
    "from tqdm.auto import tqdm\n",
    "tqdm.pandas()\n",
    "\n",
    "import math\n",
    "import random\n",
    "import pandas as pd\n",
    "import numpy as np\n",
    "import matplotlib.pyplot as plt\n",
    "\n",
    "from joblib import Parallel, delayed\n",
    "import multiprocessing as mp\n",
    "\n",
    "import albumentations as A\n",
    "import torch\n",
    "import torch.nn as nn\n",
    "import torch.optim as optim\n",
    "import torch.cuda.amp as amp\n",
    "import torch.nn.functional as F\n",
    "from torch.utils.data import DataLoader, Dataset\n",
    "import torchvision.transforms as transforms\n",
    "\n",
    "import pytorch_lightning as pl\n",
    "from pytorch_lightning.loggers import WandbLogger\n",
    "from pytorch_lightning.callbacks import LearningRateMonitor, ModelCheckpoint\n",
    "from pytorch_lightning.callbacks.early_stopping import EarlyStopping\n",
    "\n",
    "from torch.utils.data import WeightedRandomSampler\n",
    "from sklearn.utils.class_weight import compute_class_weight\n",
    "\n",
    "import timm\n",
    "\n",
    "import cv2\n",
    "cv2.setNumThreads(0)\n",
    "import PIL\n",
    "import pydicom\n",
    "import warnings\n",
    "warnings.filterwarnings(\"ignore\")"
   ]
  },
  {
   "cell_type": "code",
   "execution_count": 2,
   "id": "1561623c",
   "metadata": {
    "execution": {
     "iopub.execute_input": "2024-07-09T07:00:16.087162Z",
     "iopub.status.busy": "2024-07-09T07:00:16.086871Z",
     "iopub.status.idle": "2024-07-09T07:00:16.093312Z",
     "shell.execute_reply": "2024-07-09T07:00:16.092574Z"
    },
    "papermill": {
     "duration": 0.015781,
     "end_time": "2024-07-09T07:00:16.095108",
     "exception": false,
     "start_time": "2024-07-09T07:00:16.079327",
     "status": "completed"
    },
    "tags": []
   },
   "outputs": [],
   "source": [
    "def seeding(SEED):\n",
    "    np.random.seed(SEED)\n",
    "    random.seed(SEED)\n",
    "    os.environ['PYTHONHASHSEED'] = str(SEED)\n",
    "    torch.manual_seed(SEED)\n",
    "    if torch.cuda.is_available(): \n",
    "        torch.cuda.manual_seed(SEED)\n",
    "        torch.cuda.manual_seed_all(SEED)\n",
    "        torch.backends.cudnn.deterministic = True\n",
    "        torch.backends.cudnn.benchmark = False\n",
    "#     os.environ['TF_CUDNN_DETERMINISTIC'] = str(SEED)\n",
    "#     tf.random.set_seed(SEED)\n",
    "#     keras.utils.set_random_seed(seed=SEED)\n",
    "    print('seeding done!!!')\n",
    "\n",
    "def flush():\n",
    "    gc.collect()\n",
    "    if torch.cuda.is_available():\n",
    "        torch.cuda.empty_cache()\n",
    "        torch.cuda.reset_peak_memory_stats()"
   ]
  },
  {
   "cell_type": "markdown",
   "id": "2eb0fbf3",
   "metadata": {
    "papermill": {
     "duration": 0.00651,
     "end_time": "2024-07-09T07:00:16.108267",
     "exception": false,
     "start_time": "2024-07-09T07:00:16.101757",
     "status": "completed"
    },
    "tags": []
   },
   "source": [
    "# Configurations"
   ]
  },
  {
   "cell_type": "code",
   "execution_count": 3,
   "id": "26af2fb3",
   "metadata": {
    "execution": {
     "iopub.execute_input": "2024-07-09T07:00:16.122502Z",
     "iopub.status.busy": "2024-07-09T07:00:16.122242Z",
     "iopub.status.idle": "2024-07-09T07:00:16.152566Z",
     "shell.execute_reply": "2024-07-09T07:00:16.151535Z"
    },
    "papermill": {
     "duration": 0.039533,
     "end_time": "2024-07-09T07:00:16.154394",
     "exception": false,
     "start_time": "2024-07-09T07:00:16.114861",
     "status": "completed"
    },
    "tags": []
   },
   "outputs": [
    {
     "name": "stdout",
     "output_type": "stream",
     "text": [
      "seeding done!!!\n"
     ]
    }
   ],
   "source": [
    "CONFIG = dict(\n",
    "    project_name = \"RSNA-2024-Lumbar-Spine-Classification-Torch-RZoro\",\n",
    "    artifact_name = \"rsnaEffNetModel\",\n",
    "    load_kernel = None,\n",
    "    load_last = True,\n",
    "    n_folds = 5,\n",
    "    backbone = \"efficientnet_b2.ra_in1k\", # tf_efficientnetv2_s_in21ft1k\n",
    "    img_size = 384,\n",
    "    n_slice_per_c = 16,\n",
    "    in_chans = 3,\n",
    "\n",
    "    drop_rate = 0.,\n",
    "    drop_rate_last = 0.3,\n",
    "    drop_path_rate = 0.,\n",
    "    p_mixup = 0.5,\n",
    "    p_rand_order_v1 = 0.2,\n",
    "    lr = 5e-4, # 1e-3, 8e-4, 5e-4, 4e-4\n",
    "\n",
    "    out_dim = 3,\n",
    "    epochs = 50,\n",
    "    batch_size = 16,\n",
    "#     patience = 7,\n",
    "    device = torch.device(\"cuda:0\") if torch.cuda.is_available() else \"cpu\",\n",
    "    seed = 2024,\n",
    "    log_wandb = True,\n",
    "    with_clip = True,\n",
    ")\n",
    "\n",
    "CONFIG['patience'] = math.ceil(0.2 * CONFIG['epochs'])\n",
    "\n",
    "seeding(CONFIG['seed'])"
   ]
  },
  {
   "cell_type": "code",
   "execution_count": 4,
   "id": "b87ba978",
   "metadata": {
    "execution": {
     "iopub.execute_input": "2024-07-09T07:00:16.169109Z",
     "iopub.status.busy": "2024-07-09T07:00:16.168814Z",
     "iopub.status.idle": "2024-07-09T07:00:16.178406Z",
     "shell.execute_reply": "2024-07-09T07:00:16.177487Z"
    },
    "papermill": {
     "duration": 0.018981,
     "end_time": "2024-07-09T07:00:16.180271",
     "exception": false,
     "start_time": "2024-07-09T07:00:16.161290",
     "status": "completed"
    },
    "tags": []
   },
   "outputs": [
    {
     "data": {
      "text/plain": [
       "['sample_submission.csv',\n",
       " 'train_images',\n",
       " 'train_series_descriptions.csv',\n",
       " 'train.csv',\n",
       " 'train_label_coordinates.csv',\n",
       " 'test_series_descriptions.csv',\n",
       " 'test_images']"
      ]
     },
     "execution_count": 4,
     "metadata": {},
     "output_type": "execute_result"
    }
   ],
   "source": [
    "DATA_PATH = Path(\"/kaggle/input/rsna-2024-lumbar-spine-degenerative-classification\")\n",
    "os.listdir(DATA_PATH)"
   ]
  },
  {
   "cell_type": "code",
   "execution_count": 5,
   "id": "06dde0f2",
   "metadata": {
    "execution": {
     "iopub.execute_input": "2024-07-09T07:00:16.195135Z",
     "iopub.status.busy": "2024-07-09T07:00:16.194839Z",
     "iopub.status.idle": "2024-07-09T07:00:16.250940Z",
     "shell.execute_reply": "2024-07-09T07:00:16.250233Z"
    },
    "papermill": {
     "duration": 0.065998,
     "end_time": "2024-07-09T07:00:16.253145",
     "exception": false,
     "start_time": "2024-07-09T07:00:16.187147",
     "status": "completed"
    },
    "tags": []
   },
   "outputs": [],
   "source": [
    "sample_df = pd.read_csv(DATA_PATH/\"sample_submission.csv\")\n",
    "test_desc = pd.read_csv(DATA_PATH/\"test_series_descriptions.csv\")\n",
    "train_desc = pd.read_csv(DATA_PATH/\"train_series_descriptions.csv\")\n",
    "train_main = pd.read_csv(DATA_PATH/\"train.csv\")"
   ]
  },
  {
   "cell_type": "markdown",
   "id": "ee0dc8f1",
   "metadata": {
    "papermill": {
     "duration": 0.006787,
     "end_time": "2024-07-09T07:00:16.267119",
     "exception": false,
     "start_time": "2024-07-09T07:00:16.260332",
     "status": "completed"
    },
    "tags": []
   },
   "source": [
    "# Create dataset"
   ]
  },
  {
   "cell_type": "code",
   "execution_count": 6,
   "id": "b723b27d",
   "metadata": {
    "execution": {
     "iopub.execute_input": "2024-07-09T07:00:16.282189Z",
     "iopub.status.busy": "2024-07-09T07:00:16.281871Z",
     "iopub.status.idle": "2024-07-09T07:00:16.355279Z",
     "shell.execute_reply": "2024-07-09T07:00:16.354434Z"
    },
    "papermill": {
     "duration": 0.083222,
     "end_time": "2024-07-09T07:00:16.357344",
     "exception": false,
     "start_time": "2024-07-09T07:00:16.274122",
     "status": "completed"
    },
    "tags": []
   },
   "outputs": [
    {
     "data": {
      "text/html": [
       "<div>\n",
       "<style scoped>\n",
       "    .dataframe tbody tr th:only-of-type {\n",
       "        vertical-align: middle;\n",
       "    }\n",
       "\n",
       "    .dataframe tbody tr th {\n",
       "        vertical-align: top;\n",
       "    }\n",
       "\n",
       "    .dataframe thead th {\n",
       "        text-align: right;\n",
       "    }\n",
       "</style>\n",
       "<table border=\"1\" class=\"dataframe\">\n",
       "  <thead>\n",
       "    <tr style=\"text-align: right;\">\n",
       "      <th></th>\n",
       "      <th>study_id</th>\n",
       "      <th>series_id</th>\n",
       "      <th>series_description</th>\n",
       "      <th>image_path</th>\n",
       "      <th>condition</th>\n",
       "      <th>row_id</th>\n",
       "      <th>target</th>\n",
       "    </tr>\n",
       "  </thead>\n",
       "  <tbody>\n",
       "    <tr>\n",
       "      <th>0</th>\n",
       "      <td>44036939</td>\n",
       "      <td>2828203845</td>\n",
       "      <td>Sagittal T1</td>\n",
       "      <td>/kaggle/input/rsna-2024-lumbar-spine-degenerat...</td>\n",
       "      <td>left_neural_foraminal_narrowing</td>\n",
       "      <td>44036939_left_neural_foraminal_narrowing</td>\n",
       "      <td>0</td>\n",
       "    </tr>\n",
       "    <tr>\n",
       "      <th>1</th>\n",
       "      <td>44036939</td>\n",
       "      <td>2828203845</td>\n",
       "      <td>Sagittal T1</td>\n",
       "      <td>/kaggle/input/rsna-2024-lumbar-spine-degenerat...</td>\n",
       "      <td>left_neural_foraminal_narrowing</td>\n",
       "      <td>44036939_left_neural_foraminal_narrowing</td>\n",
       "      <td>0</td>\n",
       "    </tr>\n",
       "    <tr>\n",
       "      <th>2</th>\n",
       "      <td>44036939</td>\n",
       "      <td>2828203845</td>\n",
       "      <td>Sagittal T1</td>\n",
       "      <td>/kaggle/input/rsna-2024-lumbar-spine-degenerat...</td>\n",
       "      <td>left_neural_foraminal_narrowing</td>\n",
       "      <td>44036939_left_neural_foraminal_narrowing</td>\n",
       "      <td>0</td>\n",
       "    </tr>\n",
       "    <tr>\n",
       "      <th>3</th>\n",
       "      <td>44036939</td>\n",
       "      <td>2828203845</td>\n",
       "      <td>Sagittal T1</td>\n",
       "      <td>/kaggle/input/rsna-2024-lumbar-spine-degenerat...</td>\n",
       "      <td>left_neural_foraminal_narrowing</td>\n",
       "      <td>44036939_left_neural_foraminal_narrowing</td>\n",
       "      <td>0</td>\n",
       "    </tr>\n",
       "    <tr>\n",
       "      <th>4</th>\n",
       "      <td>44036939</td>\n",
       "      <td>2828203845</td>\n",
       "      <td>Sagittal T1</td>\n",
       "      <td>/kaggle/input/rsna-2024-lumbar-spine-degenerat...</td>\n",
       "      <td>left_neural_foraminal_narrowing</td>\n",
       "      <td>44036939_left_neural_foraminal_narrowing</td>\n",
       "      <td>0</td>\n",
       "    </tr>\n",
       "  </tbody>\n",
       "</table>\n",
       "</div>"
      ],
      "text/plain": [
       "   study_id   series_id series_description  \\\n",
       "0  44036939  2828203845        Sagittal T1   \n",
       "1  44036939  2828203845        Sagittal T1   \n",
       "2  44036939  2828203845        Sagittal T1   \n",
       "3  44036939  2828203845        Sagittal T1   \n",
       "4  44036939  2828203845        Sagittal T1   \n",
       "\n",
       "                                          image_path  \\\n",
       "0  /kaggle/input/rsna-2024-lumbar-spine-degenerat...   \n",
       "1  /kaggle/input/rsna-2024-lumbar-spine-degenerat...   \n",
       "2  /kaggle/input/rsna-2024-lumbar-spine-degenerat...   \n",
       "3  /kaggle/input/rsna-2024-lumbar-spine-degenerat...   \n",
       "4  /kaggle/input/rsna-2024-lumbar-spine-degenerat...   \n",
       "\n",
       "                         condition                                    row_id  \\\n",
       "0  left_neural_foraminal_narrowing  44036939_left_neural_foraminal_narrowing   \n",
       "1  left_neural_foraminal_narrowing  44036939_left_neural_foraminal_narrowing   \n",
       "2  left_neural_foraminal_narrowing  44036939_left_neural_foraminal_narrowing   \n",
       "3  left_neural_foraminal_narrowing  44036939_left_neural_foraminal_narrowing   \n",
       "4  left_neural_foraminal_narrowing  44036939_left_neural_foraminal_narrowing   \n",
       "\n",
       "   target  \n",
       "0       0  \n",
       "1       0  \n",
       "2       0  \n",
       "3       0  \n",
       "4       0  "
      ]
     },
     "execution_count": 6,
     "metadata": {},
     "output_type": "execute_result"
    }
   ],
   "source": [
    "# define the base path for test images\n",
    "base_path = f\"{str(DATA_PATH)}/test_images\"\n",
    "\n",
    "# function to get image paths for a series\n",
    "def get_image_paths(row):\n",
    "    series_path = os.path.join(base_path, str(row['study_id']), str(row['series_id']))\n",
    "    if os.path.exists(series_path):\n",
    "        return [\n",
    "            os.path.join(series_path, f) for f in os.listdir(series_path) if os.path.isfile(os.path.join(series_path, f))\n",
    "        ]\n",
    "    return []\n",
    "\n",
    "# Mapping of series_description to conditions\n",
    "condition_mapping = {\n",
    "    'Sagittal T1': {'left': 'left_neural_foraminal_narrowing', 'right': 'right_neural_foraminal_narrowing'},\n",
    "    'Axial T2': {'left': 'left_subarticular_stenosis', 'right': 'right_subarticular_stenosis'},\n",
    "    'Sagittal T2/STIR': 'spinal_canal_stenosis'\n",
    "}\n",
    "\n",
    "# Create a list to store the expanded rows\n",
    "expanded_rows = []\n",
    "\n",
    "# Expand the dataframe by adding new rows for each file path\n",
    "for index, row in test_desc.iterrows():\n",
    "    image_paths = get_image_paths(row)\n",
    "    conditions = condition_mapping.get(row['series_description'], {})\n",
    "    if isinstance(conditions, str):  # Single condition\n",
    "        conditions = {'left': conditions, 'right': conditions}\n",
    "    for side, condition in conditions.items():\n",
    "        for image_path in image_paths:\n",
    "            expanded_rows.append({\n",
    "                'study_id': row['study_id'],\n",
    "                'series_id': row['series_id'],\n",
    "                'series_description': row['series_description'],\n",
    "                'image_path': image_path,\n",
    "                'condition': condition,\n",
    "                'row_id': f\"{row['study_id']}_{condition}\"\n",
    "            })\n",
    "\n",
    "# Create a new dataframe from the expanded rows\n",
    "expanded_test_desc = pd.DataFrame(expanded_rows)\n",
    "\n",
    "test_data = expanded_test_desc.copy()\n",
    "test_data['target'] = 0\n",
    "test_data.head()"
   ]
  },
  {
   "cell_type": "code",
   "execution_count": 7,
   "id": "38bc5924",
   "metadata": {
    "execution": {
     "iopub.execute_input": "2024-07-09T07:00:16.373875Z",
     "iopub.status.busy": "2024-07-09T07:00:16.373607Z",
     "iopub.status.idle": "2024-07-09T07:00:16.377897Z",
     "shell.execute_reply": "2024-07-09T07:00:16.377086Z"
    },
    "papermill": {
     "duration": 0.015135,
     "end_time": "2024-07-09T07:00:16.379741",
     "exception": false,
     "start_time": "2024-07-09T07:00:16.364606",
     "status": "completed"
    },
    "tags": []
   },
   "outputs": [],
   "source": [
    "label2id = {\"Normal/Mild\": 0, \"Moderate\": 1, \"Severe\": 2}\n",
    "id2label = {v:k for k,v in label2id.items()}"
   ]
  },
  {
   "cell_type": "code",
   "execution_count": 8,
   "id": "e770ef1d",
   "metadata": {
    "execution": {
     "iopub.execute_input": "2024-07-09T07:00:16.395154Z",
     "iopub.status.busy": "2024-07-09T07:00:16.394877Z",
     "iopub.status.idle": "2024-07-09T07:00:16.399875Z",
     "shell.execute_reply": "2024-07-09T07:00:16.399045Z"
    },
    "papermill": {
     "duration": 0.015002,
     "end_time": "2024-07-09T07:00:16.401864",
     "exception": false,
     "start_time": "2024-07-09T07:00:16.386862",
     "status": "completed"
    },
    "tags": []
   },
   "outputs": [],
   "source": [
    "def load_dicom(path):\n",
    "    dicom = pydicom.read_file(path)\n",
    "    data = dicom.pixel_array\n",
    "    data = data - np.min(data)\n",
    "    if np.max(data) != 0:\n",
    "        data = data / np.max(data)\n",
    "    data = (data * 255).astype(np.uint8)\n",
    "    return data"
   ]
  },
  {
   "cell_type": "code",
   "execution_count": 9,
   "id": "d8fcdaa5",
   "metadata": {
    "execution": {
     "iopub.execute_input": "2024-07-09T07:00:16.417422Z",
     "iopub.status.busy": "2024-07-09T07:00:16.416928Z",
     "iopub.status.idle": "2024-07-09T07:00:16.424766Z",
     "shell.execute_reply": "2024-07-09T07:00:16.423906Z"
    },
    "papermill": {
     "duration": 0.017837,
     "end_time": "2024-07-09T07:00:16.426770",
     "exception": false,
     "start_time": "2024-07-09T07:00:16.408933",
     "status": "completed"
    },
    "tags": []
   },
   "outputs": [],
   "source": [
    "class CustomDataset(Dataset):\n",
    "    def __init__(self, dataframe, transform=None, label_name='target'):\n",
    "        self.dataframe = dataframe\n",
    "        self.transform = transform\n",
    "        self.label = dataframe.loc[:, label_name]\n",
    "\n",
    "    def __len__(self):\n",
    "        return len(self.dataframe)\n",
    "\n",
    "    def __getitem__(self, index):\n",
    "        image_path = self.dataframe['image_path'][index]\n",
    "        image = load_dicom(image_path)  # Define this function to load your DICOM images\n",
    "        target = self.dataframe['target'][index]\n",
    "        \n",
    "        if self.transform:\n",
    "            image = cv2.cvtColor(image, cv2.COLOR_GRAY2BGR)\n",
    "            image = self.transform(image=image)['image']\n",
    "            image = image.transpose(2, 0, 1).astype(np.float32) / 255.\n",
    "\n",
    "        return image, torch.tensor(target).float()\n",
    "    \n",
    "    def get_labels(self):\n",
    "        return self.label"
   ]
  },
  {
   "cell_type": "code",
   "execution_count": 10,
   "id": "0fb3348d",
   "metadata": {
    "execution": {
     "iopub.execute_input": "2024-07-09T07:00:16.442583Z",
     "iopub.status.busy": "2024-07-09T07:00:16.441953Z",
     "iopub.status.idle": "2024-07-09T07:00:16.448136Z",
     "shell.execute_reply": "2024-07-09T07:00:16.447320Z"
    },
    "papermill": {
     "duration": 0.015951,
     "end_time": "2024-07-09T07:00:16.449951",
     "exception": false,
     "start_time": "2024-07-09T07:00:16.434000",
     "status": "completed"
    },
    "tags": []
   },
   "outputs": [],
   "source": [
    "def get_transforms(height, width):\n",
    "    train_tsfm = A.Compose([\n",
    "        A.Resize(height=height, width=width, interpolation=cv2.INTER_CUBIC, p=1.0), # also INTER_LANCZOS4\n",
    "        # Geometric augmentations\n",
    "        A.Perspective(p=0.5),\n",
    "        A.HorizontalFlip(p=0.5),\n",
    "        A.VerticalFlip(p=0.5),\n",
    "        A.Rotate(limit=(-30, 30), p=0.5), \n",
    "        \n",
    "        A.CenterCrop(height=height, width=width, p=1.0),\n",
    "    ])\n",
    "    \n",
    "    valid_tsfm = A.Compose([\n",
    "        A.Resize(height=height, width=width),\n",
    "    ])\n",
    "    return {\"train\": train_tsfm, \"eval\": valid_tsfm}"
   ]
  },
  {
   "cell_type": "code",
   "execution_count": 11,
   "id": "a12e27a7",
   "metadata": {
    "execution": {
     "iopub.execute_input": "2024-07-09T07:00:16.465511Z",
     "iopub.status.busy": "2024-07-09T07:00:16.465243Z",
     "iopub.status.idle": "2024-07-09T07:00:16.474715Z",
     "shell.execute_reply": "2024-07-09T07:00:16.474017Z"
    },
    "papermill": {
     "duration": 0.019538,
     "end_time": "2024-07-09T07:00:16.476507",
     "exception": false,
     "start_time": "2024-07-09T07:00:16.456969",
     "status": "completed"
    },
    "tags": []
   },
   "outputs": [],
   "source": [
    "# def get_dataloaders(data, cfg, split=\"train\"):\n",
    "#     img_size = cfg['img_size']\n",
    "#     height, width = img_size, img_size\n",
    "#     tsfm = get_transforms(height=height, width=width)\n",
    "#     if split == 'train':\n",
    "#         tr_tsfm = tsfm['train']\n",
    "#         ds = CustomDataset(data, transform=tr_tsfm)\n",
    "#         labels = ds.get_labels()\n",
    "# #         class_weights = torch.tensor(compute_class_weight(class_weight=\"balanced\", classes=np.unique(labels), y=labels))\n",
    "#         class_weights = torch.tensor([1, 2, 4])\n",
    "#         samples_weights = class_weights[labels]\n",
    "# #         print(class_weights)\n",
    "#         sampler = WeightedRandomSampler(weights=samples_weights, \n",
    "#                                         num_samples=len(samples_weights), \n",
    "#                                         replacement=True)\n",
    "\n",
    "#         dls = DataLoader(ds, \n",
    "#                          batch_size=cfg['batch_size'], \n",
    "#                          sampler=sampler, \n",
    "#                          num_workers=os.cpu_count(), \n",
    "#                          pin_memory=True, \n",
    "#                          drop_last=True)\n",
    "        \n",
    "#     elif split == 'valid' or split == 'test':\n",
    "#         eval_tsfm = tsfm['eval']\n",
    "#         ds = CustomDataset(data, transform=eval_tsfm)\n",
    "#         dls = DataLoader(ds, \n",
    "#                          batch_size=2*cfg['batch_size'], \n",
    "#                          sampler=SequentialSampler(ds),\n",
    "#                          num_workers=os.cpu_count(), \n",
    "#                          pin_memory=True,\n",
    "#                          drop_last=False)\n",
    "#     else:\n",
    "#         raise Exception(\"Split should be 'train' or 'valid' or 'test'!!!\")\n",
    "#     return dls\n",
    "\n",
    "def get_dataloaders(data, cfg, split=\"train\"):\n",
    "    img_size = cfg['img_size']\n",
    "    height, width = img_size, img_size\n",
    "    tsfm = get_transforms(height=height, width=width)\n",
    "    if split == 'train':\n",
    "        tr_tsfm = tsfm['train']\n",
    "        ds = CustomDataset(data, transform=tr_tsfm)\n",
    "        labels = ds.get_labels()\n",
    "#         class_weights = torch.tensor(compute_class_weight(class_weight=\"balanced\", classes=np.unique(labels), y=labels))\n",
    "        class_weights = torch.tensor([1, 2, 4])\n",
    "        samples_weights = class_weights[labels]\n",
    "#         print(class_weights)\n",
    "        sampler = WeightedRandomSampler(weights=samples_weights, \n",
    "                                        num_samples=len(samples_weights), \n",
    "                                        replacement=True)\n",
    "\n",
    "        dls = DataLoader(ds, \n",
    "                         batch_size=cfg['batch_size'], \n",
    "                         sampler=sampler, \n",
    "                         num_workers=os.cpu_count(), \n",
    "                         drop_last=True, \n",
    "                         pin_memory=True)\n",
    "        \n",
    "    elif split == 'valid' or split == 'test':\n",
    "        eval_tsfm = tsfm['eval']\n",
    "        ds = CustomDataset(data, transform=eval_tsfm)\n",
    "        dls = DataLoader(ds, \n",
    "                         batch_size=2*cfg['batch_size'], \n",
    "                         shuffle=False, \n",
    "                         num_workers=os.cpu_count(), \n",
    "                         drop_last=False, \n",
    "                         pin_memory=True)\n",
    "    else:\n",
    "        raise Exception(\"Split should be 'train' or 'valid' or 'test'!!!\")\n",
    "    return dls"
   ]
  },
  {
   "cell_type": "markdown",
   "id": "393f99e6",
   "metadata": {
    "papermill": {
     "duration": 0.006977,
     "end_time": "2024-07-09T07:00:16.490576",
     "exception": false,
     "start_time": "2024-07-09T07:00:16.483599",
     "status": "completed"
    },
    "tags": []
   },
   "source": [
    "# Load Model"
   ]
  },
  {
   "cell_type": "code",
   "execution_count": 12,
   "id": "fb344ade",
   "metadata": {
    "execution": {
     "iopub.execute_input": "2024-07-09T07:00:16.505934Z",
     "iopub.status.busy": "2024-07-09T07:00:16.505692Z",
     "iopub.status.idle": "2024-07-09T07:00:16.514512Z",
     "shell.execute_reply": "2024-07-09T07:00:16.513703Z"
    },
    "papermill": {
     "duration": 0.018719,
     "end_time": "2024-07-09T07:00:16.516406",
     "exception": false,
     "start_time": "2024-07-09T07:00:16.497687",
     "status": "completed"
    },
    "tags": []
   },
   "outputs": [],
   "source": [
    "# class TimmModel(nn.Module):\n",
    "#     def __init__(self, backbone, pretrained=False):\n",
    "#         super(TimmModel, self).__init__()\n",
    "\n",
    "#         self.encoder = timm.create_model(\n",
    "#             backbone,\n",
    "#             num_classes=CONFIG[\"out_dim\"],\n",
    "#             features_only=False,\n",
    "#             drop_rate=CONFIG[\"drop_rate\"],\n",
    "#             drop_path_rate=CONFIG[\"drop_path_rate\"],\n",
    "#             pretrained=pretrained\n",
    "#         )\n",
    "\n",
    "#         if 'efficient' in backbone:\n",
    "#             hdim = self.encoder.conv_head.out_channels\n",
    "#             self.encoder.classifier = nn.Identity()\n",
    "#         elif 'convnext' in backbone:\n",
    "#             hdim = self.encoder.head.fc.in_features\n",
    "#             self.encoder.head.fc = nn.Identity()\n",
    "\n",
    "\n",
    "#         self.lstm = nn.LSTM(hdim, 256, num_layers=2, dropout=CONFIG[\"drop_rate\"], bidirectional=True, batch_first=True)\n",
    "#         self.head = nn.Sequential(\n",
    "#             nn.Linear(512, 256),\n",
    "#             nn.BatchNorm1d(256),\n",
    "#             nn.Dropout(CONFIG[\"drop_rate_last\"]),\n",
    "#             nn.LeakyReLU(0.1),\n",
    "#             nn.Linear(256, CONFIG[\"out_dim\"]),\n",
    "#         )\n",
    "\n",
    "#     def forward(self, x):\n",
    "#         feat = self.encoder(x)\n",
    "#         feat, _ = self.lstm(feat)\n",
    "#         feat = self.head(feat)\n",
    "#         return feat\n",
    "\n",
    "class TimmModel(nn.Module):\n",
    "    def __init__(self, backbone, pretrained=False):\n",
    "        super(TimmModel, self).__init__()\n",
    "\n",
    "        self.encoder = timm.create_model(\n",
    "            backbone,\n",
    "            num_classes=CONFIG[\"out_dim\"],\n",
    "            features_only=False,\n",
    "            drop_rate=CONFIG[\"drop_rate\"],\n",
    "            drop_path_rate=CONFIG[\"drop_path_rate\"],\n",
    "            pretrained=pretrained\n",
    "        )\n",
    "\n",
    "        if 'efficient' in backbone:\n",
    "            hdim = self.encoder.conv_head.out_channels\n",
    "            self.encoder.classifier = nn.Identity()\n",
    "        elif 'convnext' in backbone:\n",
    "            hdim = self.encoder.head.fc.in_features\n",
    "            self.encoder.head.fc = nn.Identity()\n",
    "\n",
    "\n",
    "#         self.lstm = nn.LSTM(hdim, 256, num_layers=2, dropout=CONFIG[\"drop_rate\"], bidirectional=True, batch_first=True)\n",
    "        self.head = nn.Sequential(\n",
    "            nn.Linear(hdim, 256),\n",
    "            nn.BatchNorm1d(256),\n",
    "            nn.Dropout(CONFIG[\"drop_rate_last\"]),\n",
    "            nn.LeakyReLU(0.1),\n",
    "            nn.Linear(256, CONFIG[\"out_dim\"]),\n",
    "        )\n",
    "\n",
    "    def forward(self, x):\n",
    "        feat = self.encoder(x)\n",
    "#         feat, _ = self.lstm(feat)\n",
    "        feat = self.head(feat)\n",
    "        return feat"
   ]
  },
  {
   "cell_type": "markdown",
   "id": "c5cdd131",
   "metadata": {
    "papermill": {
     "duration": 0.006823,
     "end_time": "2024-07-09T07:00:16.530356",
     "exception": false,
     "start_time": "2024-07-09T07:00:16.523533",
     "status": "completed"
    },
    "tags": []
   },
   "source": [
    "# Predictions\n",
    "Here we have code for prediction with and without test time augmentation\n",
    "\n",
    "Test time augmentation (TTA) is useful for test images that the model is pretty unsure. It takes approximately 2 hours as compared to the normal prediction which takes roughly 30 minutes"
   ]
  },
  {
   "cell_type": "code",
   "execution_count": 13,
   "id": "1d2126dc",
   "metadata": {
    "execution": {
     "iopub.execute_input": "2024-07-09T07:00:16.545546Z",
     "iopub.status.busy": "2024-07-09T07:00:16.545281Z",
     "iopub.status.idle": "2024-07-09T07:00:16.556081Z",
     "shell.execute_reply": "2024-07-09T07:00:16.555384Z"
    },
    "papermill": {
     "duration": 0.020527,
     "end_time": "2024-07-09T07:00:16.557953",
     "exception": false,
     "start_time": "2024-07-09T07:00:16.537426",
     "status": "completed"
    },
    "tags": []
   },
   "outputs": [],
   "source": [
    "FLIPS = [None, [-1], [-2], [-2, -1]]\n",
    "\n",
    "def inference_loop(model, loader):\n",
    "    model.to(CONFIG[\"device\"])\n",
    "    model.eval()\n",
    "    preds = np.empty((0, 3))\n",
    "    with torch.no_grad():\n",
    "        for batch in tqdm(loader):\n",
    "            images, labels = batch\n",
    "            images = images.to(CONFIG[\"device\"], non_blocking=True)\n",
    "            with torch.autocast(device_type=\"cuda\", dtype=torch.float16):\n",
    "#                 logits = model(images.to(torch.float32))\n",
    "                logits = model(images)\n",
    "#                 logits = logits.mean(axis=1).softmax(dim=-1)\n",
    "                logits = logits.softmax(dim=-1)\n",
    "                preds = np.concatenate([preds, logits.detach().cpu().numpy()])\n",
    "    np.save('preds.npy', preds)\n",
    "    \n",
    "    \n",
    "def tta_inference_loop(model, loader):\n",
    "    model.to(CONFIG[\"device\"])\n",
    "    model.eval()\n",
    "    preds = np.empty((0, 3))\n",
    "    with torch.no_grad():\n",
    "        for batch in tqdm(loader):\n",
    "            images, labels = batch\n",
    "            images = images.to(CONFIG[\"device\"], non_blocking=True)\n",
    "            pred_tta = []\n",
    "            with torch.autocast(device_type=\"cuda\", dtype=torch.float16):\n",
    "                for f in FLIPS:\n",
    "                    logits = model(torch.flip(images, f) if f is not None else images)\n",
    "                    logits = logits.softmax(dim=-1)\n",
    "                    pred_tta.append(logits.detach().cpu().numpy())\n",
    "#                 preds = np.concatenate([preds, logits.detach().cpu().numpy()])\n",
    "                preds = np.concatenate([preds, np.mean(pred_tta, 0)])\n",
    "    np.save('preds.npy', preds)\n",
    "#     return preds"
   ]
  },
  {
   "cell_type": "markdown",
   "id": "52a636d9",
   "metadata": {
    "papermill": {
     "duration": 0.00691,
     "end_time": "2024-07-09T07:00:16.572173",
     "exception": false,
     "start_time": "2024-07-09T07:00:16.565263",
     "status": "completed"
    },
    "tags": []
   },
   "source": [
    "# Load model weights\n",
    "The model is trained for 1 fold using pytorch lightning rsna-pytorchlightning and the model weights are stored using Weights and Biases artifacts and you can find them [here](https://www.kaggle.com/code/zoro666/rsna-2024-load-weights/notebook)"
   ]
  },
  {
   "cell_type": "code",
   "execution_count": 14,
   "id": "ac0e135f",
   "metadata": {
    "execution": {
     "iopub.execute_input": "2024-07-09T07:00:16.587965Z",
     "iopub.status.busy": "2024-07-09T07:00:16.587275Z",
     "iopub.status.idle": "2024-07-09T07:00:17.422687Z",
     "shell.execute_reply": "2024-07-09T07:00:17.421743Z"
    },
    "papermill": {
     "duration": 0.84553,
     "end_time": "2024-07-09T07:00:17.424818",
     "exception": false,
     "start_time": "2024-07-09T07:00:16.579288",
     "status": "completed"
    },
    "tags": []
   },
   "outputs": [
    {
     "data": {
      "text/plain": [
       "<All keys matched successfully>"
      ]
     },
     "execution_count": 14,
     "metadata": {},
     "output_type": "execute_result"
    }
   ],
   "source": [
    "weights_path = \"/kaggle/input/rsna-2024-load-weights/model_weights.pth\"\n",
    "weights = torch.load(weights_path, map_location=torch.device(\"cpu\"))\n",
    "model = TimmModel(backbone=CONFIG[\"backbone\"], pretrained=False)\n",
    "model.load_state_dict(weights)"
   ]
  },
  {
   "cell_type": "code",
   "execution_count": 15,
   "id": "482bae11",
   "metadata": {
    "execution": {
     "iopub.execute_input": "2024-07-09T07:00:17.440994Z",
     "iopub.status.busy": "2024-07-09T07:00:17.440437Z",
     "iopub.status.idle": "2024-07-09T07:00:24.385312Z",
     "shell.execute_reply": "2024-07-09T07:00:24.384117Z"
    },
    "papermill": {
     "duration": 6.95531,
     "end_time": "2024-07-09T07:00:24.387639",
     "exception": false,
     "start_time": "2024-07-09T07:00:17.432329",
     "status": "completed"
    },
    "tags": []
   },
   "outputs": [
    {
     "data": {
      "application/vnd.jupyter.widget-view+json": {
       "model_id": "da791c9516a54cbab99ffc9f0b3422a0",
       "version_major": 2,
       "version_minor": 0
      },
      "text/plain": [
       "  0%|          | 0/7 [00:00<?, ?it/s]"
      ]
     },
     "metadata": {},
     "output_type": "display_data"
    }
   ],
   "source": [
    "dls = get_dataloaders(test_data, CONFIG, split=\"test\")\n",
    "# inference_loop(model, dls)\n",
    "tta_inference_loop(model, dls)\n",
    "# _ = Parallel(n_jobs=mp.cpu_count())(\n",
    "#     delayed(inference_loop(model, dls))\n",
    "# )\n",
    "\n",
    "preds = np.load('preds.npy')"
   ]
  },
  {
   "cell_type": "code",
   "execution_count": 16,
   "id": "59348e8a",
   "metadata": {
    "execution": {
     "iopub.execute_input": "2024-07-09T07:00:24.404879Z",
     "iopub.status.busy": "2024-07-09T07:00:24.404512Z",
     "iopub.status.idle": "2024-07-09T07:00:24.417012Z",
     "shell.execute_reply": "2024-07-09T07:00:24.416071Z"
    },
    "papermill": {
     "duration": 0.023456,
     "end_time": "2024-07-09T07:00:24.418989",
     "exception": false,
     "start_time": "2024-07-09T07:00:24.395533",
     "status": "completed"
    },
    "tags": []
   },
   "outputs": [],
   "source": [
    "levels = ['l1_l2', 'l2_l3', 'l3_l4', 'l4_l5', 'l5_s1']\n",
    "\n",
    "# Function to update row_id with levels\n",
    "def update_row_id(row, levels):\n",
    "    level = levels[row.name % len(levels)]\n",
    "    return f\"{row['study_id']}_{row['condition']}_{level}\"\n",
    "\n",
    "# Update row_id in expanded_test_desc to include levels\n",
    "expanded_test_desc['row_id'] = expanded_test_desc.apply(lambda row: update_row_id(row, levels), axis=1)"
   ]
  },
  {
   "cell_type": "code",
   "execution_count": 17,
   "id": "26a764a3",
   "metadata": {
    "execution": {
     "iopub.execute_input": "2024-07-09T07:00:24.434991Z",
     "iopub.status.busy": "2024-07-09T07:00:24.434718Z",
     "iopub.status.idle": "2024-07-09T07:00:24.466829Z",
     "shell.execute_reply": "2024-07-09T07:00:24.465924Z"
    },
    "papermill": {
     "duration": 0.042369,
     "end_time": "2024-07-09T07:00:24.468761",
     "exception": false,
     "start_time": "2024-07-09T07:00:24.426392",
     "status": "completed"
    },
    "tags": []
   },
   "outputs": [],
   "source": [
    "expanded_test_desc[[\"normal_mild\",\"moderate\",\"severe\"]] = preds\n",
    "\n",
    "final_df = expanded_test_desc[[\"row_id\",\"normal_mild\",\"moderate\",\"severe\"]]\n",
    "\n",
    "target_cols = sample_df.columns.tolist()\n",
    "final_df = final_df.groupby('row_id').sum().reset_index()\n",
    "# normalize the columns\n",
    "final_df[target_cols[1:]] = final_df[target_cols[1:]].div(final_df[target_cols[1:]].sum(axis=1), axis=0)\n",
    "final_df[target_cols].to_csv('submission.csv', index=False)"
   ]
  },
  {
   "cell_type": "code",
   "execution_count": 18,
   "id": "b93378e0",
   "metadata": {
    "execution": {
     "iopub.execute_input": "2024-07-09T07:00:24.484720Z",
     "iopub.status.busy": "2024-07-09T07:00:24.484433Z",
     "iopub.status.idle": "2024-07-09T07:00:24.502802Z",
     "shell.execute_reply": "2024-07-09T07:00:24.501931Z"
    },
    "papermill": {
     "duration": 0.028499,
     "end_time": "2024-07-09T07:00:24.504769",
     "exception": false,
     "start_time": "2024-07-09T07:00:24.476270",
     "status": "completed"
    },
    "tags": []
   },
   "outputs": [
    {
     "data": {
      "text/html": [
       "<div>\n",
       "<style scoped>\n",
       "    .dataframe tbody tr th:only-of-type {\n",
       "        vertical-align: middle;\n",
       "    }\n",
       "\n",
       "    .dataframe tbody tr th {\n",
       "        vertical-align: top;\n",
       "    }\n",
       "\n",
       "    .dataframe thead th {\n",
       "        text-align: right;\n",
       "    }\n",
       "</style>\n",
       "<table border=\"1\" class=\"dataframe\">\n",
       "  <thead>\n",
       "    <tr style=\"text-align: right;\">\n",
       "      <th></th>\n",
       "      <th>row_id</th>\n",
       "      <th>normal_mild</th>\n",
       "      <th>moderate</th>\n",
       "      <th>severe</th>\n",
       "    </tr>\n",
       "  </thead>\n",
       "  <tbody>\n",
       "    <tr>\n",
       "      <th>0</th>\n",
       "      <td>44036939_left_neural_foraminal_narrowing_l1_l2</td>\n",
       "      <td>0.137100</td>\n",
       "      <td>0.353545</td>\n",
       "      <td>0.509355</td>\n",
       "    </tr>\n",
       "    <tr>\n",
       "      <th>1</th>\n",
       "      <td>44036939_left_neural_foraminal_narrowing_l2_l3</td>\n",
       "      <td>0.200925</td>\n",
       "      <td>0.344936</td>\n",
       "      <td>0.454139</td>\n",
       "    </tr>\n",
       "    <tr>\n",
       "      <th>2</th>\n",
       "      <td>44036939_left_neural_foraminal_narrowing_l3_l4</td>\n",
       "      <td>0.170019</td>\n",
       "      <td>0.340564</td>\n",
       "      <td>0.489416</td>\n",
       "    </tr>\n",
       "    <tr>\n",
       "      <th>3</th>\n",
       "      <td>44036939_left_neural_foraminal_narrowing_l4_l5</td>\n",
       "      <td>0.320720</td>\n",
       "      <td>0.377197</td>\n",
       "      <td>0.302082</td>\n",
       "    </tr>\n",
       "    <tr>\n",
       "      <th>4</th>\n",
       "      <td>44036939_left_neural_foraminal_narrowing_l5_s1</td>\n",
       "      <td>0.154181</td>\n",
       "      <td>0.314419</td>\n",
       "      <td>0.531400</td>\n",
       "    </tr>\n",
       "    <tr>\n",
       "      <th>5</th>\n",
       "      <td>44036939_left_subarticular_stenosis_l1_l2</td>\n",
       "      <td>0.237098</td>\n",
       "      <td>0.328538</td>\n",
       "      <td>0.434365</td>\n",
       "    </tr>\n",
       "    <tr>\n",
       "      <th>6</th>\n",
       "      <td>44036939_left_subarticular_stenosis_l2_l3</td>\n",
       "      <td>0.290314</td>\n",
       "      <td>0.340296</td>\n",
       "      <td>0.369391</td>\n",
       "    </tr>\n",
       "    <tr>\n",
       "      <th>7</th>\n",
       "      <td>44036939_left_subarticular_stenosis_l3_l4</td>\n",
       "      <td>0.252742</td>\n",
       "      <td>0.370069</td>\n",
       "      <td>0.377188</td>\n",
       "    </tr>\n",
       "    <tr>\n",
       "      <th>8</th>\n",
       "      <td>44036939_left_subarticular_stenosis_l4_l5</td>\n",
       "      <td>0.314765</td>\n",
       "      <td>0.269946</td>\n",
       "      <td>0.415289</td>\n",
       "    </tr>\n",
       "    <tr>\n",
       "      <th>9</th>\n",
       "      <td>44036939_left_subarticular_stenosis_l5_s1</td>\n",
       "      <td>0.319127</td>\n",
       "      <td>0.262818</td>\n",
       "      <td>0.418055</td>\n",
       "    </tr>\n",
       "    <tr>\n",
       "      <th>10</th>\n",
       "      <td>44036939_right_neural_foraminal_narrowing_l1_l2</td>\n",
       "      <td>0.137100</td>\n",
       "      <td>0.353545</td>\n",
       "      <td>0.509355</td>\n",
       "    </tr>\n",
       "    <tr>\n",
       "      <th>11</th>\n",
       "      <td>44036939_right_neural_foraminal_narrowing_l2_l3</td>\n",
       "      <td>0.200925</td>\n",
       "      <td>0.344936</td>\n",
       "      <td>0.454139</td>\n",
       "    </tr>\n",
       "    <tr>\n",
       "      <th>12</th>\n",
       "      <td>44036939_right_neural_foraminal_narrowing_l3_l4</td>\n",
       "      <td>0.170019</td>\n",
       "      <td>0.340564</td>\n",
       "      <td>0.489416</td>\n",
       "    </tr>\n",
       "    <tr>\n",
       "      <th>13</th>\n",
       "      <td>44036939_right_neural_foraminal_narrowing_l4_l5</td>\n",
       "      <td>0.320720</td>\n",
       "      <td>0.377197</td>\n",
       "      <td>0.302082</td>\n",
       "    </tr>\n",
       "    <tr>\n",
       "      <th>14</th>\n",
       "      <td>44036939_right_neural_foraminal_narrowing_l5_s1</td>\n",
       "      <td>0.154181</td>\n",
       "      <td>0.314419</td>\n",
       "      <td>0.531400</td>\n",
       "    </tr>\n",
       "    <tr>\n",
       "      <th>15</th>\n",
       "      <td>44036939_right_subarticular_stenosis_l1_l2</td>\n",
       "      <td>0.314765</td>\n",
       "      <td>0.269946</td>\n",
       "      <td>0.415289</td>\n",
       "    </tr>\n",
       "    <tr>\n",
       "      <th>16</th>\n",
       "      <td>44036939_right_subarticular_stenosis_l2_l3</td>\n",
       "      <td>0.319127</td>\n",
       "      <td>0.262818</td>\n",
       "      <td>0.418055</td>\n",
       "    </tr>\n",
       "    <tr>\n",
       "      <th>17</th>\n",
       "      <td>44036939_right_subarticular_stenosis_l3_l4</td>\n",
       "      <td>0.237098</td>\n",
       "      <td>0.328538</td>\n",
       "      <td>0.434365</td>\n",
       "    </tr>\n",
       "    <tr>\n",
       "      <th>18</th>\n",
       "      <td>44036939_right_subarticular_stenosis_l4_l5</td>\n",
       "      <td>0.290314</td>\n",
       "      <td>0.340296</td>\n",
       "      <td>0.369391</td>\n",
       "    </tr>\n",
       "    <tr>\n",
       "      <th>19</th>\n",
       "      <td>44036939_right_subarticular_stenosis_l5_s1</td>\n",
       "      <td>0.252742</td>\n",
       "      <td>0.370069</td>\n",
       "      <td>0.377188</td>\n",
       "    </tr>\n",
       "    <tr>\n",
       "      <th>20</th>\n",
       "      <td>44036939_spinal_canal_stenosis_l1_l2</td>\n",
       "      <td>0.205289</td>\n",
       "      <td>0.303365</td>\n",
       "      <td>0.491346</td>\n",
       "    </tr>\n",
       "    <tr>\n",
       "      <th>21</th>\n",
       "      <td>44036939_spinal_canal_stenosis_l2_l3</td>\n",
       "      <td>0.211134</td>\n",
       "      <td>0.345106</td>\n",
       "      <td>0.443760</td>\n",
       "    </tr>\n",
       "    <tr>\n",
       "      <th>22</th>\n",
       "      <td>44036939_spinal_canal_stenosis_l3_l4</td>\n",
       "      <td>0.343774</td>\n",
       "      <td>0.350663</td>\n",
       "      <td>0.305563</td>\n",
       "    </tr>\n",
       "    <tr>\n",
       "      <th>23</th>\n",
       "      <td>44036939_spinal_canal_stenosis_l4_l5</td>\n",
       "      <td>0.155638</td>\n",
       "      <td>0.316556</td>\n",
       "      <td>0.527806</td>\n",
       "    </tr>\n",
       "    <tr>\n",
       "      <th>24</th>\n",
       "      <td>44036939_spinal_canal_stenosis_l5_s1</td>\n",
       "      <td>0.173478</td>\n",
       "      <td>0.281379</td>\n",
       "      <td>0.545144</td>\n",
       "    </tr>\n",
       "  </tbody>\n",
       "</table>\n",
       "</div>"
      ],
      "text/plain": [
       "                                             row_id  normal_mild  moderate  \\\n",
       "0    44036939_left_neural_foraminal_narrowing_l1_l2     0.137100  0.353545   \n",
       "1    44036939_left_neural_foraminal_narrowing_l2_l3     0.200925  0.344936   \n",
       "2    44036939_left_neural_foraminal_narrowing_l3_l4     0.170019  0.340564   \n",
       "3    44036939_left_neural_foraminal_narrowing_l4_l5     0.320720  0.377197   \n",
       "4    44036939_left_neural_foraminal_narrowing_l5_s1     0.154181  0.314419   \n",
       "5         44036939_left_subarticular_stenosis_l1_l2     0.237098  0.328538   \n",
       "6         44036939_left_subarticular_stenosis_l2_l3     0.290314  0.340296   \n",
       "7         44036939_left_subarticular_stenosis_l3_l4     0.252742  0.370069   \n",
       "8         44036939_left_subarticular_stenosis_l4_l5     0.314765  0.269946   \n",
       "9         44036939_left_subarticular_stenosis_l5_s1     0.319127  0.262818   \n",
       "10  44036939_right_neural_foraminal_narrowing_l1_l2     0.137100  0.353545   \n",
       "11  44036939_right_neural_foraminal_narrowing_l2_l3     0.200925  0.344936   \n",
       "12  44036939_right_neural_foraminal_narrowing_l3_l4     0.170019  0.340564   \n",
       "13  44036939_right_neural_foraminal_narrowing_l4_l5     0.320720  0.377197   \n",
       "14  44036939_right_neural_foraminal_narrowing_l5_s1     0.154181  0.314419   \n",
       "15       44036939_right_subarticular_stenosis_l1_l2     0.314765  0.269946   \n",
       "16       44036939_right_subarticular_stenosis_l2_l3     0.319127  0.262818   \n",
       "17       44036939_right_subarticular_stenosis_l3_l4     0.237098  0.328538   \n",
       "18       44036939_right_subarticular_stenosis_l4_l5     0.290314  0.340296   \n",
       "19       44036939_right_subarticular_stenosis_l5_s1     0.252742  0.370069   \n",
       "20             44036939_spinal_canal_stenosis_l1_l2     0.205289  0.303365   \n",
       "21             44036939_spinal_canal_stenosis_l2_l3     0.211134  0.345106   \n",
       "22             44036939_spinal_canal_stenosis_l3_l4     0.343774  0.350663   \n",
       "23             44036939_spinal_canal_stenosis_l4_l5     0.155638  0.316556   \n",
       "24             44036939_spinal_canal_stenosis_l5_s1     0.173478  0.281379   \n",
       "\n",
       "      severe  \n",
       "0   0.509355  \n",
       "1   0.454139  \n",
       "2   0.489416  \n",
       "3   0.302082  \n",
       "4   0.531400  \n",
       "5   0.434365  \n",
       "6   0.369391  \n",
       "7   0.377188  \n",
       "8   0.415289  \n",
       "9   0.418055  \n",
       "10  0.509355  \n",
       "11  0.454139  \n",
       "12  0.489416  \n",
       "13  0.302082  \n",
       "14  0.531400  \n",
       "15  0.415289  \n",
       "16  0.418055  \n",
       "17  0.434365  \n",
       "18  0.369391  \n",
       "19  0.377188  \n",
       "20  0.491346  \n",
       "21  0.443760  \n",
       "22  0.305563  \n",
       "23  0.527806  \n",
       "24  0.545144  "
      ]
     },
     "execution_count": 18,
     "metadata": {},
     "output_type": "execute_result"
    }
   ],
   "source": [
    "pd.read_csv('submission.csv')"
   ]
  },
  {
   "cell_type": "code",
   "execution_count": null,
   "id": "6e93bf18",
   "metadata": {
    "papermill": {
     "duration": 0.007787,
     "end_time": "2024-07-09T07:00:24.520257",
     "exception": false,
     "start_time": "2024-07-09T07:00:24.512470",
     "status": "completed"
    },
    "tags": []
   },
   "outputs": [],
   "source": []
  }
 ],
 "metadata": {
  "kaggle": {
   "accelerator": "gpu",
   "dataSources": [
    {
     "databundleVersionId": 8561470,
     "sourceId": 71549,
     "sourceType": "competition"
    },
    {
     "sourceId": 187278429,
     "sourceType": "kernelVersion"
    }
   ],
   "dockerImageVersionId": 30732,
   "isGpuEnabled": true,
   "isInternetEnabled": false,
   "language": "python",
   "sourceType": "notebook"
  },
  "kernelspec": {
   "display_name": "Python 3",
   "language": "python",
   "name": "python3"
  },
  "language_info": {
   "codemirror_mode": {
    "name": "ipython",
    "version": 3
   },
   "file_extension": ".py",
   "mimetype": "text/x-python",
   "name": "python",
   "nbconvert_exporter": "python",
   "pygments_lexer": "ipython3",
   "version": "3.10.13"
  },
  "papermill": {
   "default_parameters": {},
   "duration": 25.709794,
   "end_time": "2024-07-09T07:00:27.346773",
   "environment_variables": {},
   "exception": null,
   "input_path": "__notebook__.ipynb",
   "output_path": "__notebook__.ipynb",
   "parameters": {},
   "start_time": "2024-07-09T07:00:01.636979",
   "version": "2.5.0"
  },
  "widgets": {
   "application/vnd.jupyter.widget-state+json": {
    "state": {
     "08d9cb48bd6342ecad73ebc9a097f8b6": {
      "model_module": "@jupyter-widgets/controls",
      "model_module_version": "1.5.0",
      "model_name": "FloatProgressModel",
      "state": {
       "_dom_classes": [],
       "_model_module": "@jupyter-widgets/controls",
       "_model_module_version": "1.5.0",
       "_model_name": "FloatProgressModel",
       "_view_count": null,
       "_view_module": "@jupyter-widgets/controls",
       "_view_module_version": "1.5.0",
       "_view_name": "ProgressView",
       "bar_style": "success",
       "description": "",
       "description_tooltip": null,
       "layout": "IPY_MODEL_fdbd5793b2ad443dbb1bc477723ce0a5",
       "max": 7.0,
       "min": 0.0,
       "orientation": "horizontal",
       "style": "IPY_MODEL_fc91e119f55f40d4b29c8557ed82858a",
       "value": 7.0
      }
     },
     "124f363810aa4df29931590f2ee41abd": {
      "model_module": "@jupyter-widgets/controls",
      "model_module_version": "1.5.0",
      "model_name": "DescriptionStyleModel",
      "state": {
       "_model_module": "@jupyter-widgets/controls",
       "_model_module_version": "1.5.0",
       "_model_name": "DescriptionStyleModel",
       "_view_count": null,
       "_view_module": "@jupyter-widgets/base",
       "_view_module_version": "1.2.0",
       "_view_name": "StyleView",
       "description_width": ""
      }
     },
     "2604073af07b4c86990d9fa884cf776d": {
      "model_module": "@jupyter-widgets/base",
      "model_module_version": "1.2.0",
      "model_name": "LayoutModel",
      "state": {
       "_model_module": "@jupyter-widgets/base",
       "_model_module_version": "1.2.0",
       "_model_name": "LayoutModel",
       "_view_count": null,
       "_view_module": "@jupyter-widgets/base",
       "_view_module_version": "1.2.0",
       "_view_name": "LayoutView",
       "align_content": null,
       "align_items": null,
       "align_self": null,
       "border": null,
       "bottom": null,
       "display": null,
       "flex": null,
       "flex_flow": null,
       "grid_area": null,
       "grid_auto_columns": null,
       "grid_auto_flow": null,
       "grid_auto_rows": null,
       "grid_column": null,
       "grid_gap": null,
       "grid_row": null,
       "grid_template_areas": null,
       "grid_template_columns": null,
       "grid_template_rows": null,
       "height": null,
       "justify_content": null,
       "justify_items": null,
       "left": null,
       "margin": null,
       "max_height": null,
       "max_width": null,
       "min_height": null,
       "min_width": null,
       "object_fit": null,
       "object_position": null,
       "order": null,
       "overflow": null,
       "overflow_x": null,
       "overflow_y": null,
       "padding": null,
       "right": null,
       "top": null,
       "visibility": null,
       "width": null
      }
     },
     "2b9415cbb822487fb64e58ab56b8f17b": {
      "model_module": "@jupyter-widgets/controls",
      "model_module_version": "1.5.0",
      "model_name": "HTMLModel",
      "state": {
       "_dom_classes": [],
       "_model_module": "@jupyter-widgets/controls",
       "_model_module_version": "1.5.0",
       "_model_name": "HTMLModel",
       "_view_count": null,
       "_view_module": "@jupyter-widgets/controls",
       "_view_module_version": "1.5.0",
       "_view_name": "HTMLView",
       "description": "",
       "description_tooltip": null,
       "layout": "IPY_MODEL_b5c436749d8246ff953330f858ecb0c9",
       "placeholder": "​",
       "style": "IPY_MODEL_124f363810aa4df29931590f2ee41abd",
       "value": " 7/7 [00:06&lt;00:00,  2.19it/s]"
      }
     },
     "77163b99f0b44f3a8585774a3918abd0": {
      "model_module": "@jupyter-widgets/base",
      "model_module_version": "1.2.0",
      "model_name": "LayoutModel",
      "state": {
       "_model_module": "@jupyter-widgets/base",
       "_model_module_version": "1.2.0",
       "_model_name": "LayoutModel",
       "_view_count": null,
       "_view_module": "@jupyter-widgets/base",
       "_view_module_version": "1.2.0",
       "_view_name": "LayoutView",
       "align_content": null,
       "align_items": null,
       "align_self": null,
       "border": null,
       "bottom": null,
       "display": null,
       "flex": null,
       "flex_flow": null,
       "grid_area": null,
       "grid_auto_columns": null,
       "grid_auto_flow": null,
       "grid_auto_rows": null,
       "grid_column": null,
       "grid_gap": null,
       "grid_row": null,
       "grid_template_areas": null,
       "grid_template_columns": null,
       "grid_template_rows": null,
       "height": null,
       "justify_content": null,
       "justify_items": null,
       "left": null,
       "margin": null,
       "max_height": null,
       "max_width": null,
       "min_height": null,
       "min_width": null,
       "object_fit": null,
       "object_position": null,
       "order": null,
       "overflow": null,
       "overflow_x": null,
       "overflow_y": null,
       "padding": null,
       "right": null,
       "top": null,
       "visibility": null,
       "width": null
      }
     },
     "b31b69d0eba64c65bd8a9bcd04c50f9c": {
      "model_module": "@jupyter-widgets/controls",
      "model_module_version": "1.5.0",
      "model_name": "DescriptionStyleModel",
      "state": {
       "_model_module": "@jupyter-widgets/controls",
       "_model_module_version": "1.5.0",
       "_model_name": "DescriptionStyleModel",
       "_view_count": null,
       "_view_module": "@jupyter-widgets/base",
       "_view_module_version": "1.2.0",
       "_view_name": "StyleView",
       "description_width": ""
      }
     },
     "b5c436749d8246ff953330f858ecb0c9": {
      "model_module": "@jupyter-widgets/base",
      "model_module_version": "1.2.0",
      "model_name": "LayoutModel",
      "state": {
       "_model_module": "@jupyter-widgets/base",
       "_model_module_version": "1.2.0",
       "_model_name": "LayoutModel",
       "_view_count": null,
       "_view_module": "@jupyter-widgets/base",
       "_view_module_version": "1.2.0",
       "_view_name": "LayoutView",
       "align_content": null,
       "align_items": null,
       "align_self": null,
       "border": null,
       "bottom": null,
       "display": null,
       "flex": null,
       "flex_flow": null,
       "grid_area": null,
       "grid_auto_columns": null,
       "grid_auto_flow": null,
       "grid_auto_rows": null,
       "grid_column": null,
       "grid_gap": null,
       "grid_row": null,
       "grid_template_areas": null,
       "grid_template_columns": null,
       "grid_template_rows": null,
       "height": null,
       "justify_content": null,
       "justify_items": null,
       "left": null,
       "margin": null,
       "max_height": null,
       "max_width": null,
       "min_height": null,
       "min_width": null,
       "object_fit": null,
       "object_position": null,
       "order": null,
       "overflow": null,
       "overflow_x": null,
       "overflow_y": null,
       "padding": null,
       "right": null,
       "top": null,
       "visibility": null,
       "width": null
      }
     },
     "d50588af284740009aa986693544d479": {
      "model_module": "@jupyter-widgets/controls",
      "model_module_version": "1.5.0",
      "model_name": "HTMLModel",
      "state": {
       "_dom_classes": [],
       "_model_module": "@jupyter-widgets/controls",
       "_model_module_version": "1.5.0",
       "_model_name": "HTMLModel",
       "_view_count": null,
       "_view_module": "@jupyter-widgets/controls",
       "_view_module_version": "1.5.0",
       "_view_name": "HTMLView",
       "description": "",
       "description_tooltip": null,
       "layout": "IPY_MODEL_77163b99f0b44f3a8585774a3918abd0",
       "placeholder": "​",
       "style": "IPY_MODEL_b31b69d0eba64c65bd8a9bcd04c50f9c",
       "value": "100%"
      }
     },
     "da791c9516a54cbab99ffc9f0b3422a0": {
      "model_module": "@jupyter-widgets/controls",
      "model_module_version": "1.5.0",
      "model_name": "HBoxModel",
      "state": {
       "_dom_classes": [],
       "_model_module": "@jupyter-widgets/controls",
       "_model_module_version": "1.5.0",
       "_model_name": "HBoxModel",
       "_view_count": null,
       "_view_module": "@jupyter-widgets/controls",
       "_view_module_version": "1.5.0",
       "_view_name": "HBoxView",
       "box_style": "",
       "children": [
        "IPY_MODEL_d50588af284740009aa986693544d479",
        "IPY_MODEL_08d9cb48bd6342ecad73ebc9a097f8b6",
        "IPY_MODEL_2b9415cbb822487fb64e58ab56b8f17b"
       ],
       "layout": "IPY_MODEL_2604073af07b4c86990d9fa884cf776d"
      }
     },
     "fc91e119f55f40d4b29c8557ed82858a": {
      "model_module": "@jupyter-widgets/controls",
      "model_module_version": "1.5.0",
      "model_name": "ProgressStyleModel",
      "state": {
       "_model_module": "@jupyter-widgets/controls",
       "_model_module_version": "1.5.0",
       "_model_name": "ProgressStyleModel",
       "_view_count": null,
       "_view_module": "@jupyter-widgets/base",
       "_view_module_version": "1.2.0",
       "_view_name": "StyleView",
       "bar_color": null,
       "description_width": ""
      }
     },
     "fdbd5793b2ad443dbb1bc477723ce0a5": {
      "model_module": "@jupyter-widgets/base",
      "model_module_version": "1.2.0",
      "model_name": "LayoutModel",
      "state": {
       "_model_module": "@jupyter-widgets/base",
       "_model_module_version": "1.2.0",
       "_model_name": "LayoutModel",
       "_view_count": null,
       "_view_module": "@jupyter-widgets/base",
       "_view_module_version": "1.2.0",
       "_view_name": "LayoutView",
       "align_content": null,
       "align_items": null,
       "align_self": null,
       "border": null,
       "bottom": null,
       "display": null,
       "flex": null,
       "flex_flow": null,
       "grid_area": null,
       "grid_auto_columns": null,
       "grid_auto_flow": null,
       "grid_auto_rows": null,
       "grid_column": null,
       "grid_gap": null,
       "grid_row": null,
       "grid_template_areas": null,
       "grid_template_columns": null,
       "grid_template_rows": null,
       "height": null,
       "justify_content": null,
       "justify_items": null,
       "left": null,
       "margin": null,
       "max_height": null,
       "max_width": null,
       "min_height": null,
       "min_width": null,
       "object_fit": null,
       "object_position": null,
       "order": null,
       "overflow": null,
       "overflow_x": null,
       "overflow_y": null,
       "padding": null,
       "right": null,
       "top": null,
       "visibility": null,
       "width": null
      }
     }
    },
    "version_major": 2,
    "version_minor": 0
   }
  }
 },
 "nbformat": 4,
 "nbformat_minor": 5
}
