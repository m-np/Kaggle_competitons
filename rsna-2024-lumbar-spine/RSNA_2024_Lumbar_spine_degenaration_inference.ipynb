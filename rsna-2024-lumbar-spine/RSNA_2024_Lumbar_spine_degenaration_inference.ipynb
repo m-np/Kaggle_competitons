{
 "cells": [
  {
   "cell_type": "markdown",
   "id": "b7a6f8d1",
   "metadata": {
    "_cell_guid": "b1076dfc-b9ad-4769-8c92-a6c4dae69d19",
    "_uuid": "8f2839f25d086af736a60e9eeb907d3b93b6e0e5",
    "papermill": {
     "duration": 0.008489,
     "end_time": "2024-07-07T23:18:01.348348",
     "exception": false,
     "start_time": "2024-07-07T23:18:01.339859",
     "status": "completed"
    },
    "tags": []
   },
   "source": [
    "This code is following the inference notebook shared [here](https://www.kaggle.com/code/samu2505/rsna-lumbar-inference-lb-0-84-cv-0-54) \n",
    "\n",
    "Training code link in the following [NB](https://www.kaggle.com/code/zoro666/rsna-2024-lumbar-spine-1)"
   ]
  },
  {
   "cell_type": "code",
   "execution_count": 1,
   "id": "d61c2e48",
   "metadata": {
    "execution": {
     "iopub.execute_input": "2024-07-07T23:18:01.366293Z",
     "iopub.status.busy": "2024-07-07T23:18:01.365334Z",
     "iopub.status.idle": "2024-07-07T23:18:12.862284Z",
     "shell.execute_reply": "2024-07-07T23:18:12.861352Z"
    },
    "papermill": {
     "duration": 11.508341,
     "end_time": "2024-07-07T23:18:12.864616",
     "exception": false,
     "start_time": "2024-07-07T23:18:01.356275",
     "status": "completed"
    },
    "tags": []
   },
   "outputs": [],
   "source": [
    "import os, gc, sys, copy, pickle\n",
    "from pathlib import Path\n",
    "import glob\n",
    "from tqdm.auto import tqdm\n",
    "tqdm.pandas()\n",
    "\n",
    "import math\n",
    "import random\n",
    "import pandas as pd\n",
    "import numpy as np\n",
    "import matplotlib.pyplot as plt\n",
    "\n",
    "from joblib import Parallel, delayed\n",
    "import multiprocessing as mp\n",
    "\n",
    "import albumentations as A\n",
    "import torch\n",
    "import torch.nn as nn\n",
    "import torch.optim as optim\n",
    "import torch.cuda.amp as amp\n",
    "import torch.nn.functional as F\n",
    "from torch.utils.data import DataLoader, Dataset\n",
    "import torchvision.transforms as transforms\n",
    "\n",
    "import pytorch_lightning as pl\n",
    "from pytorch_lightning.loggers import WandbLogger\n",
    "from pytorch_lightning.callbacks import LearningRateMonitor, ModelCheckpoint\n",
    "from pytorch_lightning.callbacks.early_stopping import EarlyStopping\n",
    "\n",
    "from torch.utils.data import WeightedRandomSampler\n",
    "from sklearn.utils.class_weight import compute_class_weight\n",
    "\n",
    "import timm\n",
    "\n",
    "import cv2\n",
    "cv2.setNumThreads(0)\n",
    "import PIL\n",
    "import pydicom\n",
    "import warnings\n",
    "warnings.filterwarnings(\"ignore\")"
   ]
  },
  {
   "cell_type": "code",
   "execution_count": 2,
   "id": "90a04ab4",
   "metadata": {
    "execution": {
     "iopub.execute_input": "2024-07-07T23:18:12.880011Z",
     "iopub.status.busy": "2024-07-07T23:18:12.879740Z",
     "iopub.status.idle": "2024-07-07T23:18:12.886102Z",
     "shell.execute_reply": "2024-07-07T23:18:12.885266Z"
    },
    "papermill": {
     "duration": 0.015946,
     "end_time": "2024-07-07T23:18:12.888072",
     "exception": false,
     "start_time": "2024-07-07T23:18:12.872126",
     "status": "completed"
    },
    "tags": []
   },
   "outputs": [],
   "source": [
    "def seeding(SEED):\n",
    "    np.random.seed(SEED)\n",
    "    random.seed(SEED)\n",
    "    os.environ['PYTHONHASHSEED'] = str(SEED)\n",
    "    torch.manual_seed(SEED)\n",
    "    if torch.cuda.is_available(): \n",
    "        torch.cuda.manual_seed(SEED)\n",
    "        torch.cuda.manual_seed_all(SEED)\n",
    "        torch.backends.cudnn.deterministic = True\n",
    "        torch.backends.cudnn.benchmark = False\n",
    "#     os.environ['TF_CUDNN_DETERMINISTIC'] = str(SEED)\n",
    "#     tf.random.set_seed(SEED)\n",
    "#     keras.utils.set_random_seed(seed=SEED)\n",
    "    print('seeding done!!!')\n",
    "\n",
    "def flush():\n",
    "    gc.collect()\n",
    "    if torch.cuda.is_available():\n",
    "        torch.cuda.empty_cache()\n",
    "        torch.cuda.reset_peak_memory_stats()"
   ]
  },
  {
   "cell_type": "markdown",
   "id": "50fac1e3",
   "metadata": {
    "papermill": {
     "duration": 0.006394,
     "end_time": "2024-07-07T23:18:12.901013",
     "exception": false,
     "start_time": "2024-07-07T23:18:12.894619",
     "status": "completed"
    },
    "tags": []
   },
   "source": [
    "# Configurations"
   ]
  },
  {
   "cell_type": "code",
   "execution_count": 3,
   "id": "9f9c3353",
   "metadata": {
    "execution": {
     "iopub.execute_input": "2024-07-07T23:18:12.915416Z",
     "iopub.status.busy": "2024-07-07T23:18:12.914907Z",
     "iopub.status.idle": "2024-07-07T23:18:12.945201Z",
     "shell.execute_reply": "2024-07-07T23:18:12.944402Z"
    },
    "papermill": {
     "duration": 0.039787,
     "end_time": "2024-07-07T23:18:12.947319",
     "exception": false,
     "start_time": "2024-07-07T23:18:12.907532",
     "status": "completed"
    },
    "tags": []
   },
   "outputs": [
    {
     "name": "stdout",
     "output_type": "stream",
     "text": [
      "seeding done!!!\n"
     ]
    }
   ],
   "source": [
    "CONFIG = dict(\n",
    "    project_name = \"RSNA-2024-Lumbar-Spine-Classification-Torch-RZoro\",\n",
    "    artifact_name = \"rsnaEffNetModel\",\n",
    "    load_kernel = None,\n",
    "    load_last = True,\n",
    "    n_folds = 5,\n",
    "    backbone = \"efficientnet_b0.ra_in1k\", # tf_efficientnetv2_s_in21ft1k\n",
    "    img_size = 384,\n",
    "    n_slice_per_c = 16,\n",
    "    in_chans = 3,\n",
    "\n",
    "    drop_rate = 0.,\n",
    "    drop_rate_last = 0.3,\n",
    "    drop_path_rate = 0.,\n",
    "    p_mixup = 0.5,\n",
    "    p_rand_order_v1 = 0.2,\n",
    "    lr = 4e-4, # 1e-3, 8e-4, 5e-4, 4e-4\n",
    "\n",
    "    out_dim = 3,\n",
    "    epochs = 50,\n",
    "    batch_size = 16,\n",
    "#     patience = 7,\n",
    "    device = torch.device(\"cuda:0\") if torch.cuda.is_available() else \"cpu\",\n",
    "    seed = 2024,\n",
    "    log_wandb = True,\n",
    "    with_clip = True,\n",
    ")\n",
    "\n",
    "CONFIG['patience'] = math.ceil(0.2 * CONFIG['epochs'])\n",
    "\n",
    "seeding(CONFIG['seed'])"
   ]
  },
  {
   "cell_type": "code",
   "execution_count": 4,
   "id": "f871fca7",
   "metadata": {
    "execution": {
     "iopub.execute_input": "2024-07-07T23:18:12.962671Z",
     "iopub.status.busy": "2024-07-07T23:18:12.962388Z",
     "iopub.status.idle": "2024-07-07T23:18:12.969257Z",
     "shell.execute_reply": "2024-07-07T23:18:12.968529Z"
    },
    "papermill": {
     "duration": 0.016331,
     "end_time": "2024-07-07T23:18:12.971121",
     "exception": false,
     "start_time": "2024-07-07T23:18:12.954790",
     "status": "completed"
    },
    "tags": []
   },
   "outputs": [
    {
     "data": {
      "text/plain": [
       "['sample_submission.csv',\n",
       " 'train_images',\n",
       " 'train_series_descriptions.csv',\n",
       " 'train.csv',\n",
       " 'train_label_coordinates.csv',\n",
       " 'test_series_descriptions.csv',\n",
       " 'test_images']"
      ]
     },
     "execution_count": 4,
     "metadata": {},
     "output_type": "execute_result"
    }
   ],
   "source": [
    "DATA_PATH = Path(\"/kaggle/input/rsna-2024-lumbar-spine-degenerative-classification\")\n",
    "os.listdir(DATA_PATH)"
   ]
  },
  {
   "cell_type": "code",
   "execution_count": 5,
   "id": "a8d49c89",
   "metadata": {
    "execution": {
     "iopub.execute_input": "2024-07-07T23:18:12.985998Z",
     "iopub.status.busy": "2024-07-07T23:18:12.985748Z",
     "iopub.status.idle": "2024-07-07T23:18:13.078203Z",
     "shell.execute_reply": "2024-07-07T23:18:13.077416Z"
    },
    "papermill": {
     "duration": 0.102437,
     "end_time": "2024-07-07T23:18:13.080432",
     "exception": false,
     "start_time": "2024-07-07T23:18:12.977995",
     "status": "completed"
    },
    "tags": []
   },
   "outputs": [],
   "source": [
    "sample_df = pd.read_csv(DATA_PATH/\"sample_submission.csv\")\n",
    "test_desc = pd.read_csv(DATA_PATH/\"test_series_descriptions.csv\")\n",
    "train_desc = pd.read_csv(DATA_PATH/\"train_series_descriptions.csv\")\n",
    "train_main = pd.read_csv(DATA_PATH/\"train.csv\")"
   ]
  },
  {
   "cell_type": "markdown",
   "id": "16498c7d",
   "metadata": {
    "papermill": {
     "duration": 0.006715,
     "end_time": "2024-07-07T23:18:13.094296",
     "exception": false,
     "start_time": "2024-07-07T23:18:13.087581",
     "status": "completed"
    },
    "tags": []
   },
   "source": [
    "# Create dataset"
   ]
  },
  {
   "cell_type": "code",
   "execution_count": 6,
   "id": "9858d144",
   "metadata": {
    "execution": {
     "iopub.execute_input": "2024-07-07T23:18:13.109692Z",
     "iopub.status.busy": "2024-07-07T23:18:13.109420Z",
     "iopub.status.idle": "2024-07-07T23:18:13.200141Z",
     "shell.execute_reply": "2024-07-07T23:18:13.199263Z"
    },
    "papermill": {
     "duration": 0.100555,
     "end_time": "2024-07-07T23:18:13.202002",
     "exception": false,
     "start_time": "2024-07-07T23:18:13.101447",
     "status": "completed"
    },
    "tags": []
   },
   "outputs": [
    {
     "data": {
      "text/html": [
       "<div>\n",
       "<style scoped>\n",
       "    .dataframe tbody tr th:only-of-type {\n",
       "        vertical-align: middle;\n",
       "    }\n",
       "\n",
       "    .dataframe tbody tr th {\n",
       "        vertical-align: top;\n",
       "    }\n",
       "\n",
       "    .dataframe thead th {\n",
       "        text-align: right;\n",
       "    }\n",
       "</style>\n",
       "<table border=\"1\" class=\"dataframe\">\n",
       "  <thead>\n",
       "    <tr style=\"text-align: right;\">\n",
       "      <th></th>\n",
       "      <th>study_id</th>\n",
       "      <th>series_id</th>\n",
       "      <th>series_description</th>\n",
       "      <th>image_path</th>\n",
       "      <th>condition</th>\n",
       "      <th>row_id</th>\n",
       "      <th>target</th>\n",
       "    </tr>\n",
       "  </thead>\n",
       "  <tbody>\n",
       "    <tr>\n",
       "      <th>0</th>\n",
       "      <td>44036939</td>\n",
       "      <td>2828203845</td>\n",
       "      <td>Sagittal T1</td>\n",
       "      <td>/kaggle/input/rsna-2024-lumbar-spine-degenerat...</td>\n",
       "      <td>left_neural_foraminal_narrowing</td>\n",
       "      <td>44036939_left_neural_foraminal_narrowing</td>\n",
       "      <td>0</td>\n",
       "    </tr>\n",
       "    <tr>\n",
       "      <th>1</th>\n",
       "      <td>44036939</td>\n",
       "      <td>2828203845</td>\n",
       "      <td>Sagittal T1</td>\n",
       "      <td>/kaggle/input/rsna-2024-lumbar-spine-degenerat...</td>\n",
       "      <td>left_neural_foraminal_narrowing</td>\n",
       "      <td>44036939_left_neural_foraminal_narrowing</td>\n",
       "      <td>0</td>\n",
       "    </tr>\n",
       "    <tr>\n",
       "      <th>2</th>\n",
       "      <td>44036939</td>\n",
       "      <td>2828203845</td>\n",
       "      <td>Sagittal T1</td>\n",
       "      <td>/kaggle/input/rsna-2024-lumbar-spine-degenerat...</td>\n",
       "      <td>left_neural_foraminal_narrowing</td>\n",
       "      <td>44036939_left_neural_foraminal_narrowing</td>\n",
       "      <td>0</td>\n",
       "    </tr>\n",
       "    <tr>\n",
       "      <th>3</th>\n",
       "      <td>44036939</td>\n",
       "      <td>2828203845</td>\n",
       "      <td>Sagittal T1</td>\n",
       "      <td>/kaggle/input/rsna-2024-lumbar-spine-degenerat...</td>\n",
       "      <td>left_neural_foraminal_narrowing</td>\n",
       "      <td>44036939_left_neural_foraminal_narrowing</td>\n",
       "      <td>0</td>\n",
       "    </tr>\n",
       "    <tr>\n",
       "      <th>4</th>\n",
       "      <td>44036939</td>\n",
       "      <td>2828203845</td>\n",
       "      <td>Sagittal T1</td>\n",
       "      <td>/kaggle/input/rsna-2024-lumbar-spine-degenerat...</td>\n",
       "      <td>left_neural_foraminal_narrowing</td>\n",
       "      <td>44036939_left_neural_foraminal_narrowing</td>\n",
       "      <td>0</td>\n",
       "    </tr>\n",
       "  </tbody>\n",
       "</table>\n",
       "</div>"
      ],
      "text/plain": [
       "   study_id   series_id series_description  \\\n",
       "0  44036939  2828203845        Sagittal T1   \n",
       "1  44036939  2828203845        Sagittal T1   \n",
       "2  44036939  2828203845        Sagittal T1   \n",
       "3  44036939  2828203845        Sagittal T1   \n",
       "4  44036939  2828203845        Sagittal T1   \n",
       "\n",
       "                                          image_path  \\\n",
       "0  /kaggle/input/rsna-2024-lumbar-spine-degenerat...   \n",
       "1  /kaggle/input/rsna-2024-lumbar-spine-degenerat...   \n",
       "2  /kaggle/input/rsna-2024-lumbar-spine-degenerat...   \n",
       "3  /kaggle/input/rsna-2024-lumbar-spine-degenerat...   \n",
       "4  /kaggle/input/rsna-2024-lumbar-spine-degenerat...   \n",
       "\n",
       "                         condition                                    row_id  \\\n",
       "0  left_neural_foraminal_narrowing  44036939_left_neural_foraminal_narrowing   \n",
       "1  left_neural_foraminal_narrowing  44036939_left_neural_foraminal_narrowing   \n",
       "2  left_neural_foraminal_narrowing  44036939_left_neural_foraminal_narrowing   \n",
       "3  left_neural_foraminal_narrowing  44036939_left_neural_foraminal_narrowing   \n",
       "4  left_neural_foraminal_narrowing  44036939_left_neural_foraminal_narrowing   \n",
       "\n",
       "   target  \n",
       "0       0  \n",
       "1       0  \n",
       "2       0  \n",
       "3       0  \n",
       "4       0  "
      ]
     },
     "execution_count": 6,
     "metadata": {},
     "output_type": "execute_result"
    }
   ],
   "source": [
    "# define the base path for test images\n",
    "base_path = f\"{str(DATA_PATH)}/test_images\"\n",
    "\n",
    "# function to get image paths for a series\n",
    "def get_image_paths(row):\n",
    "    series_path = os.path.join(base_path, str(row['study_id']), str(row['series_id']))\n",
    "    if os.path.exists(series_path):\n",
    "        return [\n",
    "            os.path.join(series_path, f) for f in os.listdir(series_path) if os.path.isfile(os.path.join(series_path, f))\n",
    "        ]\n",
    "    return []\n",
    "\n",
    "# Mapping of series_description to conditions\n",
    "condition_mapping = {\n",
    "    'Sagittal T1': {'left': 'left_neural_foraminal_narrowing', 'right': 'right_neural_foraminal_narrowing'},\n",
    "    'Axial T2': {'left': 'left_subarticular_stenosis', 'right': 'right_subarticular_stenosis'},\n",
    "    'Sagittal T2/STIR': 'spinal_canal_stenosis'\n",
    "}\n",
    "\n",
    "# Create a list to store the expanded rows\n",
    "expanded_rows = []\n",
    "\n",
    "# Expand the dataframe by adding new rows for each file path\n",
    "for index, row in test_desc.iterrows():\n",
    "    image_paths = get_image_paths(row)\n",
    "    conditions = condition_mapping.get(row['series_description'], {})\n",
    "    if isinstance(conditions, str):  # Single condition\n",
    "        conditions = {'left': conditions, 'right': conditions}\n",
    "    for side, condition in conditions.items():\n",
    "        for image_path in image_paths:\n",
    "            expanded_rows.append({\n",
    "                'study_id': row['study_id'],\n",
    "                'series_id': row['series_id'],\n",
    "                'series_description': row['series_description'],\n",
    "                'image_path': image_path,\n",
    "                'condition': condition,\n",
    "                'row_id': f\"{row['study_id']}_{condition}\"\n",
    "            })\n",
    "\n",
    "# Create a new dataframe from the expanded rows\n",
    "expanded_test_desc = pd.DataFrame(expanded_rows)\n",
    "\n",
    "test_data = expanded_test_desc.copy()\n",
    "test_data['target'] = 0\n",
    "test_data.head()"
   ]
  },
  {
   "cell_type": "code",
   "execution_count": 7,
   "id": "f013e4b3",
   "metadata": {
    "execution": {
     "iopub.execute_input": "2024-07-07T23:18:13.218011Z",
     "iopub.status.busy": "2024-07-07T23:18:13.217759Z",
     "iopub.status.idle": "2024-07-07T23:18:13.221927Z",
     "shell.execute_reply": "2024-07-07T23:18:13.221165Z"
    },
    "papermill": {
     "duration": 0.014776,
     "end_time": "2024-07-07T23:18:13.223864",
     "exception": false,
     "start_time": "2024-07-07T23:18:13.209088",
     "status": "completed"
    },
    "tags": []
   },
   "outputs": [],
   "source": [
    "label2id = {\"Normal/Mild\": 0, \"Moderate\": 1, \"Severe\": 2}\n",
    "id2label = {v:k for k,v in label2id.items()}"
   ]
  },
  {
   "cell_type": "code",
   "execution_count": 8,
   "id": "7d56350e",
   "metadata": {
    "execution": {
     "iopub.execute_input": "2024-07-07T23:18:13.239165Z",
     "iopub.status.busy": "2024-07-07T23:18:13.238903Z",
     "iopub.status.idle": "2024-07-07T23:18:13.243723Z",
     "shell.execute_reply": "2024-07-07T23:18:13.242907Z"
    },
    "papermill": {
     "duration": 0.014533,
     "end_time": "2024-07-07T23:18:13.245537",
     "exception": false,
     "start_time": "2024-07-07T23:18:13.231004",
     "status": "completed"
    },
    "tags": []
   },
   "outputs": [],
   "source": [
    "def load_dicom(path):\n",
    "    dicom = pydicom.read_file(path)\n",
    "    data = dicom.pixel_array\n",
    "    data = data - np.min(data)\n",
    "    if np.max(data) != 0:\n",
    "        data = data / np.max(data)\n",
    "    data = (data * 255).astype(np.uint8)\n",
    "    return data"
   ]
  },
  {
   "cell_type": "code",
   "execution_count": 9,
   "id": "533c467e",
   "metadata": {
    "execution": {
     "iopub.execute_input": "2024-07-07T23:18:13.260519Z",
     "iopub.status.busy": "2024-07-07T23:18:13.260239Z",
     "iopub.status.idle": "2024-07-07T23:18:13.267576Z",
     "shell.execute_reply": "2024-07-07T23:18:13.266674Z"
    },
    "papermill": {
     "duration": 0.016925,
     "end_time": "2024-07-07T23:18:13.269491",
     "exception": false,
     "start_time": "2024-07-07T23:18:13.252566",
     "status": "completed"
    },
    "tags": []
   },
   "outputs": [],
   "source": [
    "class CustomDataset(Dataset):\n",
    "    def __init__(self, dataframe, transform=None, label_name='target'):\n",
    "        self.dataframe = dataframe\n",
    "        self.transform = transform\n",
    "        self.label = dataframe.loc[:, label_name]\n",
    "\n",
    "    def __len__(self):\n",
    "        return len(self.dataframe)\n",
    "\n",
    "    def __getitem__(self, index):\n",
    "        image_path = self.dataframe['image_path'][index]\n",
    "        image = load_dicom(image_path)  # Define this function to load your DICOM images\n",
    "        target = self.dataframe['target'][index]\n",
    "        \n",
    "        if self.transform:\n",
    "            image = cv2.cvtColor(image, cv2.COLOR_GRAY2BGR)\n",
    "            image = self.transform(image=image)['image']\n",
    "            image = image.transpose(2, 0, 1).astype(np.float32) / 255.\n",
    "\n",
    "        return image, torch.tensor(target).float()\n",
    "    \n",
    "    def get_labels(self):\n",
    "        return self.label"
   ]
  },
  {
   "cell_type": "code",
   "execution_count": 10,
   "id": "ff310d52",
   "metadata": {
    "execution": {
     "iopub.execute_input": "2024-07-07T23:18:13.284872Z",
     "iopub.status.busy": "2024-07-07T23:18:13.284343Z",
     "iopub.status.idle": "2024-07-07T23:18:13.290495Z",
     "shell.execute_reply": "2024-07-07T23:18:13.289654Z"
    },
    "papermill": {
     "duration": 0.015843,
     "end_time": "2024-07-07T23:18:13.292463",
     "exception": false,
     "start_time": "2024-07-07T23:18:13.276620",
     "status": "completed"
    },
    "tags": []
   },
   "outputs": [],
   "source": [
    "def get_transforms(height, width):\n",
    "    train_tsfm = A.Compose([\n",
    "        A.Resize(height=height, width=width, interpolation=cv2.INTER_CUBIC, p=1.0), # also INTER_LANCZOS4\n",
    "        # Geometric augmentations\n",
    "        A.Perspective(p=0.5),\n",
    "        A.HorizontalFlip(p=0.5),\n",
    "        A.VerticalFlip(p=0.5),\n",
    "        A.Rotate(limit=(-30, 30), p=0.5), \n",
    "        \n",
    "        A.CenterCrop(height=height, width=width, p=1.0),\n",
    "    ])\n",
    "    \n",
    "    valid_tsfm = A.Compose([\n",
    "        A.Resize(height=height, width=width),\n",
    "    ])\n",
    "    return {\"train\": train_tsfm, \"eval\": valid_tsfm}"
   ]
  },
  {
   "cell_type": "code",
   "execution_count": 11,
   "id": "73a15df7",
   "metadata": {
    "execution": {
     "iopub.execute_input": "2024-07-07T23:18:13.307670Z",
     "iopub.status.busy": "2024-07-07T23:18:13.307424Z",
     "iopub.status.idle": "2024-07-07T23:18:13.317289Z",
     "shell.execute_reply": "2024-07-07T23:18:13.316509Z"
    },
    "papermill": {
     "duration": 0.019782,
     "end_time": "2024-07-07T23:18:13.319248",
     "exception": false,
     "start_time": "2024-07-07T23:18:13.299466",
     "status": "completed"
    },
    "tags": []
   },
   "outputs": [],
   "source": [
    "# def get_dataloaders(data, cfg, split=\"train\"):\n",
    "#     img_size = cfg['img_size']\n",
    "#     height, width = img_size, img_size\n",
    "#     tsfm = get_transforms(height=height, width=width)\n",
    "#     if split == 'train':\n",
    "#         tr_tsfm = tsfm['train']\n",
    "#         ds = CustomDataset(data, transform=tr_tsfm)\n",
    "#         labels = ds.get_labels()\n",
    "# #         class_weights = torch.tensor(compute_class_weight(class_weight=\"balanced\", classes=np.unique(labels), y=labels))\n",
    "#         class_weights = torch.tensor([1, 2, 4])\n",
    "#         samples_weights = class_weights[labels]\n",
    "# #         print(class_weights)\n",
    "#         sampler = WeightedRandomSampler(weights=samples_weights, \n",
    "#                                         num_samples=len(samples_weights), \n",
    "#                                         replacement=True)\n",
    "\n",
    "#         dls = DataLoader(ds, \n",
    "#                          batch_size=cfg['batch_size'], \n",
    "#                          sampler=sampler, \n",
    "#                          num_workers=os.cpu_count(), \n",
    "#                          pin_memory=True, \n",
    "#                          drop_last=True)\n",
    "        \n",
    "#     elif split == 'valid' or split == 'test':\n",
    "#         eval_tsfm = tsfm['eval']\n",
    "#         ds = CustomDataset(data, transform=eval_tsfm)\n",
    "#         dls = DataLoader(ds, \n",
    "#                          batch_size=2*cfg['batch_size'], \n",
    "#                          sampler=SequentialSampler(ds),\n",
    "#                          num_workers=os.cpu_count(), \n",
    "#                          pin_memory=True,\n",
    "#                          drop_last=False)\n",
    "#     else:\n",
    "#         raise Exception(\"Split should be 'train' or 'valid' or 'test'!!!\")\n",
    "#     return dls\n",
    "\n",
    "def get_dataloaders(data, cfg, split=\"train\"):\n",
    "    img_size = cfg['img_size']\n",
    "    height, width = img_size, img_size\n",
    "    tsfm = get_transforms(height=height, width=width)\n",
    "    if split == 'train':\n",
    "        tr_tsfm = tsfm['train']\n",
    "        ds = CustomDataset(data, transform=tr_tsfm)\n",
    "        labels = ds.get_labels()\n",
    "#         class_weights = torch.tensor(compute_class_weight(class_weight=\"balanced\", classes=np.unique(labels), y=labels))\n",
    "        class_weights = torch.tensor([1, 2, 4])\n",
    "        samples_weights = class_weights[labels]\n",
    "#         print(class_weights)\n",
    "        sampler = WeightedRandomSampler(weights=samples_weights, \n",
    "                                        num_samples=len(samples_weights), \n",
    "                                        replacement=True)\n",
    "\n",
    "        dls = DataLoader(ds, \n",
    "                         batch_size=cfg['batch_size'], \n",
    "                         sampler=sampler, \n",
    "                         num_workers=os.cpu_count(), \n",
    "                         drop_last=True, \n",
    "                         pin_memory=True)\n",
    "        \n",
    "    elif split == 'valid' or split == 'test':\n",
    "        eval_tsfm = tsfm['eval']\n",
    "        ds = CustomDataset(data, transform=eval_tsfm)\n",
    "        dls = DataLoader(ds, \n",
    "                         batch_size=2*cfg['batch_size'], \n",
    "                         shuffle=False, \n",
    "                         num_workers=os.cpu_count(), \n",
    "                         drop_last=False, \n",
    "                         pin_memory=True)\n",
    "    else:\n",
    "        raise Exception(\"Split should be 'train' or 'valid' or 'test'!!!\")\n",
    "    return dls"
   ]
  },
  {
   "cell_type": "markdown",
   "id": "7f4450c4",
   "metadata": {
    "papermill": {
     "duration": 0.006927,
     "end_time": "2024-07-07T23:18:13.333353",
     "exception": false,
     "start_time": "2024-07-07T23:18:13.326426",
     "status": "completed"
    },
    "tags": []
   },
   "source": [
    "# Load Model"
   ]
  },
  {
   "cell_type": "code",
   "execution_count": 12,
   "id": "56d99a7e",
   "metadata": {
    "execution": {
     "iopub.execute_input": "2024-07-07T23:18:13.348557Z",
     "iopub.status.busy": "2024-07-07T23:18:13.348271Z",
     "iopub.status.idle": "2024-07-07T23:18:13.357404Z",
     "shell.execute_reply": "2024-07-07T23:18:13.356585Z"
    },
    "papermill": {
     "duration": 0.018768,
     "end_time": "2024-07-07T23:18:13.359323",
     "exception": false,
     "start_time": "2024-07-07T23:18:13.340555",
     "status": "completed"
    },
    "tags": []
   },
   "outputs": [],
   "source": [
    "class TimmModel(nn.Module):\n",
    "    def __init__(self, backbone, pretrained=False):\n",
    "        super(TimmModel, self).__init__()\n",
    "\n",
    "        self.encoder = timm.create_model(\n",
    "            backbone,\n",
    "            num_classes=CONFIG[\"out_dim\"],\n",
    "            features_only=False,\n",
    "            drop_rate=CONFIG[\"drop_rate\"],\n",
    "            drop_path_rate=CONFIG[\"drop_path_rate\"],\n",
    "            pretrained=pretrained\n",
    "        )\n",
    "\n",
    "        if 'efficient' in backbone:\n",
    "            hdim = self.encoder.conv_head.out_channels\n",
    "            self.encoder.classifier = nn.Identity()\n",
    "        elif 'convnext' in backbone:\n",
    "            hdim = self.encoder.head.fc.in_features\n",
    "            self.encoder.head.fc = nn.Identity()\n",
    "\n",
    "\n",
    "        self.lstm = nn.LSTM(hdim, 256, num_layers=2, dropout=CONFIG[\"drop_rate\"], bidirectional=True, batch_first=True)\n",
    "        self.head = nn.Sequential(\n",
    "            nn.Linear(512, 256),\n",
    "            nn.BatchNorm1d(256),\n",
    "            nn.Dropout(CONFIG[\"drop_rate_last\"]),\n",
    "            nn.LeakyReLU(0.1),\n",
    "            nn.Linear(256, CONFIG[\"out_dim\"]),\n",
    "        )\n",
    "\n",
    "    def forward(self, x):\n",
    "        feat = self.encoder(x)\n",
    "        feat, _ = self.lstm(feat)\n",
    "        feat = self.head(feat)\n",
    "        return feat"
   ]
  },
  {
   "cell_type": "markdown",
   "id": "dab41c78",
   "metadata": {
    "papermill": {
     "duration": 0.006793,
     "end_time": "2024-07-07T23:18:13.373205",
     "exception": false,
     "start_time": "2024-07-07T23:18:13.366412",
     "status": "completed"
    },
    "tags": []
   },
   "source": [
    "# Predictions\n",
    "Here we have code for prediction with and without test time augmentation\n",
    "\n",
    "Test time augmentation (TTA) is useful for test images that the model is pretty unsure. It takes approximately 2 hours as compared to the normal prediction which takes roughly 30 minutes"
   ]
  },
  {
   "cell_type": "code",
   "execution_count": 13,
   "id": "e8e176fc",
   "metadata": {
    "execution": {
     "iopub.execute_input": "2024-07-07T23:18:13.388296Z",
     "iopub.status.busy": "2024-07-07T23:18:13.388049Z",
     "iopub.status.idle": "2024-07-07T23:18:13.398656Z",
     "shell.execute_reply": "2024-07-07T23:18:13.397873Z"
    },
    "papermill": {
     "duration": 0.020298,
     "end_time": "2024-07-07T23:18:13.400591",
     "exception": false,
     "start_time": "2024-07-07T23:18:13.380293",
     "status": "completed"
    },
    "tags": []
   },
   "outputs": [],
   "source": [
    "FLIPS = [None, [-1], [-2], [-2, -1]]\n",
    "\n",
    "def inference_loop(model, loader):\n",
    "    model.to(CONFIG[\"device\"])\n",
    "    model.eval()\n",
    "    preds = np.empty((0, 3))\n",
    "    with torch.no_grad():\n",
    "        for batch in tqdm(loader):\n",
    "            images, labels = batch\n",
    "            images = images.to(CONFIG[\"device\"], non_blocking=True)\n",
    "            with torch.autocast(device_type=\"cuda\", dtype=torch.float16):\n",
    "#                 logits = model(images.to(torch.float32))\n",
    "                logits = model(images)\n",
    "#                 logits = logits.mean(axis=1).softmax(dim=-1)\n",
    "                logits = logits.softmax(dim=-1)\n",
    "                preds = np.concatenate([preds, logits.detach().cpu().numpy()])\n",
    "    np.save('preds.npy', preds)\n",
    "    \n",
    "    \n",
    "def tta_inference_loop(model, loader):\n",
    "    model.to(CONFIG[\"device\"])\n",
    "    model.eval()\n",
    "    preds = np.empty((0, 3))\n",
    "    with torch.no_grad():\n",
    "        for batch in tqdm(loader):\n",
    "            images, labels = batch\n",
    "            images = images.to(CONFIG[\"device\"], non_blocking=True)\n",
    "            pred_tta = []\n",
    "            with torch.autocast(device_type=\"cuda\", dtype=torch.float16):\n",
    "                for f in FLIPS:\n",
    "                    logits = model(torch.flip(images, f) if f is not None else images)\n",
    "                    logits = logits.softmax(dim=-1)\n",
    "                    pred_tta.append(logits.detach().cpu().numpy())\n",
    "#                 preds = np.concatenate([preds, logits.detach().cpu().numpy()])\n",
    "                preds = np.concatenate([preds, np.mean(pred_tta, 0)])\n",
    "    np.save('preds.npy', preds)\n",
    "#     return preds"
   ]
  },
  {
   "cell_type": "markdown",
   "id": "5c2bda70",
   "metadata": {
    "papermill": {
     "duration": 0.006805,
     "end_time": "2024-07-07T23:18:13.414409",
     "exception": false,
     "start_time": "2024-07-07T23:18:13.407604",
     "status": "completed"
    },
    "tags": []
   },
   "source": [
    "# Load model weights\n",
    "The model is trained for 1 fold using pytorch lightning rsna-pytorchlightning and the model weights are stored using Weights and Biases artifacts and you can find them [here](https://www.kaggle.com/code/zoro666/rsna-2024-load-weights/notebook)"
   ]
  },
  {
   "cell_type": "code",
   "execution_count": 14,
   "id": "9a5ed912",
   "metadata": {
    "execution": {
     "iopub.execute_input": "2024-07-07T23:18:13.429455Z",
     "iopub.status.busy": "2024-07-07T23:18:13.429177Z",
     "iopub.status.idle": "2024-07-07T23:18:14.404225Z",
     "shell.execute_reply": "2024-07-07T23:18:14.403300Z"
    },
    "papermill": {
     "duration": 0.98506,
     "end_time": "2024-07-07T23:18:14.406403",
     "exception": false,
     "start_time": "2024-07-07T23:18:13.421343",
     "status": "completed"
    },
    "tags": []
   },
   "outputs": [
    {
     "data": {
      "text/plain": [
       "<All keys matched successfully>"
      ]
     },
     "execution_count": 14,
     "metadata": {},
     "output_type": "execute_result"
    }
   ],
   "source": [
    "weights_path = \"/kaggle/input/rsna-2024-load-weights/model_weights.pth\"\n",
    "weights = torch.load(weights_path, map_location=torch.device(\"cpu\"))\n",
    "model = TimmModel(backbone=CONFIG[\"backbone\"], pretrained=False)\n",
    "model.load_state_dict(weights)"
   ]
  },
  {
   "cell_type": "code",
   "execution_count": 15,
   "id": "b322e1c7",
   "metadata": {
    "execution": {
     "iopub.execute_input": "2024-07-07T23:18:14.422292Z",
     "iopub.status.busy": "2024-07-07T23:18:14.421992Z",
     "iopub.status.idle": "2024-07-07T23:18:20.214064Z",
     "shell.execute_reply": "2024-07-07T23:18:20.212896Z"
    },
    "papermill": {
     "duration": 5.802192,
     "end_time": "2024-07-07T23:18:20.216137",
     "exception": false,
     "start_time": "2024-07-07T23:18:14.413945",
     "status": "completed"
    },
    "tags": []
   },
   "outputs": [
    {
     "data": {
      "application/vnd.jupyter.widget-view+json": {
       "model_id": "7cafd7bb448a425b83692979a0597df8",
       "version_major": 2,
       "version_minor": 0
      },
      "text/plain": [
       "  0%|          | 0/7 [00:00<?, ?it/s]"
      ]
     },
     "metadata": {},
     "output_type": "display_data"
    }
   ],
   "source": [
    "dls = get_dataloaders(test_data, CONFIG, split=\"test\")\n",
    "# inference_loop(model, dls)\n",
    "tta_inference_loop(model, dls)\n",
    "# _ = Parallel(n_jobs=mp.cpu_count())(\n",
    "#     delayed(inference_loop(model, dls))\n",
    "# )\n",
    "\n",
    "preds = np.load('preds.npy')"
   ]
  },
  {
   "cell_type": "code",
   "execution_count": 16,
   "id": "9d1c501e",
   "metadata": {
    "execution": {
     "iopub.execute_input": "2024-07-07T23:18:20.233275Z",
     "iopub.status.busy": "2024-07-07T23:18:20.232946Z",
     "iopub.status.idle": "2024-07-07T23:18:20.244880Z",
     "shell.execute_reply": "2024-07-07T23:18:20.244116Z"
    },
    "papermill": {
     "duration": 0.022891,
     "end_time": "2024-07-07T23:18:20.246702",
     "exception": false,
     "start_time": "2024-07-07T23:18:20.223811",
     "status": "completed"
    },
    "tags": []
   },
   "outputs": [],
   "source": [
    "levels = ['l1_l2', 'l2_l3', 'l3_l4', 'l4_l5', 'l5_s1']\n",
    "\n",
    "# Function to update row_id with levels\n",
    "def update_row_id(row, levels):\n",
    "    level = levels[row.name % len(levels)]\n",
    "    return f\"{row['study_id']}_{row['condition']}_{level}\"\n",
    "\n",
    "# Update row_id in expanded_test_desc to include levels\n",
    "expanded_test_desc['row_id'] = expanded_test_desc.apply(lambda row: update_row_id(row, levels), axis=1)"
   ]
  },
  {
   "cell_type": "code",
   "execution_count": 17,
   "id": "9b793f40",
   "metadata": {
    "execution": {
     "iopub.execute_input": "2024-07-07T23:18:20.262372Z",
     "iopub.status.busy": "2024-07-07T23:18:20.262098Z",
     "iopub.status.idle": "2024-07-07T23:18:20.292423Z",
     "shell.execute_reply": "2024-07-07T23:18:20.291526Z"
    },
    "papermill": {
     "duration": 0.04043,
     "end_time": "2024-07-07T23:18:20.294481",
     "exception": false,
     "start_time": "2024-07-07T23:18:20.254051",
     "status": "completed"
    },
    "tags": []
   },
   "outputs": [],
   "source": [
    "expanded_test_desc[[\"normal_mild\",\"moderate\",\"severe\"]] = preds\n",
    "\n",
    "final_df = expanded_test_desc[[\"row_id\",\"normal_mild\",\"moderate\",\"severe\"]]\n",
    "\n",
    "target_cols = sample_df.columns.tolist()\n",
    "final_df = final_df.groupby('row_id').sum().reset_index()\n",
    "# normalize the columns\n",
    "final_df[target_cols[1:]] = final_df[target_cols[1:]].div(final_df[target_cols[1:]].sum(axis=1), axis=0)\n",
    "final_df[target_cols].to_csv('submission.csv', index=False)"
   ]
  },
  {
   "cell_type": "code",
   "execution_count": 18,
   "id": "9ba61af8",
   "metadata": {
    "execution": {
     "iopub.execute_input": "2024-07-07T23:18:20.311032Z",
     "iopub.status.busy": "2024-07-07T23:18:20.310528Z",
     "iopub.status.idle": "2024-07-07T23:18:20.328641Z",
     "shell.execute_reply": "2024-07-07T23:18:20.327770Z"
    },
    "papermill": {
     "duration": 0.028561,
     "end_time": "2024-07-07T23:18:20.330602",
     "exception": false,
     "start_time": "2024-07-07T23:18:20.302041",
     "status": "completed"
    },
    "tags": []
   },
   "outputs": [
    {
     "data": {
      "text/html": [
       "<div>\n",
       "<style scoped>\n",
       "    .dataframe tbody tr th:only-of-type {\n",
       "        vertical-align: middle;\n",
       "    }\n",
       "\n",
       "    .dataframe tbody tr th {\n",
       "        vertical-align: top;\n",
       "    }\n",
       "\n",
       "    .dataframe thead th {\n",
       "        text-align: right;\n",
       "    }\n",
       "</style>\n",
       "<table border=\"1\" class=\"dataframe\">\n",
       "  <thead>\n",
       "    <tr style=\"text-align: right;\">\n",
       "      <th></th>\n",
       "      <th>row_id</th>\n",
       "      <th>normal_mild</th>\n",
       "      <th>moderate</th>\n",
       "      <th>severe</th>\n",
       "    </tr>\n",
       "  </thead>\n",
       "  <tbody>\n",
       "    <tr>\n",
       "      <th>0</th>\n",
       "      <td>44036939_left_neural_foraminal_narrowing_l1_l2</td>\n",
       "      <td>0.200032</td>\n",
       "      <td>0.398102</td>\n",
       "      <td>0.401866</td>\n",
       "    </tr>\n",
       "    <tr>\n",
       "      <th>1</th>\n",
       "      <td>44036939_left_neural_foraminal_narrowing_l2_l3</td>\n",
       "      <td>0.206629</td>\n",
       "      <td>0.369555</td>\n",
       "      <td>0.423816</td>\n",
       "    </tr>\n",
       "    <tr>\n",
       "      <th>2</th>\n",
       "      <td>44036939_left_neural_foraminal_narrowing_l3_l4</td>\n",
       "      <td>0.265702</td>\n",
       "      <td>0.380025</td>\n",
       "      <td>0.354273</td>\n",
       "    </tr>\n",
       "    <tr>\n",
       "      <th>3</th>\n",
       "      <td>44036939_left_neural_foraminal_narrowing_l4_l5</td>\n",
       "      <td>0.354030</td>\n",
       "      <td>0.408683</td>\n",
       "      <td>0.237287</td>\n",
       "    </tr>\n",
       "    <tr>\n",
       "      <th>4</th>\n",
       "      <td>44036939_left_neural_foraminal_narrowing_l5_s1</td>\n",
       "      <td>0.243930</td>\n",
       "      <td>0.357198</td>\n",
       "      <td>0.398873</td>\n",
       "    </tr>\n",
       "    <tr>\n",
       "      <th>5</th>\n",
       "      <td>44036939_left_subarticular_stenosis_l1_l2</td>\n",
       "      <td>0.257160</td>\n",
       "      <td>0.383259</td>\n",
       "      <td>0.359581</td>\n",
       "    </tr>\n",
       "    <tr>\n",
       "      <th>6</th>\n",
       "      <td>44036939_left_subarticular_stenosis_l2_l3</td>\n",
       "      <td>0.300874</td>\n",
       "      <td>0.390326</td>\n",
       "      <td>0.308800</td>\n",
       "    </tr>\n",
       "    <tr>\n",
       "      <th>7</th>\n",
       "      <td>44036939_left_subarticular_stenosis_l3_l4</td>\n",
       "      <td>0.280121</td>\n",
       "      <td>0.344420</td>\n",
       "      <td>0.375459</td>\n",
       "    </tr>\n",
       "    <tr>\n",
       "      <th>8</th>\n",
       "      <td>44036939_left_subarticular_stenosis_l4_l5</td>\n",
       "      <td>0.344773</td>\n",
       "      <td>0.381101</td>\n",
       "      <td>0.274126</td>\n",
       "    </tr>\n",
       "    <tr>\n",
       "      <th>9</th>\n",
       "      <td>44036939_left_subarticular_stenosis_l5_s1</td>\n",
       "      <td>0.410560</td>\n",
       "      <td>0.388982</td>\n",
       "      <td>0.200458</td>\n",
       "    </tr>\n",
       "    <tr>\n",
       "      <th>10</th>\n",
       "      <td>44036939_right_neural_foraminal_narrowing_l1_l2</td>\n",
       "      <td>0.200421</td>\n",
       "      <td>0.396302</td>\n",
       "      <td>0.403277</td>\n",
       "    </tr>\n",
       "    <tr>\n",
       "      <th>11</th>\n",
       "      <td>44036939_right_neural_foraminal_narrowing_l2_l3</td>\n",
       "      <td>0.205043</td>\n",
       "      <td>0.367022</td>\n",
       "      <td>0.427935</td>\n",
       "    </tr>\n",
       "    <tr>\n",
       "      <th>12</th>\n",
       "      <td>44036939_right_neural_foraminal_narrowing_l3_l4</td>\n",
       "      <td>0.262197</td>\n",
       "      <td>0.385586</td>\n",
       "      <td>0.352217</td>\n",
       "    </tr>\n",
       "    <tr>\n",
       "      <th>13</th>\n",
       "      <td>44036939_right_neural_foraminal_narrowing_l4_l5</td>\n",
       "      <td>0.353145</td>\n",
       "      <td>0.409822</td>\n",
       "      <td>0.237033</td>\n",
       "    </tr>\n",
       "    <tr>\n",
       "      <th>14</th>\n",
       "      <td>44036939_right_neural_foraminal_narrowing_l5_s1</td>\n",
       "      <td>0.241882</td>\n",
       "      <td>0.356640</td>\n",
       "      <td>0.401477</td>\n",
       "    </tr>\n",
       "    <tr>\n",
       "      <th>15</th>\n",
       "      <td>44036939_right_subarticular_stenosis_l1_l2</td>\n",
       "      <td>0.346594</td>\n",
       "      <td>0.381463</td>\n",
       "      <td>0.271943</td>\n",
       "    </tr>\n",
       "    <tr>\n",
       "      <th>16</th>\n",
       "      <td>44036939_right_subarticular_stenosis_l2_l3</td>\n",
       "      <td>0.411933</td>\n",
       "      <td>0.391180</td>\n",
       "      <td>0.196887</td>\n",
       "    </tr>\n",
       "    <tr>\n",
       "      <th>17</th>\n",
       "      <td>44036939_right_subarticular_stenosis_l3_l4</td>\n",
       "      <td>0.258909</td>\n",
       "      <td>0.377833</td>\n",
       "      <td>0.363258</td>\n",
       "    </tr>\n",
       "    <tr>\n",
       "      <th>18</th>\n",
       "      <td>44036939_right_subarticular_stenosis_l4_l5</td>\n",
       "      <td>0.299108</td>\n",
       "      <td>0.391222</td>\n",
       "      <td>0.309670</td>\n",
       "    </tr>\n",
       "    <tr>\n",
       "      <th>19</th>\n",
       "      <td>44036939_right_subarticular_stenosis_l5_s1</td>\n",
       "      <td>0.281487</td>\n",
       "      <td>0.340679</td>\n",
       "      <td>0.377834</td>\n",
       "    </tr>\n",
       "    <tr>\n",
       "      <th>20</th>\n",
       "      <td>44036939_spinal_canal_stenosis_l1_l2</td>\n",
       "      <td>0.239223</td>\n",
       "      <td>0.310162</td>\n",
       "      <td>0.450616</td>\n",
       "    </tr>\n",
       "    <tr>\n",
       "      <th>21</th>\n",
       "      <td>44036939_spinal_canal_stenosis_l2_l3</td>\n",
       "      <td>0.375490</td>\n",
       "      <td>0.374923</td>\n",
       "      <td>0.249587</td>\n",
       "    </tr>\n",
       "    <tr>\n",
       "      <th>22</th>\n",
       "      <td>44036939_spinal_canal_stenosis_l3_l4</td>\n",
       "      <td>0.424386</td>\n",
       "      <td>0.350727</td>\n",
       "      <td>0.224887</td>\n",
       "    </tr>\n",
       "    <tr>\n",
       "      <th>23</th>\n",
       "      <td>44036939_spinal_canal_stenosis_l4_l5</td>\n",
       "      <td>0.284233</td>\n",
       "      <td>0.361269</td>\n",
       "      <td>0.354498</td>\n",
       "    </tr>\n",
       "    <tr>\n",
       "      <th>24</th>\n",
       "      <td>44036939_spinal_canal_stenosis_l5_s1</td>\n",
       "      <td>0.276462</td>\n",
       "      <td>0.315118</td>\n",
       "      <td>0.408419</td>\n",
       "    </tr>\n",
       "  </tbody>\n",
       "</table>\n",
       "</div>"
      ],
      "text/plain": [
       "                                             row_id  normal_mild  moderate  \\\n",
       "0    44036939_left_neural_foraminal_narrowing_l1_l2     0.200032  0.398102   \n",
       "1    44036939_left_neural_foraminal_narrowing_l2_l3     0.206629  0.369555   \n",
       "2    44036939_left_neural_foraminal_narrowing_l3_l4     0.265702  0.380025   \n",
       "3    44036939_left_neural_foraminal_narrowing_l4_l5     0.354030  0.408683   \n",
       "4    44036939_left_neural_foraminal_narrowing_l5_s1     0.243930  0.357198   \n",
       "5         44036939_left_subarticular_stenosis_l1_l2     0.257160  0.383259   \n",
       "6         44036939_left_subarticular_stenosis_l2_l3     0.300874  0.390326   \n",
       "7         44036939_left_subarticular_stenosis_l3_l4     0.280121  0.344420   \n",
       "8         44036939_left_subarticular_stenosis_l4_l5     0.344773  0.381101   \n",
       "9         44036939_left_subarticular_stenosis_l5_s1     0.410560  0.388982   \n",
       "10  44036939_right_neural_foraminal_narrowing_l1_l2     0.200421  0.396302   \n",
       "11  44036939_right_neural_foraminal_narrowing_l2_l3     0.205043  0.367022   \n",
       "12  44036939_right_neural_foraminal_narrowing_l3_l4     0.262197  0.385586   \n",
       "13  44036939_right_neural_foraminal_narrowing_l4_l5     0.353145  0.409822   \n",
       "14  44036939_right_neural_foraminal_narrowing_l5_s1     0.241882  0.356640   \n",
       "15       44036939_right_subarticular_stenosis_l1_l2     0.346594  0.381463   \n",
       "16       44036939_right_subarticular_stenosis_l2_l3     0.411933  0.391180   \n",
       "17       44036939_right_subarticular_stenosis_l3_l4     0.258909  0.377833   \n",
       "18       44036939_right_subarticular_stenosis_l4_l5     0.299108  0.391222   \n",
       "19       44036939_right_subarticular_stenosis_l5_s1     0.281487  0.340679   \n",
       "20             44036939_spinal_canal_stenosis_l1_l2     0.239223  0.310162   \n",
       "21             44036939_spinal_canal_stenosis_l2_l3     0.375490  0.374923   \n",
       "22             44036939_spinal_canal_stenosis_l3_l4     0.424386  0.350727   \n",
       "23             44036939_spinal_canal_stenosis_l4_l5     0.284233  0.361269   \n",
       "24             44036939_spinal_canal_stenosis_l5_s1     0.276462  0.315118   \n",
       "\n",
       "      severe  \n",
       "0   0.401866  \n",
       "1   0.423816  \n",
       "2   0.354273  \n",
       "3   0.237287  \n",
       "4   0.398873  \n",
       "5   0.359581  \n",
       "6   0.308800  \n",
       "7   0.375459  \n",
       "8   0.274126  \n",
       "9   0.200458  \n",
       "10  0.403277  \n",
       "11  0.427935  \n",
       "12  0.352217  \n",
       "13  0.237033  \n",
       "14  0.401477  \n",
       "15  0.271943  \n",
       "16  0.196887  \n",
       "17  0.363258  \n",
       "18  0.309670  \n",
       "19  0.377834  \n",
       "20  0.450616  \n",
       "21  0.249587  \n",
       "22  0.224887  \n",
       "23  0.354498  \n",
       "24  0.408419  "
      ]
     },
     "execution_count": 18,
     "metadata": {},
     "output_type": "execute_result"
    }
   ],
   "source": [
    "pd.read_csv('submission.csv')"
   ]
  },
  {
   "cell_type": "code",
   "execution_count": null,
   "id": "62ae778b",
   "metadata": {
    "papermill": {
     "duration": 0.007454,
     "end_time": "2024-07-07T23:18:20.345949",
     "exception": false,
     "start_time": "2024-07-07T23:18:20.338495",
     "status": "completed"
    },
    "tags": []
   },
   "outputs": [],
   "source": []
  }
 ],
 "metadata": {
  "kaggle": {
   "accelerator": "gpu",
   "dataSources": [
    {
     "databundleVersionId": 8561470,
     "sourceId": 71549,
     "sourceType": "competition"
    },
    {
     "sourceId": 187278429,
     "sourceType": "kernelVersion"
    }
   ],
   "dockerImageVersionId": 30733,
   "isGpuEnabled": true,
   "isInternetEnabled": false,
   "language": "python",
   "sourceType": "notebook"
  },
  "kernelspec": {
   "display_name": "Python 3",
   "language": "python",
   "name": "python3"
  },
  "language_info": {
   "codemirror_mode": {
    "name": "ipython",
    "version": 3
   },
   "file_extension": ".py",
   "mimetype": "text/x-python",
   "name": "python",
   "nbconvert_exporter": "python",
   "pygments_lexer": "ipython3",
   "version": "3.10.13"
  },
  "papermill": {
   "default_parameters": {},
   "duration": 24.567236,
   "end_time": "2024-07-07T23:18:23.175817",
   "environment_variables": {},
   "exception": null,
   "input_path": "__notebook__.ipynb",
   "output_path": "__notebook__.ipynb",
   "parameters": {},
   "start_time": "2024-07-07T23:17:58.608581",
   "version": "2.5.0"
  },
  "widgets": {
   "application/vnd.jupyter.widget-state+json": {
    "state": {
     "1367b40b12984068b46564eb1a2b9706": {
      "model_module": "@jupyter-widgets/controls",
      "model_module_version": "1.5.0",
      "model_name": "FloatProgressModel",
      "state": {
       "_dom_classes": [],
       "_model_module": "@jupyter-widgets/controls",
       "_model_module_version": "1.5.0",
       "_model_name": "FloatProgressModel",
       "_view_count": null,
       "_view_module": "@jupyter-widgets/controls",
       "_view_module_version": "1.5.0",
       "_view_name": "ProgressView",
       "bar_style": "success",
       "description": "",
       "description_tooltip": null,
       "layout": "IPY_MODEL_8985682691f140c1b3d00fb30e04ecac",
       "max": 7.0,
       "min": 0.0,
       "orientation": "horizontal",
       "style": "IPY_MODEL_96a5486f44744fc3bcfe126600c14336",
       "value": 7.0
      }
     },
     "7cafd7bb448a425b83692979a0597df8": {
      "model_module": "@jupyter-widgets/controls",
      "model_module_version": "1.5.0",
      "model_name": "HBoxModel",
      "state": {
       "_dom_classes": [],
       "_model_module": "@jupyter-widgets/controls",
       "_model_module_version": "1.5.0",
       "_model_name": "HBoxModel",
       "_view_count": null,
       "_view_module": "@jupyter-widgets/controls",
       "_view_module_version": "1.5.0",
       "_view_name": "HBoxView",
       "box_style": "",
       "children": [
        "IPY_MODEL_cbc20889907a4ffea9caef9d5699e58d",
        "IPY_MODEL_1367b40b12984068b46564eb1a2b9706",
        "IPY_MODEL_9bb9da0305c3456498d32431182184b5"
       ],
       "layout": "IPY_MODEL_8e28773c62834509b45ff9d1bda53a71"
      }
     },
     "8985682691f140c1b3d00fb30e04ecac": {
      "model_module": "@jupyter-widgets/base",
      "model_module_version": "1.2.0",
      "model_name": "LayoutModel",
      "state": {
       "_model_module": "@jupyter-widgets/base",
       "_model_module_version": "1.2.0",
       "_model_name": "LayoutModel",
       "_view_count": null,
       "_view_module": "@jupyter-widgets/base",
       "_view_module_version": "1.2.0",
       "_view_name": "LayoutView",
       "align_content": null,
       "align_items": null,
       "align_self": null,
       "border": null,
       "bottom": null,
       "display": null,
       "flex": null,
       "flex_flow": null,
       "grid_area": null,
       "grid_auto_columns": null,
       "grid_auto_flow": null,
       "grid_auto_rows": null,
       "grid_column": null,
       "grid_gap": null,
       "grid_row": null,
       "grid_template_areas": null,
       "grid_template_columns": null,
       "grid_template_rows": null,
       "height": null,
       "justify_content": null,
       "justify_items": null,
       "left": null,
       "margin": null,
       "max_height": null,
       "max_width": null,
       "min_height": null,
       "min_width": null,
       "object_fit": null,
       "object_position": null,
       "order": null,
       "overflow": null,
       "overflow_x": null,
       "overflow_y": null,
       "padding": null,
       "right": null,
       "top": null,
       "visibility": null,
       "width": null
      }
     },
     "8e28773c62834509b45ff9d1bda53a71": {
      "model_module": "@jupyter-widgets/base",
      "model_module_version": "1.2.0",
      "model_name": "LayoutModel",
      "state": {
       "_model_module": "@jupyter-widgets/base",
       "_model_module_version": "1.2.0",
       "_model_name": "LayoutModel",
       "_view_count": null,
       "_view_module": "@jupyter-widgets/base",
       "_view_module_version": "1.2.0",
       "_view_name": "LayoutView",
       "align_content": null,
       "align_items": null,
       "align_self": null,
       "border": null,
       "bottom": null,
       "display": null,
       "flex": null,
       "flex_flow": null,
       "grid_area": null,
       "grid_auto_columns": null,
       "grid_auto_flow": null,
       "grid_auto_rows": null,
       "grid_column": null,
       "grid_gap": null,
       "grid_row": null,
       "grid_template_areas": null,
       "grid_template_columns": null,
       "grid_template_rows": null,
       "height": null,
       "justify_content": null,
       "justify_items": null,
       "left": null,
       "margin": null,
       "max_height": null,
       "max_width": null,
       "min_height": null,
       "min_width": null,
       "object_fit": null,
       "object_position": null,
       "order": null,
       "overflow": null,
       "overflow_x": null,
       "overflow_y": null,
       "padding": null,
       "right": null,
       "top": null,
       "visibility": null,
       "width": null
      }
     },
     "96a5486f44744fc3bcfe126600c14336": {
      "model_module": "@jupyter-widgets/controls",
      "model_module_version": "1.5.0",
      "model_name": "ProgressStyleModel",
      "state": {
       "_model_module": "@jupyter-widgets/controls",
       "_model_module_version": "1.5.0",
       "_model_name": "ProgressStyleModel",
       "_view_count": null,
       "_view_module": "@jupyter-widgets/base",
       "_view_module_version": "1.2.0",
       "_view_name": "StyleView",
       "bar_color": null,
       "description_width": ""
      }
     },
     "9bb9da0305c3456498d32431182184b5": {
      "model_module": "@jupyter-widgets/controls",
      "model_module_version": "1.5.0",
      "model_name": "HTMLModel",
      "state": {
       "_dom_classes": [],
       "_model_module": "@jupyter-widgets/controls",
       "_model_module_version": "1.5.0",
       "_model_name": "HTMLModel",
       "_view_count": null,
       "_view_module": "@jupyter-widgets/controls",
       "_view_module_version": "1.5.0",
       "_view_name": "HTMLView",
       "description": "",
       "description_tooltip": null,
       "layout": "IPY_MODEL_e513e4bb3d2a4a2197ce89cfadca479a",
       "placeholder": "​",
       "style": "IPY_MODEL_ce16781022c748d38d7d042ce983e9ac",
       "value": " 7/7 [00:05&lt;00:00,  2.87it/s]"
      }
     },
     "cbc20889907a4ffea9caef9d5699e58d": {
      "model_module": "@jupyter-widgets/controls",
      "model_module_version": "1.5.0",
      "model_name": "HTMLModel",
      "state": {
       "_dom_classes": [],
       "_model_module": "@jupyter-widgets/controls",
       "_model_module_version": "1.5.0",
       "_model_name": "HTMLModel",
       "_view_count": null,
       "_view_module": "@jupyter-widgets/controls",
       "_view_module_version": "1.5.0",
       "_view_name": "HTMLView",
       "description": "",
       "description_tooltip": null,
       "layout": "IPY_MODEL_f51f2c82022e46b7b7c6e0f069944fc8",
       "placeholder": "​",
       "style": "IPY_MODEL_dce0d369bea744edb8ffed27c86674ba",
       "value": "100%"
      }
     },
     "ce16781022c748d38d7d042ce983e9ac": {
      "model_module": "@jupyter-widgets/controls",
      "model_module_version": "1.5.0",
      "model_name": "DescriptionStyleModel",
      "state": {
       "_model_module": "@jupyter-widgets/controls",
       "_model_module_version": "1.5.0",
       "_model_name": "DescriptionStyleModel",
       "_view_count": null,
       "_view_module": "@jupyter-widgets/base",
       "_view_module_version": "1.2.0",
       "_view_name": "StyleView",
       "description_width": ""
      }
     },
     "dce0d369bea744edb8ffed27c86674ba": {
      "model_module": "@jupyter-widgets/controls",
      "model_module_version": "1.5.0",
      "model_name": "DescriptionStyleModel",
      "state": {
       "_model_module": "@jupyter-widgets/controls",
       "_model_module_version": "1.5.0",
       "_model_name": "DescriptionStyleModel",
       "_view_count": null,
       "_view_module": "@jupyter-widgets/base",
       "_view_module_version": "1.2.0",
       "_view_name": "StyleView",
       "description_width": ""
      }
     },
     "e513e4bb3d2a4a2197ce89cfadca479a": {
      "model_module": "@jupyter-widgets/base",
      "model_module_version": "1.2.0",
      "model_name": "LayoutModel",
      "state": {
       "_model_module": "@jupyter-widgets/base",
       "_model_module_version": "1.2.0",
       "_model_name": "LayoutModel",
       "_view_count": null,
       "_view_module": "@jupyter-widgets/base",
       "_view_module_version": "1.2.0",
       "_view_name": "LayoutView",
       "align_content": null,
       "align_items": null,
       "align_self": null,
       "border": null,
       "bottom": null,
       "display": null,
       "flex": null,
       "flex_flow": null,
       "grid_area": null,
       "grid_auto_columns": null,
       "grid_auto_flow": null,
       "grid_auto_rows": null,
       "grid_column": null,
       "grid_gap": null,
       "grid_row": null,
       "grid_template_areas": null,
       "grid_template_columns": null,
       "grid_template_rows": null,
       "height": null,
       "justify_content": null,
       "justify_items": null,
       "left": null,
       "margin": null,
       "max_height": null,
       "max_width": null,
       "min_height": null,
       "min_width": null,
       "object_fit": null,
       "object_position": null,
       "order": null,
       "overflow": null,
       "overflow_x": null,
       "overflow_y": null,
       "padding": null,
       "right": null,
       "top": null,
       "visibility": null,
       "width": null
      }
     },
     "f51f2c82022e46b7b7c6e0f069944fc8": {
      "model_module": "@jupyter-widgets/base",
      "model_module_version": "1.2.0",
      "model_name": "LayoutModel",
      "state": {
       "_model_module": "@jupyter-widgets/base",
       "_model_module_version": "1.2.0",
       "_model_name": "LayoutModel",
       "_view_count": null,
       "_view_module": "@jupyter-widgets/base",
       "_view_module_version": "1.2.0",
       "_view_name": "LayoutView",
       "align_content": null,
       "align_items": null,
       "align_self": null,
       "border": null,
       "bottom": null,
       "display": null,
       "flex": null,
       "flex_flow": null,
       "grid_area": null,
       "grid_auto_columns": null,
       "grid_auto_flow": null,
       "grid_auto_rows": null,
       "grid_column": null,
       "grid_gap": null,
       "grid_row": null,
       "grid_template_areas": null,
       "grid_template_columns": null,
       "grid_template_rows": null,
       "height": null,
       "justify_content": null,
       "justify_items": null,
       "left": null,
       "margin": null,
       "max_height": null,
       "max_width": null,
       "min_height": null,
       "min_width": null,
       "object_fit": null,
       "object_position": null,
       "order": null,
       "overflow": null,
       "overflow_x": null,
       "overflow_y": null,
       "padding": null,
       "right": null,
       "top": null,
       "visibility": null,
       "width": null
      }
     }
    },
    "version_major": 2,
    "version_minor": 0
   }
  }
 },
 "nbformat": 4,
 "nbformat_minor": 5
}
