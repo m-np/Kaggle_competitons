{
 "cells": [
  {
   "cell_type": "markdown",
   "id": "0ee7e871",
   "metadata": {
    "_cell_guid": "b1076dfc-b9ad-4769-8c92-a6c4dae69d19",
    "_uuid": "8f2839f25d086af736a60e9eeb907d3b93b6e0e5",
    "papermill": {
     "duration": 0.009008,
     "end_time": "2024-07-07T20:34:56.071025",
     "exception": false,
     "start_time": "2024-07-07T20:34:56.062017",
     "status": "completed"
    },
    "tags": []
   },
   "source": [
    "This code is following the inference notebook shared [here](https://www.kaggle.com/code/samu2505/rsna-lumbar-inference-lb-0-84-cv-0-54) \n",
    "\n",
    "Training code link in the following [NB](https://www.kaggle.com/code/zoro666/rsna-2024-lumbar-spine-1)"
   ]
  },
  {
   "cell_type": "code",
   "execution_count": 1,
   "id": "5ae1e9a4",
   "metadata": {
    "execution": {
     "iopub.execute_input": "2024-07-07T20:34:56.090107Z",
     "iopub.status.busy": "2024-07-07T20:34:56.089620Z",
     "iopub.status.idle": "2024-07-07T20:35:11.665667Z",
     "shell.execute_reply": "2024-07-07T20:35:11.664381Z"
    },
    "papermill": {
     "duration": 15.588972,
     "end_time": "2024-07-07T20:35:11.668566",
     "exception": false,
     "start_time": "2024-07-07T20:34:56.079594",
     "status": "completed"
    },
    "tags": []
   },
   "outputs": [],
   "source": [
    "import os, gc, sys, copy, pickle\n",
    "from pathlib import Path\n",
    "import glob\n",
    "from tqdm.auto import tqdm\n",
    "tqdm.pandas()\n",
    "\n",
    "import math\n",
    "import random\n",
    "import pandas as pd\n",
    "import numpy as np\n",
    "import matplotlib.pyplot as plt\n",
    "\n",
    "from joblib import Parallel, delayed\n",
    "import multiprocessing as mp\n",
    "\n",
    "import albumentations as A\n",
    "import torch\n",
    "import torch.nn as nn\n",
    "import torch.optim as optim\n",
    "import torch.cuda.amp as amp\n",
    "import torch.nn.functional as F\n",
    "from torch.utils.data import DataLoader, Dataset\n",
    "import torchvision.transforms as transforms\n",
    "\n",
    "import pytorch_lightning as pl\n",
    "from pytorch_lightning.loggers import WandbLogger\n",
    "from pytorch_lightning.callbacks import LearningRateMonitor, ModelCheckpoint\n",
    "from pytorch_lightning.callbacks.early_stopping import EarlyStopping\n",
    "\n",
    "from torch.utils.data import WeightedRandomSampler\n",
    "from sklearn.utils.class_weight import compute_class_weight\n",
    "\n",
    "import timm\n",
    "\n",
    "import cv2\n",
    "cv2.setNumThreads(0)\n",
    "import PIL\n",
    "import pydicom\n",
    "import warnings\n",
    "warnings.filterwarnings(\"ignore\")"
   ]
  },
  {
   "cell_type": "code",
   "execution_count": 2,
   "id": "833f9634",
   "metadata": {
    "execution": {
     "iopub.execute_input": "2024-07-07T20:35:11.687997Z",
     "iopub.status.busy": "2024-07-07T20:35:11.687508Z",
     "iopub.status.idle": "2024-07-07T20:35:11.696314Z",
     "shell.execute_reply": "2024-07-07T20:35:11.695068Z"
    },
    "papermill": {
     "duration": 0.021571,
     "end_time": "2024-07-07T20:35:11.698951",
     "exception": false,
     "start_time": "2024-07-07T20:35:11.677380",
     "status": "completed"
    },
    "tags": []
   },
   "outputs": [],
   "source": [
    "def seeding(SEED):\n",
    "    np.random.seed(SEED)\n",
    "    random.seed(SEED)\n",
    "    os.environ['PYTHONHASHSEED'] = str(SEED)\n",
    "    torch.manual_seed(SEED)\n",
    "    if torch.cuda.is_available(): \n",
    "        torch.cuda.manual_seed(SEED)\n",
    "        torch.cuda.manual_seed_all(SEED)\n",
    "        torch.backends.cudnn.deterministic = True\n",
    "        torch.backends.cudnn.benchmark = False\n",
    "#     os.environ['TF_CUDNN_DETERMINISTIC'] = str(SEED)\n",
    "#     tf.random.set_seed(SEED)\n",
    "#     keras.utils.set_random_seed(seed=SEED)\n",
    "    print('seeding done!!!')\n",
    "\n",
    "def flush():\n",
    "    gc.collect()\n",
    "    if torch.cuda.is_available():\n",
    "        torch.cuda.empty_cache()\n",
    "        torch.cuda.reset_peak_memory_stats()"
   ]
  },
  {
   "cell_type": "markdown",
   "id": "d47dce1e",
   "metadata": {
    "papermill": {
     "duration": 0.008349,
     "end_time": "2024-07-07T20:35:11.715974",
     "exception": false,
     "start_time": "2024-07-07T20:35:11.707625",
     "status": "completed"
    },
    "tags": []
   },
   "source": [
    "# Configurations"
   ]
  },
  {
   "cell_type": "code",
   "execution_count": 3,
   "id": "c2fed37d",
   "metadata": {
    "execution": {
     "iopub.execute_input": "2024-07-07T20:35:11.735901Z",
     "iopub.status.busy": "2024-07-07T20:35:11.735045Z",
     "iopub.status.idle": "2024-07-07T20:35:11.748468Z",
     "shell.execute_reply": "2024-07-07T20:35:11.747231Z"
    },
    "papermill": {
     "duration": 0.026525,
     "end_time": "2024-07-07T20:35:11.751507",
     "exception": false,
     "start_time": "2024-07-07T20:35:11.724982",
     "status": "completed"
    },
    "tags": []
   },
   "outputs": [
    {
     "name": "stdout",
     "output_type": "stream",
     "text": [
      "seeding done!!!\n"
     ]
    }
   ],
   "source": [
    "CONFIG = dict(\n",
    "    project_name = \"RSNA-2024-Lumbar-Spine-Classification-Torch-RZoro\",\n",
    "    artifact_name = \"rsnaEffNetModel\",\n",
    "    load_kernel = None,\n",
    "    load_last = True,\n",
    "    n_folds = 5,\n",
    "    backbone = \"efficientnet_b0.ra_in1k\", # tf_efficientnetv2_s_in21ft1k\n",
    "    img_size = 384,\n",
    "    n_slice_per_c = 16,\n",
    "    in_chans = 3,\n",
    "\n",
    "    drop_rate = 0.,\n",
    "    drop_rate_last = 0.3,\n",
    "    drop_path_rate = 0.,\n",
    "    p_mixup = 0.5,\n",
    "    p_rand_order_v1 = 0.2,\n",
    "    lr = 4e-4, # 1e-3, 8e-4, 5e-4, 4e-4\n",
    "\n",
    "    out_dim = 3,\n",
    "    epochs = 50,\n",
    "    batch_size = 16,\n",
    "#     patience = 7,\n",
    "    device = torch.device(\"cuda:0\") if torch.cuda.is_available() else \"cpu\",\n",
    "    seed = 2024,\n",
    "    log_wandb = True,\n",
    "    with_clip = True,\n",
    ")\n",
    "\n",
    "CONFIG['patience'] = math.ceil(0.2 * CONFIG['epochs'])\n",
    "\n",
    "seeding(CONFIG['seed'])"
   ]
  },
  {
   "cell_type": "code",
   "execution_count": 4,
   "id": "4f2748b6",
   "metadata": {
    "execution": {
     "iopub.execute_input": "2024-07-07T20:35:11.771348Z",
     "iopub.status.busy": "2024-07-07T20:35:11.770338Z",
     "iopub.status.idle": "2024-07-07T20:35:11.780009Z",
     "shell.execute_reply": "2024-07-07T20:35:11.778886Z"
    },
    "papermill": {
     "duration": 0.022034,
     "end_time": "2024-07-07T20:35:11.782428",
     "exception": false,
     "start_time": "2024-07-07T20:35:11.760394",
     "status": "completed"
    },
    "tags": []
   },
   "outputs": [
    {
     "data": {
      "text/plain": [
       "['sample_submission.csv',\n",
       " 'train_images',\n",
       " 'train_series_descriptions.csv',\n",
       " 'train.csv',\n",
       " 'train_label_coordinates.csv',\n",
       " 'test_series_descriptions.csv',\n",
       " 'test_images']"
      ]
     },
     "execution_count": 4,
     "metadata": {},
     "output_type": "execute_result"
    }
   ],
   "source": [
    "DATA_PATH = Path(\"/kaggle/input/rsna-2024-lumbar-spine-degenerative-classification\")\n",
    "os.listdir(DATA_PATH)"
   ]
  },
  {
   "cell_type": "code",
   "execution_count": 5,
   "id": "bcea1a02",
   "metadata": {
    "execution": {
     "iopub.execute_input": "2024-07-07T20:35:11.802897Z",
     "iopub.status.busy": "2024-07-07T20:35:11.802056Z",
     "iopub.status.idle": "2024-07-07T20:35:11.875448Z",
     "shell.execute_reply": "2024-07-07T20:35:11.874316Z"
    },
    "papermill": {
     "duration": 0.086897,
     "end_time": "2024-07-07T20:35:11.878433",
     "exception": false,
     "start_time": "2024-07-07T20:35:11.791536",
     "status": "completed"
    },
    "tags": []
   },
   "outputs": [],
   "source": [
    "sample_df = pd.read_csv(DATA_PATH/\"sample_submission.csv\")\n",
    "test_desc = pd.read_csv(DATA_PATH/\"test_series_descriptions.csv\")\n",
    "train_desc = pd.read_csv(DATA_PATH/\"train_series_descriptions.csv\")\n",
    "train_main = pd.read_csv(DATA_PATH/\"train.csv\")"
   ]
  },
  {
   "cell_type": "markdown",
   "id": "e3314cb0",
   "metadata": {
    "papermill": {
     "duration": 0.008296,
     "end_time": "2024-07-07T20:35:11.895720",
     "exception": false,
     "start_time": "2024-07-07T20:35:11.887424",
     "status": "completed"
    },
    "tags": []
   },
   "source": [
    "# Create dataset"
   ]
  },
  {
   "cell_type": "code",
   "execution_count": 6,
   "id": "87e4a06c",
   "metadata": {
    "execution": {
     "iopub.execute_input": "2024-07-07T20:35:11.915787Z",
     "iopub.status.busy": "2024-07-07T20:35:11.914719Z",
     "iopub.status.idle": "2024-07-07T20:35:11.985006Z",
     "shell.execute_reply": "2024-07-07T20:35:11.983778Z"
    },
    "papermill": {
     "duration": 0.083117,
     "end_time": "2024-07-07T20:35:11.987663",
     "exception": false,
     "start_time": "2024-07-07T20:35:11.904546",
     "status": "completed"
    },
    "tags": []
   },
   "outputs": [
    {
     "data": {
      "text/html": [
       "<div>\n",
       "<style scoped>\n",
       "    .dataframe tbody tr th:only-of-type {\n",
       "        vertical-align: middle;\n",
       "    }\n",
       "\n",
       "    .dataframe tbody tr th {\n",
       "        vertical-align: top;\n",
       "    }\n",
       "\n",
       "    .dataframe thead th {\n",
       "        text-align: right;\n",
       "    }\n",
       "</style>\n",
       "<table border=\"1\" class=\"dataframe\">\n",
       "  <thead>\n",
       "    <tr style=\"text-align: right;\">\n",
       "      <th></th>\n",
       "      <th>study_id</th>\n",
       "      <th>series_id</th>\n",
       "      <th>series_description</th>\n",
       "      <th>image_path</th>\n",
       "      <th>condition</th>\n",
       "      <th>row_id</th>\n",
       "      <th>target</th>\n",
       "    </tr>\n",
       "  </thead>\n",
       "  <tbody>\n",
       "    <tr>\n",
       "      <th>0</th>\n",
       "      <td>44036939</td>\n",
       "      <td>2828203845</td>\n",
       "      <td>Sagittal T1</td>\n",
       "      <td>/kaggle/input/rsna-2024-lumbar-spine-degenerat...</td>\n",
       "      <td>left_neural_foraminal_narrowing</td>\n",
       "      <td>44036939_left_neural_foraminal_narrowing</td>\n",
       "      <td>0</td>\n",
       "    </tr>\n",
       "    <tr>\n",
       "      <th>1</th>\n",
       "      <td>44036939</td>\n",
       "      <td>2828203845</td>\n",
       "      <td>Sagittal T1</td>\n",
       "      <td>/kaggle/input/rsna-2024-lumbar-spine-degenerat...</td>\n",
       "      <td>left_neural_foraminal_narrowing</td>\n",
       "      <td>44036939_left_neural_foraminal_narrowing</td>\n",
       "      <td>0</td>\n",
       "    </tr>\n",
       "    <tr>\n",
       "      <th>2</th>\n",
       "      <td>44036939</td>\n",
       "      <td>2828203845</td>\n",
       "      <td>Sagittal T1</td>\n",
       "      <td>/kaggle/input/rsna-2024-lumbar-spine-degenerat...</td>\n",
       "      <td>left_neural_foraminal_narrowing</td>\n",
       "      <td>44036939_left_neural_foraminal_narrowing</td>\n",
       "      <td>0</td>\n",
       "    </tr>\n",
       "    <tr>\n",
       "      <th>3</th>\n",
       "      <td>44036939</td>\n",
       "      <td>2828203845</td>\n",
       "      <td>Sagittal T1</td>\n",
       "      <td>/kaggle/input/rsna-2024-lumbar-spine-degenerat...</td>\n",
       "      <td>left_neural_foraminal_narrowing</td>\n",
       "      <td>44036939_left_neural_foraminal_narrowing</td>\n",
       "      <td>0</td>\n",
       "    </tr>\n",
       "    <tr>\n",
       "      <th>4</th>\n",
       "      <td>44036939</td>\n",
       "      <td>2828203845</td>\n",
       "      <td>Sagittal T1</td>\n",
       "      <td>/kaggle/input/rsna-2024-lumbar-spine-degenerat...</td>\n",
       "      <td>left_neural_foraminal_narrowing</td>\n",
       "      <td>44036939_left_neural_foraminal_narrowing</td>\n",
       "      <td>0</td>\n",
       "    </tr>\n",
       "  </tbody>\n",
       "</table>\n",
       "</div>"
      ],
      "text/plain": [
       "   study_id   series_id series_description  \\\n",
       "0  44036939  2828203845        Sagittal T1   \n",
       "1  44036939  2828203845        Sagittal T1   \n",
       "2  44036939  2828203845        Sagittal T1   \n",
       "3  44036939  2828203845        Sagittal T1   \n",
       "4  44036939  2828203845        Sagittal T1   \n",
       "\n",
       "                                          image_path  \\\n",
       "0  /kaggle/input/rsna-2024-lumbar-spine-degenerat...   \n",
       "1  /kaggle/input/rsna-2024-lumbar-spine-degenerat...   \n",
       "2  /kaggle/input/rsna-2024-lumbar-spine-degenerat...   \n",
       "3  /kaggle/input/rsna-2024-lumbar-spine-degenerat...   \n",
       "4  /kaggle/input/rsna-2024-lumbar-spine-degenerat...   \n",
       "\n",
       "                         condition                                    row_id  \\\n",
       "0  left_neural_foraminal_narrowing  44036939_left_neural_foraminal_narrowing   \n",
       "1  left_neural_foraminal_narrowing  44036939_left_neural_foraminal_narrowing   \n",
       "2  left_neural_foraminal_narrowing  44036939_left_neural_foraminal_narrowing   \n",
       "3  left_neural_foraminal_narrowing  44036939_left_neural_foraminal_narrowing   \n",
       "4  left_neural_foraminal_narrowing  44036939_left_neural_foraminal_narrowing   \n",
       "\n",
       "   target  \n",
       "0       0  \n",
       "1       0  \n",
       "2       0  \n",
       "3       0  \n",
       "4       0  "
      ]
     },
     "execution_count": 6,
     "metadata": {},
     "output_type": "execute_result"
    }
   ],
   "source": [
    "# define the base path for test images\n",
    "base_path = f\"{str(DATA_PATH)}/test_images\"\n",
    "\n",
    "# function to get image paths for a series\n",
    "def get_image_paths(row):\n",
    "    series_path = os.path.join(base_path, str(row['study_id']), str(row['series_id']))\n",
    "    if os.path.exists(series_path):\n",
    "        return [\n",
    "            os.path.join(series_path, f) for f in os.listdir(series_path) if os.path.isfile(os.path.join(series_path, f))\n",
    "        ]\n",
    "    return []\n",
    "\n",
    "# Mapping of series_description to conditions\n",
    "condition_mapping = {\n",
    "    'Sagittal T1': {'left': 'left_neural_foraminal_narrowing', 'right': 'right_neural_foraminal_narrowing'},\n",
    "    'Axial T2': {'left': 'left_subarticular_stenosis', 'right': 'right_subarticular_stenosis'},\n",
    "    'Sagittal T2/STIR': 'spinal_canal_stenosis'\n",
    "}\n",
    "\n",
    "# Create a list to store the expanded rows\n",
    "expanded_rows = []\n",
    "\n",
    "# Expand the dataframe by adding new rows for each file path\n",
    "for index, row in test_desc.iterrows():\n",
    "    image_paths = get_image_paths(row)\n",
    "    conditions = condition_mapping.get(row['series_description'], {})\n",
    "    if isinstance(conditions, str):  # Single condition\n",
    "        conditions = {'left': conditions, 'right': conditions}\n",
    "    for side, condition in conditions.items():\n",
    "        for image_path in image_paths:\n",
    "            expanded_rows.append({\n",
    "                'study_id': row['study_id'],\n",
    "                'series_id': row['series_id'],\n",
    "                'series_description': row['series_description'],\n",
    "                'image_path': image_path,\n",
    "                'condition': condition,\n",
    "                'row_id': f\"{row['study_id']}_{condition}\"\n",
    "            })\n",
    "\n",
    "# Create a new dataframe from the expanded rows\n",
    "expanded_test_desc = pd.DataFrame(expanded_rows)\n",
    "\n",
    "test_data = expanded_test_desc.copy()\n",
    "test_data['target'] = 0\n",
    "test_data.head()"
   ]
  },
  {
   "cell_type": "code",
   "execution_count": 7,
   "id": "e18d816b",
   "metadata": {
    "execution": {
     "iopub.execute_input": "2024-07-07T20:35:12.007749Z",
     "iopub.status.busy": "2024-07-07T20:35:12.007319Z",
     "iopub.status.idle": "2024-07-07T20:35:12.012934Z",
     "shell.execute_reply": "2024-07-07T20:35:12.011878Z"
    },
    "papermill": {
     "duration": 0.018624,
     "end_time": "2024-07-07T20:35:12.015361",
     "exception": false,
     "start_time": "2024-07-07T20:35:11.996737",
     "status": "completed"
    },
    "tags": []
   },
   "outputs": [],
   "source": [
    "label2id = {\"Normal/Mild\": 0, \"Moderate\": 1, \"Severe\": 2}\n",
    "id2label = {v:k for k,v in label2id.items()}"
   ]
  },
  {
   "cell_type": "code",
   "execution_count": 8,
   "id": "e1ac13ca",
   "metadata": {
    "execution": {
     "iopub.execute_input": "2024-07-07T20:35:12.035266Z",
     "iopub.status.busy": "2024-07-07T20:35:12.034836Z",
     "iopub.status.idle": "2024-07-07T20:35:12.041296Z",
     "shell.execute_reply": "2024-07-07T20:35:12.040177Z"
    },
    "papermill": {
     "duration": 0.019397,
     "end_time": "2024-07-07T20:35:12.043866",
     "exception": false,
     "start_time": "2024-07-07T20:35:12.024469",
     "status": "completed"
    },
    "tags": []
   },
   "outputs": [],
   "source": [
    "def load_dicom(path):\n",
    "    dicom = pydicom.read_file(path)\n",
    "    data = dicom.pixel_array\n",
    "    data = data - np.min(data)\n",
    "    if np.max(data) != 0:\n",
    "        data = data / np.max(data)\n",
    "    data = (data * 255).astype(np.uint8)\n",
    "    return data"
   ]
  },
  {
   "cell_type": "code",
   "execution_count": 9,
   "id": "f2c664a8",
   "metadata": {
    "execution": {
     "iopub.execute_input": "2024-07-07T20:35:12.064935Z",
     "iopub.status.busy": "2024-07-07T20:35:12.063902Z",
     "iopub.status.idle": "2024-07-07T20:35:12.074222Z",
     "shell.execute_reply": "2024-07-07T20:35:12.073051Z"
    },
    "papermill": {
     "duration": 0.023702,
     "end_time": "2024-07-07T20:35:12.076800",
     "exception": false,
     "start_time": "2024-07-07T20:35:12.053098",
     "status": "completed"
    },
    "tags": []
   },
   "outputs": [],
   "source": [
    "class CustomDataset(Dataset):\n",
    "    def __init__(self, dataframe, transform=None, label_name='target'):\n",
    "        self.dataframe = dataframe\n",
    "        self.transform = transform\n",
    "        self.label = dataframe.loc[:, label_name]\n",
    "\n",
    "    def __len__(self):\n",
    "        return len(self.dataframe)\n",
    "\n",
    "    def __getitem__(self, index):\n",
    "        image_path = self.dataframe['image_path'][index]\n",
    "        image = load_dicom(image_path)  # Define this function to load your DICOM images\n",
    "        target = self.dataframe['target'][index]\n",
    "        \n",
    "        if self.transform:\n",
    "            image = cv2.cvtColor(image, cv2.COLOR_GRAY2BGR)\n",
    "            image = self.transform(image=image)['image']\n",
    "            image = image.transpose(2, 0, 1).astype(np.float32) / 255.\n",
    "\n",
    "        return image, torch.tensor(target).float()\n",
    "    \n",
    "    def get_labels(self):\n",
    "        return self.label"
   ]
  },
  {
   "cell_type": "code",
   "execution_count": 10,
   "id": "3efa98c8",
   "metadata": {
    "execution": {
     "iopub.execute_input": "2024-07-07T20:35:12.097444Z",
     "iopub.status.busy": "2024-07-07T20:35:12.097000Z",
     "iopub.status.idle": "2024-07-07T20:35:12.105469Z",
     "shell.execute_reply": "2024-07-07T20:35:12.104288Z"
    },
    "papermill": {
     "duration": 0.022053,
     "end_time": "2024-07-07T20:35:12.108236",
     "exception": false,
     "start_time": "2024-07-07T20:35:12.086183",
     "status": "completed"
    },
    "tags": []
   },
   "outputs": [],
   "source": [
    "def get_transforms(height, width):\n",
    "    train_tsfm = A.Compose([\n",
    "        A.Resize(height=height, width=width, interpolation=cv2.INTER_CUBIC, p=1.0), # also INTER_LANCZOS4\n",
    "        # Geometric augmentations\n",
    "        A.Perspective(p=0.5),\n",
    "        A.HorizontalFlip(p=0.5),\n",
    "        A.VerticalFlip(p=0.5),\n",
    "        A.Rotate(limit=(-30, 30), p=0.5), \n",
    "        \n",
    "        A.CenterCrop(height=height, width=width, p=1.0),\n",
    "    ])\n",
    "    \n",
    "    valid_tsfm = A.Compose([\n",
    "        A.Resize(height=height, width=width),\n",
    "    ])\n",
    "    return {\"train\": train_tsfm, \"eval\": valid_tsfm}"
   ]
  },
  {
   "cell_type": "code",
   "execution_count": 11,
   "id": "9b171ff7",
   "metadata": {
    "execution": {
     "iopub.execute_input": "2024-07-07T20:35:12.128483Z",
     "iopub.status.busy": "2024-07-07T20:35:12.128047Z",
     "iopub.status.idle": "2024-07-07T20:35:12.140979Z",
     "shell.execute_reply": "2024-07-07T20:35:12.139710Z"
    },
    "papermill": {
     "duration": 0.025882,
     "end_time": "2024-07-07T20:35:12.143310",
     "exception": false,
     "start_time": "2024-07-07T20:35:12.117428",
     "status": "completed"
    },
    "tags": []
   },
   "outputs": [],
   "source": [
    "# def get_dataloaders(data, cfg, split=\"train\"):\n",
    "#     img_size = cfg['img_size']\n",
    "#     height, width = img_size, img_size\n",
    "#     tsfm = get_transforms(height=height, width=width)\n",
    "#     if split == 'train':\n",
    "#         tr_tsfm = tsfm['train']\n",
    "#         ds = CustomDataset(data, transform=tr_tsfm)\n",
    "#         labels = ds.get_labels()\n",
    "# #         class_weights = torch.tensor(compute_class_weight(class_weight=\"balanced\", classes=np.unique(labels), y=labels))\n",
    "#         class_weights = torch.tensor([1, 2, 4])\n",
    "#         samples_weights = class_weights[labels]\n",
    "# #         print(class_weights)\n",
    "#         sampler = WeightedRandomSampler(weights=samples_weights, \n",
    "#                                         num_samples=len(samples_weights), \n",
    "#                                         replacement=True)\n",
    "\n",
    "#         dls = DataLoader(ds, \n",
    "#                          batch_size=cfg['batch_size'], \n",
    "#                          sampler=sampler, \n",
    "#                          num_workers=os.cpu_count(), \n",
    "#                          pin_memory=True, \n",
    "#                          drop_last=True)\n",
    "        \n",
    "#     elif split == 'valid' or split == 'test':\n",
    "#         eval_tsfm = tsfm['eval']\n",
    "#         ds = CustomDataset(data, transform=eval_tsfm)\n",
    "#         dls = DataLoader(ds, \n",
    "#                          batch_size=2*cfg['batch_size'], \n",
    "#                          sampler=SequentialSampler(ds),\n",
    "#                          num_workers=os.cpu_count(), \n",
    "#                          pin_memory=True,\n",
    "#                          drop_last=False)\n",
    "#     else:\n",
    "#         raise Exception(\"Split should be 'train' or 'valid' or 'test'!!!\")\n",
    "#     return dls\n",
    "\n",
    "def get_dataloaders(data, cfg, split=\"train\"):\n",
    "    img_size = cfg['img_size']\n",
    "    height, width = img_size, img_size\n",
    "    tsfm = get_transforms(height=height, width=width)\n",
    "    if split == 'train':\n",
    "        tr_tsfm = tsfm['train']\n",
    "        ds = CustomDataset(data, transform=tr_tsfm)\n",
    "        labels = ds.get_labels()\n",
    "#         class_weights = torch.tensor(compute_class_weight(class_weight=\"balanced\", classes=np.unique(labels), y=labels))\n",
    "        class_weights = torch.tensor([1, 2, 4])\n",
    "        samples_weights = class_weights[labels]\n",
    "#         print(class_weights)\n",
    "        sampler = WeightedRandomSampler(weights=samples_weights, \n",
    "                                        num_samples=len(samples_weights), \n",
    "                                        replacement=True)\n",
    "\n",
    "        dls = DataLoader(ds, \n",
    "                         batch_size=cfg['batch_size'], \n",
    "                         sampler=sampler, \n",
    "                         num_workers=os.cpu_count(), \n",
    "                         drop_last=True, \n",
    "                         pin_memory=True)\n",
    "        \n",
    "    elif split == 'valid' or split == 'test':\n",
    "        eval_tsfm = tsfm['eval']\n",
    "        ds = CustomDataset(data, transform=eval_tsfm)\n",
    "        dls = DataLoader(ds, \n",
    "                         batch_size=2*cfg['batch_size'], \n",
    "                         shuffle=False, \n",
    "                         num_workers=os.cpu_count(), \n",
    "                         drop_last=False, \n",
    "                         pin_memory=True)\n",
    "    else:\n",
    "        raise Exception(\"Split should be 'train' or 'valid' or 'test'!!!\")\n",
    "    return dls"
   ]
  },
  {
   "cell_type": "markdown",
   "id": "e4dc3e70",
   "metadata": {
    "papermill": {
     "duration": 0.009616,
     "end_time": "2024-07-07T20:35:12.162125",
     "exception": false,
     "start_time": "2024-07-07T20:35:12.152509",
     "status": "completed"
    },
    "tags": []
   },
   "source": [
    "# Load Model"
   ]
  },
  {
   "cell_type": "code",
   "execution_count": 12,
   "id": "037d4f02",
   "metadata": {
    "execution": {
     "iopub.execute_input": "2024-07-07T20:35:12.181960Z",
     "iopub.status.busy": "2024-07-07T20:35:12.181522Z",
     "iopub.status.idle": "2024-07-07T20:35:12.193700Z",
     "shell.execute_reply": "2024-07-07T20:35:12.192447Z"
    },
    "papermill": {
     "duration": 0.025098,
     "end_time": "2024-07-07T20:35:12.196209",
     "exception": false,
     "start_time": "2024-07-07T20:35:12.171111",
     "status": "completed"
    },
    "tags": []
   },
   "outputs": [],
   "source": [
    "class TimmModel(nn.Module):\n",
    "    def __init__(self, backbone, pretrained=False):\n",
    "        super(TimmModel, self).__init__()\n",
    "\n",
    "        self.encoder = timm.create_model(\n",
    "            backbone,\n",
    "            num_classes=CONFIG[\"out_dim\"],\n",
    "            features_only=False,\n",
    "            drop_rate=CONFIG[\"drop_rate\"],\n",
    "            drop_path_rate=CONFIG[\"drop_path_rate\"],\n",
    "            pretrained=pretrained\n",
    "        )\n",
    "\n",
    "        if 'efficient' in backbone:\n",
    "            hdim = self.encoder.conv_head.out_channels\n",
    "            self.encoder.classifier = nn.Identity()\n",
    "        elif 'convnext' in backbone:\n",
    "            hdim = self.encoder.head.fc.in_features\n",
    "            self.encoder.head.fc = nn.Identity()\n",
    "\n",
    "\n",
    "        self.lstm = nn.LSTM(hdim, 256, num_layers=2, dropout=CONFIG[\"drop_rate\"], bidirectional=True, batch_first=True)\n",
    "        self.head = nn.Sequential(\n",
    "            nn.Linear(512, 256),\n",
    "            nn.BatchNorm1d(256),\n",
    "            nn.Dropout(CONFIG[\"drop_rate_last\"]),\n",
    "            nn.LeakyReLU(0.1),\n",
    "            nn.Linear(256, CONFIG[\"out_dim\"]),\n",
    "        )\n",
    "\n",
    "    def forward(self, x):\n",
    "        feat = self.encoder(x)\n",
    "        feat, _ = self.lstm(feat)\n",
    "        feat = self.head(feat)\n",
    "        return feat"
   ]
  },
  {
   "cell_type": "markdown",
   "id": "12799838",
   "metadata": {
    "papermill": {
     "duration": 0.008875,
     "end_time": "2024-07-07T20:35:12.214241",
     "exception": false,
     "start_time": "2024-07-07T20:35:12.205366",
     "status": "completed"
    },
    "tags": []
   },
   "source": [
    "# Predictions\n",
    "Here we have code for prediction with and without test time augmentation\n",
    "\n",
    "Test time augmentation (TTA) is useful for test images that the model is pretty unsure. It takes approximately 2 hours as compared to the normal prediction which takes roughly 30 minutes"
   ]
  },
  {
   "cell_type": "code",
   "execution_count": 13,
   "id": "9de512af",
   "metadata": {
    "execution": {
     "iopub.execute_input": "2024-07-07T20:35:12.236840Z",
     "iopub.status.busy": "2024-07-07T20:35:12.235675Z",
     "iopub.status.idle": "2024-07-07T20:35:12.250442Z",
     "shell.execute_reply": "2024-07-07T20:35:12.249160Z"
    },
    "papermill": {
     "duration": 0.028007,
     "end_time": "2024-07-07T20:35:12.253231",
     "exception": false,
     "start_time": "2024-07-07T20:35:12.225224",
     "status": "completed"
    },
    "tags": []
   },
   "outputs": [],
   "source": [
    "FLIPS = [None, [-1], [-2], [-2, -1]]\n",
    "\n",
    "def inference_loop(model, loader):\n",
    "    model.to(CONFIG[\"device\"])\n",
    "    model.eval()\n",
    "    preds = np.empty((0, 3))\n",
    "    with torch.no_grad():\n",
    "        for batch in tqdm(loader):\n",
    "            images, labels = batch\n",
    "            images = images.to(CONFIG[\"device\"], non_blocking=True)\n",
    "            with torch.autocast(device_type=\"cuda\", dtype=torch.float16):\n",
    "#                 logits = model(images.to(torch.float32))\n",
    "                logits = model(images)\n",
    "#                 logits = logits.mean(axis=1).softmax(dim=-1)\n",
    "                logits = logits.softmax(dim=-1)\n",
    "                preds = np.concatenate([preds, logits.detach().cpu().numpy()])\n",
    "    np.save('preds.npy', preds)\n",
    "    \n",
    "    \n",
    "def tta_inference_loop(model, loader):\n",
    "    model.to(CONFIG[\"device\"])\n",
    "    model.eval()\n",
    "    preds = np.empty((0, 3))\n",
    "    with torch.no_grad():\n",
    "        for batch in tqdm(loader):\n",
    "            images, labels = batch\n",
    "            images = images.to(CONFIG[\"device\"], non_blocking=True)\n",
    "            pred_tta = []\n",
    "            with torch.autocast(device_type=\"cuda\", dtype=torch.float16):\n",
    "                for f in FLIPS:\n",
    "                    logits = model(torch.flip(images, f) if f is not None else images)\n",
    "                    logits = logits.softmax(dim=-1)\n",
    "                    pred_tta.append(logits.detach().cpu().numpy())\n",
    "#                 preds = np.concatenate([preds, logits.detach().cpu().numpy()])\n",
    "                preds = np.concatenate([preds, np.mean(pred_tta, 0)])\n",
    "    np.save('preds.npy', preds)\n",
    "#     return preds"
   ]
  },
  {
   "cell_type": "markdown",
   "id": "f1312a0c",
   "metadata": {
    "papermill": {
     "duration": 0.008777,
     "end_time": "2024-07-07T20:35:12.271265",
     "exception": false,
     "start_time": "2024-07-07T20:35:12.262488",
     "status": "completed"
    },
    "tags": []
   },
   "source": [
    "# Load model weights\n",
    "The model is trained for 1 fold using pytorch lightning rsna-pytorchlightning and the model weights are stored using Weights and Biases artifacts and you can find them [here](https://www.kaggle.com/code/zoro666/rsna-2024-load-weights/notebook)"
   ]
  },
  {
   "cell_type": "code",
   "execution_count": 14,
   "id": "a01d0ff2",
   "metadata": {
    "execution": {
     "iopub.execute_input": "2024-07-07T20:35:12.291886Z",
     "iopub.status.busy": "2024-07-07T20:35:12.291425Z",
     "iopub.status.idle": "2024-07-07T20:35:13.013048Z",
     "shell.execute_reply": "2024-07-07T20:35:13.011883Z"
    },
    "papermill": {
     "duration": 0.735444,
     "end_time": "2024-07-07T20:35:13.015795",
     "exception": false,
     "start_time": "2024-07-07T20:35:12.280351",
     "status": "completed"
    },
    "tags": []
   },
   "outputs": [
    {
     "data": {
      "text/plain": [
       "<All keys matched successfully>"
      ]
     },
     "execution_count": 14,
     "metadata": {},
     "output_type": "execute_result"
    }
   ],
   "source": [
    "weights_path = \"/kaggle/input/rsna-2024-load-weights/model_weights.pth\"\n",
    "weights = torch.load(weights_path, map_location=torch.device(\"cpu\"))\n",
    "model = TimmModel(backbone=CONFIG[\"backbone\"], pretrained=False)\n",
    "model.load_state_dict(weights)"
   ]
  },
  {
   "cell_type": "code",
   "execution_count": 15,
   "id": "23edc428",
   "metadata": {
    "execution": {
     "iopub.execute_input": "2024-07-07T20:35:13.036254Z",
     "iopub.status.busy": "2024-07-07T20:35:13.035873Z",
     "iopub.status.idle": "2024-07-07T20:37:37.979409Z",
     "shell.execute_reply": "2024-07-07T20:37:37.977833Z"
    },
    "papermill": {
     "duration": 144.957093,
     "end_time": "2024-07-07T20:37:37.982299",
     "exception": false,
     "start_time": "2024-07-07T20:35:13.025206",
     "status": "completed"
    },
    "tags": []
   },
   "outputs": [
    {
     "data": {
      "application/vnd.jupyter.widget-view+json": {
       "model_id": "047ad085bc5c4e68922158c19e413441",
       "version_major": 2,
       "version_minor": 0
      },
      "text/plain": [
       "  0%|          | 0/7 [00:00<?, ?it/s]"
      ]
     },
     "metadata": {},
     "output_type": "display_data"
    }
   ],
   "source": [
    "dls = get_dataloaders(test_data, CONFIG, split=\"test\")\n",
    "# inference_loop(model, dls)\n",
    "tta_inference_loop(model, dls)\n",
    "# _ = Parallel(n_jobs=mp.cpu_count())(\n",
    "#     delayed(inference_loop(model, dls))\n",
    "# )\n",
    "\n",
    "preds = np.load('preds.npy')"
   ]
  },
  {
   "cell_type": "code",
   "execution_count": 16,
   "id": "5b6b28f4",
   "metadata": {
    "execution": {
     "iopub.execute_input": "2024-07-07T20:37:38.005409Z",
     "iopub.status.busy": "2024-07-07T20:37:38.004896Z",
     "iopub.status.idle": "2024-07-07T20:37:38.021777Z",
     "shell.execute_reply": "2024-07-07T20:37:38.020760Z"
    },
    "papermill": {
     "duration": 0.032377,
     "end_time": "2024-07-07T20:37:38.024454",
     "exception": false,
     "start_time": "2024-07-07T20:37:37.992077",
     "status": "completed"
    },
    "tags": []
   },
   "outputs": [],
   "source": [
    "levels = ['l1_l2', 'l2_l3', 'l3_l4', 'l4_l5', 'l5_s1']\n",
    "\n",
    "# Function to update row_id with levels\n",
    "def update_row_id(row, levels):\n",
    "    level = levels[row.name % len(levels)]\n",
    "    return f\"{row['study_id']}_{row['condition']}_{level}\"\n",
    "\n",
    "# Update row_id in expanded_test_desc to include levels\n",
    "expanded_test_desc['row_id'] = expanded_test_desc.apply(lambda row: update_row_id(row, levels), axis=1)"
   ]
  },
  {
   "cell_type": "code",
   "execution_count": 17,
   "id": "3d206386",
   "metadata": {
    "execution": {
     "iopub.execute_input": "2024-07-07T20:37:38.045566Z",
     "iopub.status.busy": "2024-07-07T20:37:38.045141Z",
     "iopub.status.idle": "2024-07-07T20:37:38.081495Z",
     "shell.execute_reply": "2024-07-07T20:37:38.080289Z"
    },
    "papermill": {
     "duration": 0.050223,
     "end_time": "2024-07-07T20:37:38.084420",
     "exception": false,
     "start_time": "2024-07-07T20:37:38.034197",
     "status": "completed"
    },
    "tags": []
   },
   "outputs": [],
   "source": [
    "expanded_test_desc[[\"normal_mild\",\"moderate\",\"severe\"]] = preds\n",
    "\n",
    "final_df = expanded_test_desc[[\"row_id\",\"normal_mild\",\"moderate\",\"severe\"]]\n",
    "\n",
    "target_cols = sample_df.columns.tolist()\n",
    "final_df = final_df.groupby('row_id').sum().reset_index()\n",
    "# normalize the columns\n",
    "final_df[target_cols[1:]] = final_df[target_cols[1:]].div(final_df[target_cols[1:]].sum(axis=1), axis=0)\n",
    "final_df[target_cols].to_csv('submission.csv', index=False)"
   ]
  },
  {
   "cell_type": "code",
   "execution_count": 18,
   "id": "73311fac",
   "metadata": {
    "execution": {
     "iopub.execute_input": "2024-07-07T20:37:38.105602Z",
     "iopub.status.busy": "2024-07-07T20:37:38.105174Z",
     "iopub.status.idle": "2024-07-07T20:37:38.130939Z",
     "shell.execute_reply": "2024-07-07T20:37:38.129713Z"
    },
    "papermill": {
     "duration": 0.039348,
     "end_time": "2024-07-07T20:37:38.133589",
     "exception": false,
     "start_time": "2024-07-07T20:37:38.094241",
     "status": "completed"
    },
    "tags": []
   },
   "outputs": [
    {
     "data": {
      "text/html": [
       "<div>\n",
       "<style scoped>\n",
       "    .dataframe tbody tr th:only-of-type {\n",
       "        vertical-align: middle;\n",
       "    }\n",
       "\n",
       "    .dataframe tbody tr th {\n",
       "        vertical-align: top;\n",
       "    }\n",
       "\n",
       "    .dataframe thead th {\n",
       "        text-align: right;\n",
       "    }\n",
       "</style>\n",
       "<table border=\"1\" class=\"dataframe\">\n",
       "  <thead>\n",
       "    <tr style=\"text-align: right;\">\n",
       "      <th></th>\n",
       "      <th>row_id</th>\n",
       "      <th>normal_mild</th>\n",
       "      <th>moderate</th>\n",
       "      <th>severe</th>\n",
       "    </tr>\n",
       "  </thead>\n",
       "  <tbody>\n",
       "    <tr>\n",
       "      <th>0</th>\n",
       "      <td>44036939_left_neural_foraminal_narrowing_l1_l2</td>\n",
       "      <td>0.199979</td>\n",
       "      <td>0.398348</td>\n",
       "      <td>0.401673</td>\n",
       "    </tr>\n",
       "    <tr>\n",
       "      <th>1</th>\n",
       "      <td>44036939_left_neural_foraminal_narrowing_l2_l3</td>\n",
       "      <td>0.206657</td>\n",
       "      <td>0.369888</td>\n",
       "      <td>0.423455</td>\n",
       "    </tr>\n",
       "    <tr>\n",
       "      <th>2</th>\n",
       "      <td>44036939_left_neural_foraminal_narrowing_l3_l4</td>\n",
       "      <td>0.265481</td>\n",
       "      <td>0.380033</td>\n",
       "      <td>0.354486</td>\n",
       "    </tr>\n",
       "    <tr>\n",
       "      <th>3</th>\n",
       "      <td>44036939_left_neural_foraminal_narrowing_l4_l5</td>\n",
       "      <td>0.353974</td>\n",
       "      <td>0.408897</td>\n",
       "      <td>0.237129</td>\n",
       "    </tr>\n",
       "    <tr>\n",
       "      <th>4</th>\n",
       "      <td>44036939_left_neural_foraminal_narrowing_l5_s1</td>\n",
       "      <td>0.243644</td>\n",
       "      <td>0.357115</td>\n",
       "      <td>0.399241</td>\n",
       "    </tr>\n",
       "    <tr>\n",
       "      <th>5</th>\n",
       "      <td>44036939_left_subarticular_stenosis_l1_l2</td>\n",
       "      <td>0.257000</td>\n",
       "      <td>0.383192</td>\n",
       "      <td>0.359809</td>\n",
       "    </tr>\n",
       "    <tr>\n",
       "      <th>6</th>\n",
       "      <td>44036939_left_subarticular_stenosis_l2_l3</td>\n",
       "      <td>0.300689</td>\n",
       "      <td>0.390066</td>\n",
       "      <td>0.309245</td>\n",
       "    </tr>\n",
       "    <tr>\n",
       "      <th>7</th>\n",
       "      <td>44036939_left_subarticular_stenosis_l3_l4</td>\n",
       "      <td>0.280163</td>\n",
       "      <td>0.344390</td>\n",
       "      <td>0.375447</td>\n",
       "    </tr>\n",
       "    <tr>\n",
       "      <th>8</th>\n",
       "      <td>44036939_left_subarticular_stenosis_l4_l5</td>\n",
       "      <td>0.344709</td>\n",
       "      <td>0.381010</td>\n",
       "      <td>0.274281</td>\n",
       "    </tr>\n",
       "    <tr>\n",
       "      <th>9</th>\n",
       "      <td>44036939_left_subarticular_stenosis_l5_s1</td>\n",
       "      <td>0.410252</td>\n",
       "      <td>0.388961</td>\n",
       "      <td>0.200787</td>\n",
       "    </tr>\n",
       "    <tr>\n",
       "      <th>10</th>\n",
       "      <td>44036939_right_neural_foraminal_narrowing_l1_l2</td>\n",
       "      <td>0.200372</td>\n",
       "      <td>0.396518</td>\n",
       "      <td>0.403110</td>\n",
       "    </tr>\n",
       "    <tr>\n",
       "      <th>11</th>\n",
       "      <td>44036939_right_neural_foraminal_narrowing_l2_l3</td>\n",
       "      <td>0.205078</td>\n",
       "      <td>0.367349</td>\n",
       "      <td>0.427573</td>\n",
       "    </tr>\n",
       "    <tr>\n",
       "      <th>12</th>\n",
       "      <td>44036939_right_neural_foraminal_narrowing_l3_l4</td>\n",
       "      <td>0.261981</td>\n",
       "      <td>0.385563</td>\n",
       "      <td>0.352456</td>\n",
       "    </tr>\n",
       "    <tr>\n",
       "      <th>13</th>\n",
       "      <td>44036939_right_neural_foraminal_narrowing_l4_l5</td>\n",
       "      <td>0.353122</td>\n",
       "      <td>0.410035</td>\n",
       "      <td>0.236843</td>\n",
       "    </tr>\n",
       "    <tr>\n",
       "      <th>14</th>\n",
       "      <td>44036939_right_neural_foraminal_narrowing_l5_s1</td>\n",
       "      <td>0.241627</td>\n",
       "      <td>0.356518</td>\n",
       "      <td>0.401854</td>\n",
       "    </tr>\n",
       "    <tr>\n",
       "      <th>15</th>\n",
       "      <td>44036939_right_subarticular_stenosis_l1_l2</td>\n",
       "      <td>0.346517</td>\n",
       "      <td>0.381388</td>\n",
       "      <td>0.272095</td>\n",
       "    </tr>\n",
       "    <tr>\n",
       "      <th>16</th>\n",
       "      <td>44036939_right_subarticular_stenosis_l2_l3</td>\n",
       "      <td>0.411628</td>\n",
       "      <td>0.391149</td>\n",
       "      <td>0.197222</td>\n",
       "    </tr>\n",
       "    <tr>\n",
       "      <th>17</th>\n",
       "      <td>44036939_right_subarticular_stenosis_l3_l4</td>\n",
       "      <td>0.258734</td>\n",
       "      <td>0.377735</td>\n",
       "      <td>0.363531</td>\n",
       "    </tr>\n",
       "    <tr>\n",
       "      <th>18</th>\n",
       "      <td>44036939_right_subarticular_stenosis_l4_l5</td>\n",
       "      <td>0.298931</td>\n",
       "      <td>0.390967</td>\n",
       "      <td>0.310103</td>\n",
       "    </tr>\n",
       "    <tr>\n",
       "      <th>19</th>\n",
       "      <td>44036939_right_subarticular_stenosis_l5_s1</td>\n",
       "      <td>0.281526</td>\n",
       "      <td>0.340645</td>\n",
       "      <td>0.377830</td>\n",
       "    </tr>\n",
       "    <tr>\n",
       "      <th>20</th>\n",
       "      <td>44036939_spinal_canal_stenosis_l1_l2</td>\n",
       "      <td>0.239121</td>\n",
       "      <td>0.310229</td>\n",
       "      <td>0.450650</td>\n",
       "    </tr>\n",
       "    <tr>\n",
       "      <th>21</th>\n",
       "      <td>44036939_spinal_canal_stenosis_l2_l3</td>\n",
       "      <td>0.375247</td>\n",
       "      <td>0.374824</td>\n",
       "      <td>0.249929</td>\n",
       "    </tr>\n",
       "    <tr>\n",
       "      <th>22</th>\n",
       "      <td>44036939_spinal_canal_stenosis_l3_l4</td>\n",
       "      <td>0.424009</td>\n",
       "      <td>0.350767</td>\n",
       "      <td>0.225224</td>\n",
       "    </tr>\n",
       "    <tr>\n",
       "      <th>23</th>\n",
       "      <td>44036939_spinal_canal_stenosis_l4_l5</td>\n",
       "      <td>0.283679</td>\n",
       "      <td>0.361159</td>\n",
       "      <td>0.355162</td>\n",
       "    </tr>\n",
       "    <tr>\n",
       "      <th>24</th>\n",
       "      <td>44036939_spinal_canal_stenosis_l5_s1</td>\n",
       "      <td>0.276325</td>\n",
       "      <td>0.315104</td>\n",
       "      <td>0.408570</td>\n",
       "    </tr>\n",
       "  </tbody>\n",
       "</table>\n",
       "</div>"
      ],
      "text/plain": [
       "                                             row_id  normal_mild  moderate  \\\n",
       "0    44036939_left_neural_foraminal_narrowing_l1_l2     0.199979  0.398348   \n",
       "1    44036939_left_neural_foraminal_narrowing_l2_l3     0.206657  0.369888   \n",
       "2    44036939_left_neural_foraminal_narrowing_l3_l4     0.265481  0.380033   \n",
       "3    44036939_left_neural_foraminal_narrowing_l4_l5     0.353974  0.408897   \n",
       "4    44036939_left_neural_foraminal_narrowing_l5_s1     0.243644  0.357115   \n",
       "5         44036939_left_subarticular_stenosis_l1_l2     0.257000  0.383192   \n",
       "6         44036939_left_subarticular_stenosis_l2_l3     0.300689  0.390066   \n",
       "7         44036939_left_subarticular_stenosis_l3_l4     0.280163  0.344390   \n",
       "8         44036939_left_subarticular_stenosis_l4_l5     0.344709  0.381010   \n",
       "9         44036939_left_subarticular_stenosis_l5_s1     0.410252  0.388961   \n",
       "10  44036939_right_neural_foraminal_narrowing_l1_l2     0.200372  0.396518   \n",
       "11  44036939_right_neural_foraminal_narrowing_l2_l3     0.205078  0.367349   \n",
       "12  44036939_right_neural_foraminal_narrowing_l3_l4     0.261981  0.385563   \n",
       "13  44036939_right_neural_foraminal_narrowing_l4_l5     0.353122  0.410035   \n",
       "14  44036939_right_neural_foraminal_narrowing_l5_s1     0.241627  0.356518   \n",
       "15       44036939_right_subarticular_stenosis_l1_l2     0.346517  0.381388   \n",
       "16       44036939_right_subarticular_stenosis_l2_l3     0.411628  0.391149   \n",
       "17       44036939_right_subarticular_stenosis_l3_l4     0.258734  0.377735   \n",
       "18       44036939_right_subarticular_stenosis_l4_l5     0.298931  0.390967   \n",
       "19       44036939_right_subarticular_stenosis_l5_s1     0.281526  0.340645   \n",
       "20             44036939_spinal_canal_stenosis_l1_l2     0.239121  0.310229   \n",
       "21             44036939_spinal_canal_stenosis_l2_l3     0.375247  0.374824   \n",
       "22             44036939_spinal_canal_stenosis_l3_l4     0.424009  0.350767   \n",
       "23             44036939_spinal_canal_stenosis_l4_l5     0.283679  0.361159   \n",
       "24             44036939_spinal_canal_stenosis_l5_s1     0.276325  0.315104   \n",
       "\n",
       "      severe  \n",
       "0   0.401673  \n",
       "1   0.423455  \n",
       "2   0.354486  \n",
       "3   0.237129  \n",
       "4   0.399241  \n",
       "5   0.359809  \n",
       "6   0.309245  \n",
       "7   0.375447  \n",
       "8   0.274281  \n",
       "9   0.200787  \n",
       "10  0.403110  \n",
       "11  0.427573  \n",
       "12  0.352456  \n",
       "13  0.236843  \n",
       "14  0.401854  \n",
       "15  0.272095  \n",
       "16  0.197222  \n",
       "17  0.363531  \n",
       "18  0.310103  \n",
       "19  0.377830  \n",
       "20  0.450650  \n",
       "21  0.249929  \n",
       "22  0.225224  \n",
       "23  0.355162  \n",
       "24  0.408570  "
      ]
     },
     "execution_count": 18,
     "metadata": {},
     "output_type": "execute_result"
    }
   ],
   "source": [
    "pd.read_csv('submission.csv')"
   ]
  },
  {
   "cell_type": "code",
   "execution_count": null,
   "id": "8252dfa8",
   "metadata": {
    "papermill": {
     "duration": 0.009715,
     "end_time": "2024-07-07T20:37:38.153302",
     "exception": false,
     "start_time": "2024-07-07T20:37:38.143587",
     "status": "completed"
    },
    "tags": []
   },
   "outputs": [],
   "source": []
  }
 ],
 "metadata": {
  "kaggle": {
   "accelerator": "none",
   "dataSources": [
    {
     "databundleVersionId": 8561470,
     "sourceId": 71549,
     "sourceType": "competition"
    },
    {
     "sourceId": 187278429,
     "sourceType": "kernelVersion"
    }
   ],
   "dockerImageVersionId": 30732,
   "isGpuEnabled": false,
   "isInternetEnabled": true,
   "language": "python",
   "sourceType": "notebook"
  },
  "kernelspec": {
   "display_name": "Python 3",
   "language": "python",
   "name": "python3"
  },
  "language_info": {
   "codemirror_mode": {
    "name": "ipython",
    "version": 3
   },
   "file_extension": ".py",
   "mimetype": "text/x-python",
   "name": "python",
   "nbconvert_exporter": "python",
   "pygments_lexer": "ipython3",
   "version": "3.10.13"
  },
  "papermill": {
   "default_parameters": {},
   "duration": 168.398353,
   "end_time": "2024-07-07T20:37:40.787615",
   "environment_variables": {},
   "exception": null,
   "input_path": "__notebook__.ipynb",
   "output_path": "__notebook__.ipynb",
   "parameters": {},
   "start_time": "2024-07-07T20:34:52.389262",
   "version": "2.5.0"
  },
  "widgets": {
   "application/vnd.jupyter.widget-state+json": {
    "state": {
     "047ad085bc5c4e68922158c19e413441": {
      "model_module": "@jupyter-widgets/controls",
      "model_module_version": "1.5.0",
      "model_name": "HBoxModel",
      "state": {
       "_dom_classes": [],
       "_model_module": "@jupyter-widgets/controls",
       "_model_module_version": "1.5.0",
       "_model_name": "HBoxModel",
       "_view_count": null,
       "_view_module": "@jupyter-widgets/controls",
       "_view_module_version": "1.5.0",
       "_view_name": "HBoxView",
       "box_style": "",
       "children": [
        "IPY_MODEL_e6295931e7bf4abf80f1c291e3e85fd3",
        "IPY_MODEL_84fd3625ed90428183f16fc4931106ce",
        "IPY_MODEL_719949a65d334934bdb84e4efaec2599"
       ],
       "layout": "IPY_MODEL_7975750bcbbe48e785cd064ad094d32c"
      }
     },
     "0ab49c6cc67248bdbc878077c633b005": {
      "model_module": "@jupyter-widgets/base",
      "model_module_version": "1.2.0",
      "model_name": "LayoutModel",
      "state": {
       "_model_module": "@jupyter-widgets/base",
       "_model_module_version": "1.2.0",
       "_model_name": "LayoutModel",
       "_view_count": null,
       "_view_module": "@jupyter-widgets/base",
       "_view_module_version": "1.2.0",
       "_view_name": "LayoutView",
       "align_content": null,
       "align_items": null,
       "align_self": null,
       "border": null,
       "bottom": null,
       "display": null,
       "flex": null,
       "flex_flow": null,
       "grid_area": null,
       "grid_auto_columns": null,
       "grid_auto_flow": null,
       "grid_auto_rows": null,
       "grid_column": null,
       "grid_gap": null,
       "grid_row": null,
       "grid_template_areas": null,
       "grid_template_columns": null,
       "grid_template_rows": null,
       "height": null,
       "justify_content": null,
       "justify_items": null,
       "left": null,
       "margin": null,
       "max_height": null,
       "max_width": null,
       "min_height": null,
       "min_width": null,
       "object_fit": null,
       "object_position": null,
       "order": null,
       "overflow": null,
       "overflow_x": null,
       "overflow_y": null,
       "padding": null,
       "right": null,
       "top": null,
       "visibility": null,
       "width": null
      }
     },
     "1daa16984ee34d5c93498ca4257d3b83": {
      "model_module": "@jupyter-widgets/controls",
      "model_module_version": "1.5.0",
      "model_name": "DescriptionStyleModel",
      "state": {
       "_model_module": "@jupyter-widgets/controls",
       "_model_module_version": "1.5.0",
       "_model_name": "DescriptionStyleModel",
       "_view_count": null,
       "_view_module": "@jupyter-widgets/base",
       "_view_module_version": "1.2.0",
       "_view_name": "StyleView",
       "description_width": ""
      }
     },
     "719949a65d334934bdb84e4efaec2599": {
      "model_module": "@jupyter-widgets/controls",
      "model_module_version": "1.5.0",
      "model_name": "HTMLModel",
      "state": {
       "_dom_classes": [],
       "_model_module": "@jupyter-widgets/controls",
       "_model_module_version": "1.5.0",
       "_model_name": "HTMLModel",
       "_view_count": null,
       "_view_module": "@jupyter-widgets/controls",
       "_view_module_version": "1.5.0",
       "_view_name": "HTMLView",
       "description": "",
       "description_tooltip": null,
       "layout": "IPY_MODEL_81a15b6ada5e4aedb9c513200c419c40",
       "placeholder": "​",
       "style": "IPY_MODEL_ad346e91adfd45b4b41bbfe3dc180585",
       "value": " 7/7 [02:24&lt;00:00, 16.06s/it]"
      }
     },
     "7975750bcbbe48e785cd064ad094d32c": {
      "model_module": "@jupyter-widgets/base",
      "model_module_version": "1.2.0",
      "model_name": "LayoutModel",
      "state": {
       "_model_module": "@jupyter-widgets/base",
       "_model_module_version": "1.2.0",
       "_model_name": "LayoutModel",
       "_view_count": null,
       "_view_module": "@jupyter-widgets/base",
       "_view_module_version": "1.2.0",
       "_view_name": "LayoutView",
       "align_content": null,
       "align_items": null,
       "align_self": null,
       "border": null,
       "bottom": null,
       "display": null,
       "flex": null,
       "flex_flow": null,
       "grid_area": null,
       "grid_auto_columns": null,
       "grid_auto_flow": null,
       "grid_auto_rows": null,
       "grid_column": null,
       "grid_gap": null,
       "grid_row": null,
       "grid_template_areas": null,
       "grid_template_columns": null,
       "grid_template_rows": null,
       "height": null,
       "justify_content": null,
       "justify_items": null,
       "left": null,
       "margin": null,
       "max_height": null,
       "max_width": null,
       "min_height": null,
       "min_width": null,
       "object_fit": null,
       "object_position": null,
       "order": null,
       "overflow": null,
       "overflow_x": null,
       "overflow_y": null,
       "padding": null,
       "right": null,
       "top": null,
       "visibility": null,
       "width": null
      }
     },
     "81a15b6ada5e4aedb9c513200c419c40": {
      "model_module": "@jupyter-widgets/base",
      "model_module_version": "1.2.0",
      "model_name": "LayoutModel",
      "state": {
       "_model_module": "@jupyter-widgets/base",
       "_model_module_version": "1.2.0",
       "_model_name": "LayoutModel",
       "_view_count": null,
       "_view_module": "@jupyter-widgets/base",
       "_view_module_version": "1.2.0",
       "_view_name": "LayoutView",
       "align_content": null,
       "align_items": null,
       "align_self": null,
       "border": null,
       "bottom": null,
       "display": null,
       "flex": null,
       "flex_flow": null,
       "grid_area": null,
       "grid_auto_columns": null,
       "grid_auto_flow": null,
       "grid_auto_rows": null,
       "grid_column": null,
       "grid_gap": null,
       "grid_row": null,
       "grid_template_areas": null,
       "grid_template_columns": null,
       "grid_template_rows": null,
       "height": null,
       "justify_content": null,
       "justify_items": null,
       "left": null,
       "margin": null,
       "max_height": null,
       "max_width": null,
       "min_height": null,
       "min_width": null,
       "object_fit": null,
       "object_position": null,
       "order": null,
       "overflow": null,
       "overflow_x": null,
       "overflow_y": null,
       "padding": null,
       "right": null,
       "top": null,
       "visibility": null,
       "width": null
      }
     },
     "84fd3625ed90428183f16fc4931106ce": {
      "model_module": "@jupyter-widgets/controls",
      "model_module_version": "1.5.0",
      "model_name": "FloatProgressModel",
      "state": {
       "_dom_classes": [],
       "_model_module": "@jupyter-widgets/controls",
       "_model_module_version": "1.5.0",
       "_model_name": "FloatProgressModel",
       "_view_count": null,
       "_view_module": "@jupyter-widgets/controls",
       "_view_module_version": "1.5.0",
       "_view_name": "ProgressView",
       "bar_style": "success",
       "description": "",
       "description_tooltip": null,
       "layout": "IPY_MODEL_0ab49c6cc67248bdbc878077c633b005",
       "max": 7.0,
       "min": 0.0,
       "orientation": "horizontal",
       "style": "IPY_MODEL_e0b1504b807f4485a667748e4eb098b8",
       "value": 7.0
      }
     },
     "ad346e91adfd45b4b41bbfe3dc180585": {
      "model_module": "@jupyter-widgets/controls",
      "model_module_version": "1.5.0",
      "model_name": "DescriptionStyleModel",
      "state": {
       "_model_module": "@jupyter-widgets/controls",
       "_model_module_version": "1.5.0",
       "_model_name": "DescriptionStyleModel",
       "_view_count": null,
       "_view_module": "@jupyter-widgets/base",
       "_view_module_version": "1.2.0",
       "_view_name": "StyleView",
       "description_width": ""
      }
     },
     "b2357977f8864f1cb49dce74f1b74d58": {
      "model_module": "@jupyter-widgets/base",
      "model_module_version": "1.2.0",
      "model_name": "LayoutModel",
      "state": {
       "_model_module": "@jupyter-widgets/base",
       "_model_module_version": "1.2.0",
       "_model_name": "LayoutModel",
       "_view_count": null,
       "_view_module": "@jupyter-widgets/base",
       "_view_module_version": "1.2.0",
       "_view_name": "LayoutView",
       "align_content": null,
       "align_items": null,
       "align_self": null,
       "border": null,
       "bottom": null,
       "display": null,
       "flex": null,
       "flex_flow": null,
       "grid_area": null,
       "grid_auto_columns": null,
       "grid_auto_flow": null,
       "grid_auto_rows": null,
       "grid_column": null,
       "grid_gap": null,
       "grid_row": null,
       "grid_template_areas": null,
       "grid_template_columns": null,
       "grid_template_rows": null,
       "height": null,
       "justify_content": null,
       "justify_items": null,
       "left": null,
       "margin": null,
       "max_height": null,
       "max_width": null,
       "min_height": null,
       "min_width": null,
       "object_fit": null,
       "object_position": null,
       "order": null,
       "overflow": null,
       "overflow_x": null,
       "overflow_y": null,
       "padding": null,
       "right": null,
       "top": null,
       "visibility": null,
       "width": null
      }
     },
     "e0b1504b807f4485a667748e4eb098b8": {
      "model_module": "@jupyter-widgets/controls",
      "model_module_version": "1.5.0",
      "model_name": "ProgressStyleModel",
      "state": {
       "_model_module": "@jupyter-widgets/controls",
       "_model_module_version": "1.5.0",
       "_model_name": "ProgressStyleModel",
       "_view_count": null,
       "_view_module": "@jupyter-widgets/base",
       "_view_module_version": "1.2.0",
       "_view_name": "StyleView",
       "bar_color": null,
       "description_width": ""
      }
     },
     "e6295931e7bf4abf80f1c291e3e85fd3": {
      "model_module": "@jupyter-widgets/controls",
      "model_module_version": "1.5.0",
      "model_name": "HTMLModel",
      "state": {
       "_dom_classes": [],
       "_model_module": "@jupyter-widgets/controls",
       "_model_module_version": "1.5.0",
       "_model_name": "HTMLModel",
       "_view_count": null,
       "_view_module": "@jupyter-widgets/controls",
       "_view_module_version": "1.5.0",
       "_view_name": "HTMLView",
       "description": "",
       "description_tooltip": null,
       "layout": "IPY_MODEL_b2357977f8864f1cb49dce74f1b74d58",
       "placeholder": "​",
       "style": "IPY_MODEL_1daa16984ee34d5c93498ca4257d3b83",
       "value": "100%"
      }
     }
    },
    "version_major": 2,
    "version_minor": 0
   }
  }
 },
 "nbformat": 4,
 "nbformat_minor": 5
}
